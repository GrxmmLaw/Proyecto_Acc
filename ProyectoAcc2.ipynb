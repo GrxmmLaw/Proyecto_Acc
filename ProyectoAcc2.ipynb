{
 "cells": [
  {
   "cell_type": "code",
   "execution_count": 1,
   "metadata": {
    "executionInfo": {
     "elapsed": 3510,
     "status": "ok",
     "timestamp": 1750698878587,
     "user": {
      "displayName": "Iván Zapata",
      "userId": "05768727519449385072"
     },
     "user_tz": 240
    },
    "id": "9SpGvuZVqzh3"
   },
   "outputs": [],
   "source": [
    "import pandas as pd\n",
    "import numpy as np\n",
    "import matplotlib.pyplot as plt\n",
    "import plotly.express as px\n",
    "from sklearn.ensemble import RandomForestClassifier\n",
    "from sklearn.model_selection import train_test_split\n",
    "from sklearn.metrics import classification_report, confusion_matrix, accuracy_score, ConfusionMatrixDisplay\n",
    "from sklearn.preprocessing import OneHotEncoder, StandardScaler\n",
    "from sklearn.compose import ColumnTransformer\n",
    "from sklearn.preprocessing import LabelEncoder\n",
    "from sklearn.model_selection import RandomizedSearchCV\n",
    "from sklearn.metrics import classification_report"
   ]
  },
  {
   "cell_type": "code",
   "execution_count": null,
   "metadata": {
    "executionInfo": {
     "elapsed": 64222,
     "status": "ok",
     "timestamp": 1750698984922,
     "user": {
      "displayName": "Iván Zapata",
      "userId": "05768727519449385072"
     },
     "user_tz": 240
    },
    "id": "oHoBLrsLrmKa"
   },
   "outputs": [],
   "source": [
    "path = \"Proyecto2/Processed_Dataframes/\"\n",
    "\n",
    "Accidentes24_data = pd.read_excel(\"Proyecto2/Processed_Dataframes/Accidentes24_data.xlsx\", index_col=None)\n",
    "Personas24_data = pd.read_excel(\"Proyecto2/Processed_Dataframes/Personas24_data.xlsx\", index_col=None)\n",
    "\n",
    "Accidentes25_data = pd.read_excel(\"Proyecto2/Processed_Dataframes/Accidentes25_data.xlsx\", index_col=None)\n",
    "Personas25_data = pd.read_excel(\"Proyecto2/Processed_Dataframes/Personas25_data.xlsx\", index_col=None)"
   ]
  },
  {
   "cell_type": "code",
   "execution_count": 64,
   "metadata": {
    "colab": {
     "base_uri": "https://localhost:8080/"
    },
    "executionInfo": {
     "elapsed": 514,
     "status": "ok",
     "timestamp": 1750698989533,
     "user": {
      "displayName": "Iván Zapata",
      "userId": "05768727519449385072"
     },
     "user_tz": 240
    },
    "id": "w5OJUNd6yY9M",
    "outputId": "04d4a88b-9a73-4a84-8416-4b7a74861bf0"
   },
   "outputs": [
    {
     "name": "stderr",
     "output_type": "stream",
     "text": [
      "C:\\Users\\ivans\\AppData\\Local\\Temp\\ipykernel_15768\\2708195555.py:6: UserWarning: Could not infer format, so each element will be parsed individually, falling back to `dateutil`. To ensure parsing is consistent and as-expected, please specify a format.\n",
      "  Accidentes24_data_rev['Hora'] = pd.to_datetime(Accidentes24_data_rev['Hora'], errors='coerce')\n",
      "C:\\Users\\ivans\\AppData\\Local\\Temp\\ipykernel_15768\\2708195555.py:7: UserWarning: Could not infer format, so each element will be parsed individually, falling back to `dateutil`. To ensure parsing is consistent and as-expected, please specify a format.\n",
      "  Accidentes25_data_rev['HORA'] = pd.to_datetime(Accidentes25_data_rev['HORA'], errors='coerce')\n",
      "C:\\Users\\ivans\\AppData\\Local\\Temp\\ipykernel_15768\\2708195555.py:9: UserWarning: Could not infer format, so each element will be parsed individually, falling back to `dateutil`. To ensure parsing is consistent and as-expected, please specify a format.\n",
      "  Personas24_data_rev['Hora'] = pd.to_datetime(Personas24_data_rev['Hora'], errors='coerce')\n",
      "C:\\Users\\ivans\\AppData\\Local\\Temp\\ipykernel_15768\\2708195555.py:10: UserWarning: Could not infer format, so each element will be parsed individually, falling back to `dateutil`. To ensure parsing is consistent and as-expected, please specify a format.\n",
      "  Personas25_data_rev['HORA'] = pd.to_datetime(Personas25_data_rev['HORA'], errors='coerce')\n"
     ]
    }
   ],
   "source": [
    "Accidentes24_data_rev = Accidentes24_data.copy()\n",
    "Personas24_data_rev = Personas24_data.copy()\n",
    "Accidentes25_data_rev = Accidentes25_data.copy()\n",
    "Personas25_data_rev = Personas25_data.copy()\n",
    "\n",
    "Accidentes24_data_rev['Hora'] = pd.to_datetime(Accidentes24_data_rev['Hora'], errors='coerce')\n",
    "Accidentes25_data_rev['HORA'] = pd.to_datetime(Accidentes25_data_rev['HORA'], errors='coerce')\n",
    "\n",
    "Personas24_data_rev['Hora'] = pd.to_datetime(Personas24_data_rev['Hora'], errors='coerce')\n",
    "Personas25_data_rev['HORA'] = pd.to_datetime(Personas25_data_rev['HORA'], errors='coerce')\n",
    "\n",
    "def normalizar_columna(col):\n",
    "    col = col.strip().lower()\n",
    "    col = col.replace('á', 'a')\n",
    "    col = col.replace('é', 'e')\n",
    "    col = col.replace('í', 'i')\n",
    "    col = col.replace('ó', 'o')\n",
    "    col = col.replace('ú', 'u')\n",
    "    col = col.replace('ñ', 'ñ')\n",
    "    col = col.replace('ü', 'u')\n",
    "    return col\n",
    "\n",
    "Accidentes24_data_rev['Región'] = Accidentes24_data_rev['Región'].apply(normalizar_columna)\n",
    "Accidentes24_data_rev['Urbano/Rural'] = Accidentes24_data_rev['Urbano/Rural'].apply(normalizar_columna)\n",
    "Accidentes24_data_rev['Nomcomuna'] = Accidentes24_data_rev['Nomcomuna'].apply(normalizar_columna)\n",
    "Personas24_data_rev['Región'] = Personas24_data_rev['Región'].apply(normalizar_columna)"
   ]
  },
  {
   "cell_type": "code",
   "execution_count": 65,
   "metadata": {
    "colab": {
     "base_uri": "https://localhost:8080/"
    },
    "executionInfo": {
     "elapsed": 26,
     "status": "ok",
     "timestamp": 1750646054990,
     "user": {
      "displayName": "Maximiliano Esteban López Becerra",
      "userId": "03445921179336485559"
     },
     "user_tz": 240
    },
    "id": "UbFlRGqq9QLe",
    "outputId": "79984928-4ca2-4c24-ca33-d762d5690e89"
   },
   "outputs": [
    {
     "name": "stdout",
     "output_type": "stream",
     "text": [
      "Dataframe Acc24: columnas -> ['Idaccidente', 'Fecha', 'Mes', 'Hora', 'Comuna', 'Nomcomuna', 'Región', 'Accdtes.', 'Causas', 'Urbano/Rural', 'Calleuno', 'Calledos', 'Frentenumero', 'Ruta', 'Ubicación km', 'Muertos', 'Graves', 'M/Grave', 'Leves', 'Ilesos', 'Parte Nro.', 'Tribunal']\n",
      "-------------------------------------------------------------------\n",
      "Dataframe Acc25: columnas -> ['ID', 'FECHA', 'MES', 'HORA', 'COMUNA', 'ZONA', 'TIPO', 'CAUSA', 'SECTOR', 'CALLE_1', 'CALLE_2', 'KM', 'FALLECIDO', 'GRAVE', 'M/GRAVE', 'LEVE', 'ILESO', 'PARTE NRO.', 'TRIBUNAL']\n",
      "-------------------------------------------------------------------\n",
      "Dataframe Perso24: columnas -> ['Idaccidente', 'Fecha', 'Mes', 'Hora', 'Comuna', 'Nomcomuna', 'Región', 'Calidad', 'Sexo', 'Edad', 'Resultado']\n",
      "-------------------------------------------------------------------\n",
      "Dataframe Perso35: columnas -> ['ID', 'FECHA', 'MES', 'HORA', 'COMUNA', 'ZONA', 'CALIDAD', 'SEXO', 'EDAD', 'RESULTADO']\n"
     ]
    }
   ],
   "source": [
    "\n",
    "  #2024\n",
    "\n",
    "  print(f\"Dataframe Acc24: columnas -> {Accidentes24_data_rev.columns.tolist()}\")\n",
    "\n",
    "  print(\"-------------------------------------------------------------------\")\n",
    "\n",
    "  print(f\"Dataframe Acc25: columnas -> {Accidentes25_data_rev.columns.tolist()}\")\n",
    "\n",
    "  print(\"-------------------------------------------------------------------\")\n",
    "\n",
    "  print(f\"Dataframe Perso24: columnas -> {Personas24_data_rev.columns.tolist()}\")\n",
    "\n",
    "  print(\"-------------------------------------------------------------------\")\n",
    "\n",
    "  print(f\"Dataframe Perso35: columnas -> {Personas25_data_rev.columns.tolist()}\")"
   ]
  },
  {
   "cell_type": "code",
   "execution_count": 66,
   "metadata": {
    "executionInfo": {
     "elapsed": 659,
     "status": "ok",
     "timestamp": 1750698994826,
     "user": {
      "displayName": "Iván Zapata",
      "userId": "05768727519449385072"
     },
     "user_tz": 240
    },
    "id": "QhVul5aM4YRz"
   },
   "outputs": [],
   "source": [
    "Regiones_Comunas = pd.read_excel(\"Proyecto2/Utilities/regiones_comunas.xlsx\", index_col=None)\n",
    "Regiones_Comunas_Parche = pd.DataFrame({\n",
    "    'Nombre_Comuna': ['Camiña', 'Colchane', 'Huara', 'Pica', 'Pozo Almonte'],\n",
    "    'Codigo_Comuna': [1102, 1103, 1104, 1105, 1106],\n",
    "    'Nombre_Region': ['De Tarapacá', 'De Tarapacá', 'De Tarapacá', 'De Tarapacá', 'De Tarapacá'],\n",
    "    'Codigo_Region': [1, 1, 1, 1, 1]\n",
    "})\n",
    "Regiones_Comunas = pd.concat([Regiones_Comunas, Regiones_Comunas_Parche], ignore_index=True)"
   ]
  },
  {
   "cell_type": "code",
   "execution_count": 67,
   "metadata": {
    "executionInfo": {
     "elapsed": 6,
     "status": "ok",
     "timestamp": 1750698996658,
     "user": {
      "displayName": "Iván Zapata",
      "userId": "05768727519449385072"
     },
     "user_tz": 240
    },
    "id": "cZsKDS6cZy2N"
   },
   "outputs": [],
   "source": [
    "mapa_comuna = dict(zip(Regiones_Comunas['Codigo_Comuna'], Regiones_Comunas['Nombre_Comuna']))\n",
    "mapa_region = dict(zip(Regiones_Comunas['Codigo_Comuna'], Regiones_Comunas['Nombre_Region']))"
   ]
  },
  {
   "cell_type": "code",
   "execution_count": 68,
   "metadata": {
    "executionInfo": {
     "elapsed": 14,
     "status": "ok",
     "timestamp": 1750698997625,
     "user": {
      "displayName": "Iván Zapata",
      "userId": "05768727519449385072"
     },
     "user_tz": 240
    },
    "id": "5GkxeBOxcLt2"
   },
   "outputs": [],
   "source": [
    "Accidentes24_data_rev['Nomcomuna'] = Accidentes24_data_rev['Comuna'].map(mapa_comuna)\n",
    "Accidentes24_data_rev['Región'] = Accidentes24_data_rev['Comuna'].map(mapa_region)"
   ]
  },
  {
   "cell_type": "code",
   "execution_count": 69,
   "metadata": {
    "executionInfo": {
     "elapsed": 19,
     "status": "ok",
     "timestamp": 1750698998673,
     "user": {
      "displayName": "Iván Zapata",
      "userId": "05768727519449385072"
     },
     "user_tz": 240
    },
    "id": "OKiFp_9Cdgiq"
   },
   "outputs": [],
   "source": [
    "Accidentes25_data_rev['COMUNA'] = Accidentes25_data_rev['COMUNA'].apply(normalizar_columna)\n",
    "Accidentes24_data_rev['Nomcomuna'] = Accidentes24_data_rev['Nomcomuna'].apply(normalizar_columna)"
   ]
  },
  {
   "cell_type": "code",
   "execution_count": 70,
   "metadata": {
    "executionInfo": {
     "elapsed": 883,
     "status": "ok",
     "timestamp": 1750699000193,
     "user": {
      "displayName": "Iván Zapata",
      "userId": "05768727519449385072"
     },
     "user_tz": 240
    },
    "id": "Yev1jqRJkx3P"
   },
   "outputs": [],
   "source": [
    "def clasificar_ubicacion(row):\n",
    "    if pd.notna(row['Ruta']):\n",
    "        return \"Ruta\"\n",
    "    elif pd.notna(row['Calleuno']) and pd.notna(row['Calledos']):\n",
    "        return \"Intersección\"\n",
    "    elif pd.notna(row['Calleuno']):\n",
    "        return \"Una calle\"\n",
    "    else:\n",
    "        return \"Desconocido\"  \n",
    "Accidentes24_data_rev['TipoUbicacion'] = Accidentes24_data_rev.apply(clasificar_ubicacion, axis=1)"
   ]
  },
  {
   "cell_type": "code",
   "execution_count": 71,
   "metadata": {
    "executionInfo": {
     "elapsed": 11,
     "status": "ok",
     "timestamp": 1750699000888,
     "user": {
      "displayName": "Iván Zapata",
      "userId": "05768727519449385072"
     },
     "user_tz": 240
    },
    "id": "OyUWMU4QJ8VV"
   },
   "outputs": [],
   "source": [
    "Accidentes25_data_rev.columns\n",
    "renombrar_acc25 = {\n",
    "    'ID': 'Idaccidente',\n",
    "    'FECHA': 'Fecha',\n",
    "    'MES': 'Mes',\n",
    "    'HORA': 'Hora',\n",
    "    'COMUNA': 'Nomcomuna',\n",
    "    'ZONA': 'Región',\n",
    "    'TIPO': 'Accdtes.',\n",
    "    'CAUSA': 'Causas',\n",
    "    'SECTOR': 'Urbano/Rural',\n",
    "    'CALLE_1': 'Calleuno',\n",
    "    'CALLE_2': 'Calledos',\n",
    "    'KM': 'Ubicación km',\n",
    "    'FALLECIDO': 'Muertos',\n",
    "    'GRAVE': 'Graves',\n",
    "    'M/GRAVE': 'M/Grave',\n",
    "    'LEVE': 'Leves',\n",
    "    'ILESO': 'Ilesos',\n",
    "    'PARTE NRO.': 'Parte Nro.',\n",
    "    'TRIBUNAL': 'Tribunal'\n",
    "}\n",
    "Accidentes25_data_rev = Accidentes25_data_rev.rename(columns=renombrar_acc25)\n"
   ]
  },
  {
   "cell_type": "code",
   "execution_count": 72,
   "metadata": {
    "executionInfo": {
     "elapsed": 326,
     "status": "ok",
     "timestamp": 1750699002978,
     "user": {
      "displayName": "Iván Zapata",
      "userId": "05768727519449385072"
     },
     "user_tz": 240
    },
    "id": "TOC4Uzf8MeQC"
   },
   "outputs": [],
   "source": [
    "def clasificar_ubicacion_2025(row):\n",
    "    calle1 = str(row['Calleuno']).strip().upper() if pd.notna(row['Calleuno']) else ''\n",
    "    calle2 = str(row['Calledos']).strip() if pd.notna(row['Calledos']) else ''\n",
    "\n",
    "    if calle1 and calle2:\n",
    "        return \"Intersección\"\n",
    "    elif calle1.startswith(\"RUTA\"):\n",
    "        return \"Ruta\"\n",
    "    elif calle1:\n",
    "        return \"Una calle\"\n",
    "    else:\n",
    "        return \"Desconocido\"\n",
    "\n",
    "Accidentes25_data_rev['TipoUbicacion'] = Accidentes25_data_rev.apply(clasificar_ubicacion_2025, axis=1)"
   ]
  },
  {
   "cell_type": "code",
   "execution_count": 73,
   "metadata": {
    "executionInfo": {
     "elapsed": 103,
     "status": "ok",
     "timestamp": 1750699004127,
     "user": {
      "displayName": "Iván Zapata",
      "userId": "05768727519449385072"
     },
     "user_tz": 240
    },
    "id": "be0A62NZVcd6"
   },
   "outputs": [],
   "source": [
    "Accidentes24_data_rev.head()\n",
    "Accidentes24_data_rev['Accdtes.'] = Accidentes24_data_rev['Accdtes.'].apply(normalizar_columna)\n",
    "Accidentes24_data_rev['Mes'] = Accidentes24_data_rev['Mes'].apply(normalizar_columna)"
   ]
  },
  {
   "cell_type": "code",
   "execution_count": 74,
   "metadata": {
    "executionInfo": {
     "elapsed": 22,
     "status": "ok",
     "timestamp": 1750699004773,
     "user": {
      "displayName": "Iván Zapata",
      "userId": "05768727519449385072"
     },
     "user_tz": 240
    },
    "id": "xgnAIy8AVyGg"
   },
   "outputs": [],
   "source": [
    "Accidentes25_data_rev.head()\n",
    "Accidentes25_data_rev['Mes'] = Accidentes25_data_rev['Mes'].apply(normalizar_columna)\n",
    "Accidentes25_data_rev['Accdtes.'] = Accidentes25_data_rev['Accdtes.'].apply(normalizar_columna)\n",
    "Accidentes25_data_rev['Urbano/Rural'] = Accidentes25_data_rev['Urbano/Rural'].apply(normalizar_columna)"
   ]
  },
  {
   "cell_type": "code",
   "execution_count": 75,
   "metadata": {
    "executionInfo": {
     "elapsed": 17,
     "status": "ok",
     "timestamp": 1750699005505,
     "user": {
      "displayName": "Iván Zapata",
      "userId": "05768727519449385072"
     },
     "user_tz": 240
    },
    "id": "ROiNW3WlWKVs"
   },
   "outputs": [],
   "source": [
    "zona_a_region = {\n",
    "    'ZONA METROPOLITANA': 'Metropolitana de Santiago',\n",
    "    'ZONA DEL BIOBIO': 'Del Bíobío',\n",
    "    'ZONA DEL MAULE': 'Del Maule',\n",
    "    'ZONA DE VALPARAISO': 'De Valparaíso',\n",
    "    'ZONA DE LA ARAUCANIA': 'De La Araucanía',\n",
    "    'ZONA DE LOS LAGOS': 'De Los Lagos',\n",
    "    'ZONA DEL LIB. B. OHIGGINS': \"Del Libertador B. O'Higgins\",\n",
    "    'ZONA DE COQUIMBO': 'De Coquimbo',\n",
    "    'ZONA DE ANTOFAGASTA': 'De Antofagasta',\n",
    "    'ZONA DE NUBLE': 'De Ñuble',\n",
    "    'ZONA DE ARICA Y PARINACOTA': 'De Arica y Parinacota',\n",
    "    'ZONA DE TARAPACA': 'De Tarapacá',\n",
    "    'ZONA DE LOS RIOS': 'De Los Ríos',\n",
    "    'ZONA DE ATACAMA': 'De Atacama',\n",
    "    'ZONA DE MAGALLANES': 'De Magallanes y de La Antártica Chilena',\n",
    "    'ZONA DE AYSEN': 'De Aisén del Gral. C. Ibáñez del Campo'\n",
    "}\n",
    "Accidentes25_data_rev['Región'] = Accidentes25_data_rev['Región'].map(zona_a_region)"
   ]
  },
  {
   "cell_type": "code",
   "execution_count": 76,
   "metadata": {
    "executionInfo": {
     "elapsed": 53,
     "status": "ok",
     "timestamp": 1750699007490,
     "user": {
      "displayName": "Iván Zapata",
      "userId": "05768727519449385072"
     },
     "user_tz": 240
    },
    "id": "vgea5sMfWlJT"
   },
   "outputs": [],
   "source": [
    "Accidentes24_dt = Accidentes24_data_rev.copy()\n",
    "Accidentes25_dt = Accidentes25_data_rev.copy()"
   ]
  },
  {
   "cell_type": "code",
   "execution_count": 77,
   "metadata": {
    "colab": {
     "base_uri": "https://localhost:8080/"
    },
    "executionInfo": {
     "elapsed": 15,
     "status": "ok",
     "timestamp": 1750699008355,
     "user": {
      "displayName": "Iván Zapata",
      "userId": "05768727519449385072"
     },
     "user_tz": 240
    },
    "id": "0ZKgJJWxYLRW",
    "outputId": "f1472ed7-7cc2-48f3-f5cd-9f29c301eb90"
   },
   "outputs": [
    {
     "data": {
      "text/plain": [
       "Index(['Idaccidente', 'Fecha', 'Mes', 'Hora', 'Nomcomuna', 'Región',\n",
       "       'Accdtes.', 'Causas', 'Urbano/Rural', 'Calleuno', 'Calledos',\n",
       "       'Ubicación km', 'Muertos', 'Graves', 'M/Grave', 'Leves', 'Ilesos',\n",
       "       'Parte Nro.', 'Tribunal', 'TipoUbicacion'],\n",
       "      dtype='object')"
      ]
     },
     "execution_count": 77,
     "metadata": {},
     "output_type": "execute_result"
    }
   ],
   "source": [
    "Accidentes25_dt.columns"
   ]
  },
  {
   "cell_type": "code",
   "execution_count": 78,
   "metadata": {
    "colab": {
     "base_uri": "https://localhost:8080/"
    },
    "executionInfo": {
     "elapsed": 21,
     "status": "ok",
     "timestamp": 1750699009640,
     "user": {
      "displayName": "Iván Zapata",
      "userId": "05768727519449385072"
     },
     "user_tz": 240
    },
    "id": "8DiUE2exZOPN",
    "outputId": "988bb863-534e-49cb-c59f-1674fd2fca9c"
   },
   "outputs": [
    {
     "data": {
      "text/plain": [
       "Index(['Idaccidente', 'Fecha', 'Mes', 'Hora', 'Comuna', 'Nomcomuna', 'Región',\n",
       "       'Accdtes.', 'Causas', 'Urbano/Rural', 'Calleuno', 'Calledos',\n",
       "       'Frentenumero', 'Ruta', 'Ubicación km', 'Muertos', 'Graves', 'M/Grave',\n",
       "       'Leves', 'Ilesos', 'Parte Nro.', 'Tribunal', 'TipoUbicacion'],\n",
       "      dtype='object')"
      ]
     },
     "execution_count": 78,
     "metadata": {},
     "output_type": "execute_result"
    }
   ],
   "source": [
    "Accidentes24_dt.columns"
   ]
  },
  {
   "cell_type": "code",
   "execution_count": 79,
   "metadata": {
    "executionInfo": {
     "elapsed": 3,
     "status": "ok",
     "timestamp": 1750699010874,
     "user": {
      "displayName": "Iván Zapata",
      "userId": "05768727519449385072"
     },
     "user_tz": 240
    },
    "id": "jgQkpXtAYWuL"
   },
   "outputs": [],
   "source": [
    "Accidentes24_dt = Accidentes24_dt.drop(columns=['Comuna', 'Calleuno', 'Calledos', 'Frentenumero', 'Ruta', 'Ubicación km', 'Parte Nro.', 'Tribunal'])\n",
    "Accidentes25_dt = Accidentes25_dt.drop(columns=['Calleuno', 'Calledos', 'Ubicación km', 'Parte Nro.', 'Tribunal'])"
   ]
  },
  {
   "cell_type": "code",
   "execution_count": 80,
   "metadata": {
    "colab": {
     "base_uri": "https://localhost:8080/",
     "height": 432
    },
    "executionInfo": {
     "elapsed": 273,
     "status": "ok",
     "timestamp": 1750699012662,
     "user": {
      "displayName": "Iván Zapata",
      "userId": "05768727519449385072"
     },
     "user_tz": 240
    },
    "id": "Vg1OzZlSKQyl",
    "outputId": "9d523622-8b57-4a18-c94e-90d340fab5f3"
   },
   "outputs": [
    {
     "data": {
      "text/html": [
       "<div>\n",
       "<style scoped>\n",
       "    .dataframe tbody tr th:only-of-type {\n",
       "        vertical-align: middle;\n",
       "    }\n",
       "\n",
       "    .dataframe tbody tr th {\n",
       "        vertical-align: top;\n",
       "    }\n",
       "\n",
       "    .dataframe thead th {\n",
       "        text-align: right;\n",
       "    }\n",
       "</style>\n",
       "<table border=\"1\" class=\"dataframe\">\n",
       "  <thead>\n",
       "    <tr style=\"text-align: right;\">\n",
       "      <th></th>\n",
       "      <th>Idaccidente</th>\n",
       "      <th>Fecha</th>\n",
       "      <th>Mes</th>\n",
       "      <th>Hora</th>\n",
       "      <th>Nomcomuna</th>\n",
       "      <th>Región</th>\n",
       "      <th>Accdtes.</th>\n",
       "      <th>Causas</th>\n",
       "      <th>Urbano/Rural</th>\n",
       "      <th>Muertos</th>\n",
       "      <th>Graves</th>\n",
       "      <th>M/Grave</th>\n",
       "      <th>Leves</th>\n",
       "      <th>Ilesos</th>\n",
       "      <th>TipoUbicacion</th>\n",
       "    </tr>\n",
       "  </thead>\n",
       "  <tbody>\n",
       "    <tr>\n",
       "      <th>0</th>\n",
       "      <td>1586623</td>\n",
       "      <td>2024-01-01</td>\n",
       "      <td>enero</td>\n",
       "      <td>2025-06-23 00:00:00</td>\n",
       "      <td>quirihue</td>\n",
       "      <td>De Ñuble</td>\n",
       "      <td>colision</td>\n",
       "      <td>Conducción no atento condiciones transito momento</td>\n",
       "      <td>urbano</td>\n",
       "      <td>0</td>\n",
       "      <td>0</td>\n",
       "      <td>0</td>\n",
       "      <td>3</td>\n",
       "      <td>0</td>\n",
       "      <td>Intersección</td>\n",
       "    </tr>\n",
       "    <tr>\n",
       "      <th>1</th>\n",
       "      <td>1583417</td>\n",
       "      <td>2024-01-01</td>\n",
       "      <td>enero</td>\n",
       "      <td>2025-06-23 00:30:00</td>\n",
       "      <td>san felipe</td>\n",
       "      <td>De Valparaíso</td>\n",
       "      <td>choque</td>\n",
       "      <td>Conducción no atento condiciones transito momento</td>\n",
       "      <td>urbano</td>\n",
       "      <td>0</td>\n",
       "      <td>0</td>\n",
       "      <td>0</td>\n",
       "      <td>0</td>\n",
       "      <td>2</td>\n",
       "      <td>Intersección</td>\n",
       "    </tr>\n",
       "    <tr>\n",
       "      <th>2</th>\n",
       "      <td>1584272</td>\n",
       "      <td>2024-01-01</td>\n",
       "      <td>enero</td>\n",
       "      <td>2025-06-23 00:30:00</td>\n",
       "      <td>ñiquen</td>\n",
       "      <td>De Ñuble</td>\n",
       "      <td>choque</td>\n",
       "      <td>Animales sueltos via publica</td>\n",
       "      <td>rural</td>\n",
       "      <td>0</td>\n",
       "      <td>0</td>\n",
       "      <td>0</td>\n",
       "      <td>0</td>\n",
       "      <td>1</td>\n",
       "      <td>Ruta</td>\n",
       "    </tr>\n",
       "    <tr>\n",
       "      <th>3</th>\n",
       "      <td>1581924</td>\n",
       "      <td>2024-01-01</td>\n",
       "      <td>enero</td>\n",
       "      <td>2025-06-23 00:45:00</td>\n",
       "      <td>puente alto</td>\n",
       "      <td>Metropolitana de Santiago</td>\n",
       "      <td>colision</td>\n",
       "      <td>Conducción no atento condiciones transito momento</td>\n",
       "      <td>urbano</td>\n",
       "      <td>0</td>\n",
       "      <td>1</td>\n",
       "      <td>0</td>\n",
       "      <td>0</td>\n",
       "      <td>1</td>\n",
       "      <td>Intersección</td>\n",
       "    </tr>\n",
       "    <tr>\n",
       "      <th>4</th>\n",
       "      <td>1581883</td>\n",
       "      <td>2024-01-01</td>\n",
       "      <td>enero</td>\n",
       "      <td>2025-06-23 01:00:00</td>\n",
       "      <td>talca</td>\n",
       "      <td>Del Maule</td>\n",
       "      <td>colision</td>\n",
       "      <td>Conducción por izquierda eje calzada</td>\n",
       "      <td>urbano</td>\n",
       "      <td>0</td>\n",
       "      <td>0</td>\n",
       "      <td>0</td>\n",
       "      <td>0</td>\n",
       "      <td>2</td>\n",
       "      <td>Intersección</td>\n",
       "    </tr>\n",
       "  </tbody>\n",
       "</table>\n",
       "</div>"
      ],
      "text/plain": [
       "   Idaccidente      Fecha    Mes                Hora    Nomcomuna  \\\n",
       "0      1586623 2024-01-01  enero 2025-06-23 00:00:00     quirihue   \n",
       "1      1583417 2024-01-01  enero 2025-06-23 00:30:00   san felipe   \n",
       "2      1584272 2024-01-01  enero 2025-06-23 00:30:00       ñiquen   \n",
       "3      1581924 2024-01-01  enero 2025-06-23 00:45:00  puente alto   \n",
       "4      1581883 2024-01-01  enero 2025-06-23 01:00:00        talca   \n",
       "\n",
       "                      Región  Accdtes.  \\\n",
       "0                   De Ñuble  colision   \n",
       "1              De Valparaíso    choque   \n",
       "2                   De Ñuble    choque   \n",
       "3  Metropolitana de Santiago  colision   \n",
       "4                  Del Maule  colision   \n",
       "\n",
       "                                              Causas Urbano/Rural  Muertos  \\\n",
       "0  Conducción no atento condiciones transito momento       urbano        0   \n",
       "1  Conducción no atento condiciones transito momento       urbano        0   \n",
       "2                       Animales sueltos via publica        rural        0   \n",
       "3  Conducción no atento condiciones transito momento       urbano        0   \n",
       "4               Conducción por izquierda eje calzada       urbano        0   \n",
       "\n",
       "   Graves  M/Grave  Leves  Ilesos TipoUbicacion  \n",
       "0       0        0      3       0  Intersección  \n",
       "1       0        0      0       2  Intersección  \n",
       "2       0        0      0       1          Ruta  \n",
       "3       1        0      0       1  Intersección  \n",
       "4       0        0      0       2  Intersección  "
      ]
     },
     "execution_count": 80,
     "metadata": {},
     "output_type": "execute_result"
    }
   ],
   "source": [
    "Accidentes24_dt.head()"
   ]
  },
  {
   "cell_type": "code",
   "execution_count": 81,
   "metadata": {
    "colab": {
     "base_uri": "https://localhost:8080/",
     "height": 414
    },
    "executionInfo": {
     "elapsed": 127,
     "status": "ok",
     "timestamp": 1750699014706,
     "user": {
      "displayName": "Iván Zapata",
      "userId": "05768727519449385072"
     },
     "user_tz": 240
    },
    "id": "y0mSMHAnKbSl",
    "outputId": "0e370131-3251-43fc-b457-4abccd86e5dc"
   },
   "outputs": [
    {
     "data": {
      "text/html": [
       "<div>\n",
       "<style scoped>\n",
       "    .dataframe tbody tr th:only-of-type {\n",
       "        vertical-align: middle;\n",
       "    }\n",
       "\n",
       "    .dataframe tbody tr th {\n",
       "        vertical-align: top;\n",
       "    }\n",
       "\n",
       "    .dataframe thead th {\n",
       "        text-align: right;\n",
       "    }\n",
       "</style>\n",
       "<table border=\"1\" class=\"dataframe\">\n",
       "  <thead>\n",
       "    <tr style=\"text-align: right;\">\n",
       "      <th></th>\n",
       "      <th>Idaccidente</th>\n",
       "      <th>Fecha</th>\n",
       "      <th>Mes</th>\n",
       "      <th>Hora</th>\n",
       "      <th>Nomcomuna</th>\n",
       "      <th>Región</th>\n",
       "      <th>Accdtes.</th>\n",
       "      <th>Causas</th>\n",
       "      <th>Urbano/Rural</th>\n",
       "      <th>Muertos</th>\n",
       "      <th>Graves</th>\n",
       "      <th>M/Grave</th>\n",
       "      <th>Leves</th>\n",
       "      <th>Ilesos</th>\n",
       "      <th>TipoUbicacion</th>\n",
       "    </tr>\n",
       "  </thead>\n",
       "  <tbody>\n",
       "    <tr>\n",
       "      <th>0</th>\n",
       "      <td>5660</td>\n",
       "      <td>2025-01-01</td>\n",
       "      <td>enero</td>\n",
       "      <td>2025-06-23 00:01:00</td>\n",
       "      <td>colina</td>\n",
       "      <td>Metropolitana de Santiago</td>\n",
       "      <td>choque</td>\n",
       "      <td>ADELANTAMIENTO EN CRUCE, CURVA, CUESTA, PUENTE</td>\n",
       "      <td>rural</td>\n",
       "      <td>0</td>\n",
       "      <td>0</td>\n",
       "      <td>0</td>\n",
       "      <td>1</td>\n",
       "      <td>0</td>\n",
       "      <td>Ruta</td>\n",
       "    </tr>\n",
       "    <tr>\n",
       "      <th>1</th>\n",
       "      <td>3703</td>\n",
       "      <td>2025-01-01</td>\n",
       "      <td>enero</td>\n",
       "      <td>2025-06-23 00:01:00</td>\n",
       "      <td>renca</td>\n",
       "      <td>Metropolitana de Santiago</td>\n",
       "      <td>choque</td>\n",
       "      <td>CONDUCTOR NO ATENTO CONDICIONES TRANSITO MOMENTO</td>\n",
       "      <td>urbano</td>\n",
       "      <td>0</td>\n",
       "      <td>0</td>\n",
       "      <td>0</td>\n",
       "      <td>0</td>\n",
       "      <td>1</td>\n",
       "      <td>Una calle</td>\n",
       "    </tr>\n",
       "    <tr>\n",
       "      <th>2</th>\n",
       "      <td>5995</td>\n",
       "      <td>2025-01-01</td>\n",
       "      <td>enero</td>\n",
       "      <td>2025-06-23 00:01:00</td>\n",
       "      <td>mostazal</td>\n",
       "      <td>Del Libertador B. O'Higgins</td>\n",
       "      <td>choque</td>\n",
       "      <td>CONDUCTOR EN ESTADO DE EBRIEDAD</td>\n",
       "      <td>urbano</td>\n",
       "      <td>0</td>\n",
       "      <td>0</td>\n",
       "      <td>0</td>\n",
       "      <td>0</td>\n",
       "      <td>1</td>\n",
       "      <td>Intersección</td>\n",
       "    </tr>\n",
       "    <tr>\n",
       "      <th>3</th>\n",
       "      <td>3103</td>\n",
       "      <td>2025-01-01</td>\n",
       "      <td>enero</td>\n",
       "      <td>2025-06-23 01:01:00</td>\n",
       "      <td>maule</td>\n",
       "      <td>Del Maule</td>\n",
       "      <td>impacto con animal</td>\n",
       "      <td>ANIMALES SUELTOS VIA PUBLICA</td>\n",
       "      <td>rural</td>\n",
       "      <td>0</td>\n",
       "      <td>0</td>\n",
       "      <td>0</td>\n",
       "      <td>1</td>\n",
       "      <td>0</td>\n",
       "      <td>Ruta</td>\n",
       "    </tr>\n",
       "    <tr>\n",
       "      <th>4</th>\n",
       "      <td>3192</td>\n",
       "      <td>2025-01-01</td>\n",
       "      <td>enero</td>\n",
       "      <td>2025-06-23 01:01:00</td>\n",
       "      <td>valparaiso</td>\n",
       "      <td>De Valparaíso</td>\n",
       "      <td>colision lateral</td>\n",
       "      <td>ADELANTAMIENTO SIN EL ESPACIO</td>\n",
       "      <td>urbano</td>\n",
       "      <td>0</td>\n",
       "      <td>0</td>\n",
       "      <td>0</td>\n",
       "      <td>0</td>\n",
       "      <td>2</td>\n",
       "      <td>Intersección</td>\n",
       "    </tr>\n",
       "  </tbody>\n",
       "</table>\n",
       "</div>"
      ],
      "text/plain": [
       "   Idaccidente      Fecha    Mes                Hora   Nomcomuna  \\\n",
       "0         5660 2025-01-01  enero 2025-06-23 00:01:00      colina   \n",
       "1         3703 2025-01-01  enero 2025-06-23 00:01:00       renca   \n",
       "2         5995 2025-01-01  enero 2025-06-23 00:01:00    mostazal   \n",
       "3         3103 2025-01-01  enero 2025-06-23 01:01:00       maule   \n",
       "4         3192 2025-01-01  enero 2025-06-23 01:01:00  valparaiso   \n",
       "\n",
       "                        Región            Accdtes.  \\\n",
       "0    Metropolitana de Santiago              choque   \n",
       "1    Metropolitana de Santiago              choque   \n",
       "2  Del Libertador B. O'Higgins              choque   \n",
       "3                    Del Maule  impacto con animal   \n",
       "4                De Valparaíso    colision lateral   \n",
       "\n",
       "                                             Causas Urbano/Rural  Muertos  \\\n",
       "0    ADELANTAMIENTO EN CRUCE, CURVA, CUESTA, PUENTE        rural        0   \n",
       "1  CONDUCTOR NO ATENTO CONDICIONES TRANSITO MOMENTO       urbano        0   \n",
       "2                   CONDUCTOR EN ESTADO DE EBRIEDAD       urbano        0   \n",
       "3                      ANIMALES SUELTOS VIA PUBLICA        rural        0   \n",
       "4                     ADELANTAMIENTO SIN EL ESPACIO       urbano        0   \n",
       "\n",
       "   Graves  M/Grave  Leves  Ilesos TipoUbicacion  \n",
       "0       0        0      1       0          Ruta  \n",
       "1       0        0      0       1     Una calle  \n",
       "2       0        0      0       1  Intersección  \n",
       "3       0        0      1       0          Ruta  \n",
       "4       0        0      0       2  Intersección  "
      ]
     },
     "execution_count": 81,
     "metadata": {},
     "output_type": "execute_result"
    }
   ],
   "source": [
    "Accidentes25_dt.head()"
   ]
  },
  {
   "cell_type": "code",
   "execution_count": 82,
   "metadata": {
    "colab": {
     "base_uri": "https://localhost:8080/",
     "height": 432
    },
    "executionInfo": {
     "elapsed": 335,
     "status": "ok",
     "timestamp": 1750699021875,
     "user": {
      "displayName": "Iván Zapata",
      "userId": "05768727519449385072"
     },
     "user_tz": 240
    },
    "id": "q34vHGOMZfJl",
    "outputId": "fab8abcf-15e3-4442-cc88-4a03f2114806"
   },
   "outputs": [
    {
     "data": {
      "text/html": [
       "<div>\n",
       "<style scoped>\n",
       "    .dataframe tbody tr th:only-of-type {\n",
       "        vertical-align: middle;\n",
       "    }\n",
       "\n",
       "    .dataframe tbody tr th {\n",
       "        vertical-align: top;\n",
       "    }\n",
       "\n",
       "    .dataframe thead th {\n",
       "        text-align: right;\n",
       "    }\n",
       "</style>\n",
       "<table border=\"1\" class=\"dataframe\">\n",
       "  <thead>\n",
       "    <tr style=\"text-align: right;\">\n",
       "      <th></th>\n",
       "      <th>Idaccidente</th>\n",
       "      <th>Fecha</th>\n",
       "      <th>Mes</th>\n",
       "      <th>Hora</th>\n",
       "      <th>Nomcomuna</th>\n",
       "      <th>Región</th>\n",
       "      <th>Accdtes.</th>\n",
       "      <th>Causas</th>\n",
       "      <th>Urbano/Rural</th>\n",
       "      <th>Muertos</th>\n",
       "      <th>Graves</th>\n",
       "      <th>M/Grave</th>\n",
       "      <th>Leves</th>\n",
       "      <th>Ilesos</th>\n",
       "      <th>TipoUbicacion</th>\n",
       "    </tr>\n",
       "  </thead>\n",
       "  <tbody>\n",
       "    <tr>\n",
       "      <th>0</th>\n",
       "      <td>1586623</td>\n",
       "      <td>2024-01-01</td>\n",
       "      <td>enero</td>\n",
       "      <td>2025-06-23 00:00:00</td>\n",
       "      <td>quirihue</td>\n",
       "      <td>De Ñuble</td>\n",
       "      <td>colision</td>\n",
       "      <td>Conducción no atento condiciones transito momento</td>\n",
       "      <td>urbano</td>\n",
       "      <td>0</td>\n",
       "      <td>0</td>\n",
       "      <td>0</td>\n",
       "      <td>3</td>\n",
       "      <td>0</td>\n",
       "      <td>Intersección</td>\n",
       "    </tr>\n",
       "    <tr>\n",
       "      <th>1</th>\n",
       "      <td>1583417</td>\n",
       "      <td>2024-01-01</td>\n",
       "      <td>enero</td>\n",
       "      <td>2025-06-23 00:30:00</td>\n",
       "      <td>san felipe</td>\n",
       "      <td>De Valparaíso</td>\n",
       "      <td>choque</td>\n",
       "      <td>Conducción no atento condiciones transito momento</td>\n",
       "      <td>urbano</td>\n",
       "      <td>0</td>\n",
       "      <td>0</td>\n",
       "      <td>0</td>\n",
       "      <td>0</td>\n",
       "      <td>2</td>\n",
       "      <td>Intersección</td>\n",
       "    </tr>\n",
       "    <tr>\n",
       "      <th>2</th>\n",
       "      <td>1584272</td>\n",
       "      <td>2024-01-01</td>\n",
       "      <td>enero</td>\n",
       "      <td>2025-06-23 00:30:00</td>\n",
       "      <td>ñiquen</td>\n",
       "      <td>De Ñuble</td>\n",
       "      <td>choque</td>\n",
       "      <td>Animales sueltos via publica</td>\n",
       "      <td>rural</td>\n",
       "      <td>0</td>\n",
       "      <td>0</td>\n",
       "      <td>0</td>\n",
       "      <td>0</td>\n",
       "      <td>1</td>\n",
       "      <td>Ruta</td>\n",
       "    </tr>\n",
       "    <tr>\n",
       "      <th>3</th>\n",
       "      <td>1581924</td>\n",
       "      <td>2024-01-01</td>\n",
       "      <td>enero</td>\n",
       "      <td>2025-06-23 00:45:00</td>\n",
       "      <td>puente alto</td>\n",
       "      <td>Metropolitana de Santiago</td>\n",
       "      <td>colision</td>\n",
       "      <td>Conducción no atento condiciones transito momento</td>\n",
       "      <td>urbano</td>\n",
       "      <td>0</td>\n",
       "      <td>1</td>\n",
       "      <td>0</td>\n",
       "      <td>0</td>\n",
       "      <td>1</td>\n",
       "      <td>Intersección</td>\n",
       "    </tr>\n",
       "    <tr>\n",
       "      <th>4</th>\n",
       "      <td>1581883</td>\n",
       "      <td>2024-01-01</td>\n",
       "      <td>enero</td>\n",
       "      <td>2025-06-23 01:00:00</td>\n",
       "      <td>talca</td>\n",
       "      <td>Del Maule</td>\n",
       "      <td>colision</td>\n",
       "      <td>Conducción por izquierda eje calzada</td>\n",
       "      <td>urbano</td>\n",
       "      <td>0</td>\n",
       "      <td>0</td>\n",
       "      <td>0</td>\n",
       "      <td>0</td>\n",
       "      <td>2</td>\n",
       "      <td>Intersección</td>\n",
       "    </tr>\n",
       "  </tbody>\n",
       "</table>\n",
       "</div>"
      ],
      "text/plain": [
       "   Idaccidente      Fecha    Mes                Hora    Nomcomuna  \\\n",
       "0      1586623 2024-01-01  enero 2025-06-23 00:00:00     quirihue   \n",
       "1      1583417 2024-01-01  enero 2025-06-23 00:30:00   san felipe   \n",
       "2      1584272 2024-01-01  enero 2025-06-23 00:30:00       ñiquen   \n",
       "3      1581924 2024-01-01  enero 2025-06-23 00:45:00  puente alto   \n",
       "4      1581883 2024-01-01  enero 2025-06-23 01:00:00        talca   \n",
       "\n",
       "                      Región  Accdtes.  \\\n",
       "0                   De Ñuble  colision   \n",
       "1              De Valparaíso    choque   \n",
       "2                   De Ñuble    choque   \n",
       "3  Metropolitana de Santiago  colision   \n",
       "4                  Del Maule  colision   \n",
       "\n",
       "                                              Causas Urbano/Rural  Muertos  \\\n",
       "0  Conducción no atento condiciones transito momento       urbano        0   \n",
       "1  Conducción no atento condiciones transito momento       urbano        0   \n",
       "2                       Animales sueltos via publica        rural        0   \n",
       "3  Conducción no atento condiciones transito momento       urbano        0   \n",
       "4               Conducción por izquierda eje calzada       urbano        0   \n",
       "\n",
       "   Graves  M/Grave  Leves  Ilesos TipoUbicacion  \n",
       "0       0        0      3       0  Intersección  \n",
       "1       0        0      0       2  Intersección  \n",
       "2       0        0      0       1          Ruta  \n",
       "3       1        0      0       1  Intersección  \n",
       "4       0        0      0       2  Intersección  "
      ]
     },
     "execution_count": 82,
     "metadata": {},
     "output_type": "execute_result"
    }
   ],
   "source": [
    "accidentes_training = pd.concat([Accidentes24_dt, Accidentes25_dt], ignore_index=True)\n",
    "accidentes_training.head()"
   ]
  },
  {
   "cell_type": "code",
   "execution_count": 83,
   "metadata": {
    "executionInfo": {
     "elapsed": 24,
     "status": "ok",
     "timestamp": 1750699027860,
     "user": {
      "displayName": "Iván Zapata",
      "userId": "05768727519449385072"
     },
     "user_tz": 240
    },
    "id": "u7scO6p7Z2Im"
   },
   "outputs": [],
   "source": [
    "Personas24_data_rev = Personas24_data.copy()\n",
    "Personas25_data_rev = Personas25_data.copy()\n",
    "Personas24_data_rev.columns\n",
    "Personas24_data_rev['Nomcomuna'] = Personas24_data_rev['Comuna'].map(mapa_comuna)\n",
    "Personas24_data_rev['Región'] = Personas24_data_rev['Comuna'].map(mapa_region)"
   ]
  },
  {
   "cell_type": "code",
   "execution_count": 84,
   "metadata": {
    "colab": {
     "base_uri": "https://localhost:8080/",
     "height": 469
    },
    "executionInfo": {
     "elapsed": 617,
     "status": "ok",
     "timestamp": 1750699029573,
     "user": {
      "displayName": "Iván Zapata",
      "userId": "05768727519449385072"
     },
     "user_tz": 240
    },
    "id": "Q_pMzVQIa49H",
    "outputId": "062b1982-7d12-40de-d764-1e82ff90fc39"
   },
   "outputs": [
    {
     "name": "stderr",
     "output_type": "stream",
     "text": [
      "C:\\Users\\ivans\\AppData\\Local\\Temp\\ipykernel_15768\\3463182794.py:6: FutureWarning: A value is trying to be set on a copy of a DataFrame or Series through chained assignment using an inplace method.\n",
      "The behavior will change in pandas 3.0. This inplace method will never work because the intermediate object on which we are setting values always behaves as a copy.\n",
      "\n",
      "For example, when doing 'df[col].method(value, inplace=True)', try using 'df.method({col: value}, inplace=True)' or df[col] = df[col].method(value) instead, to perform the operation inplace on the original object.\n",
      "\n",
      "\n",
      "  Personas24_data_rev['Edad'].fillna(0, inplace=True)\n",
      "C:\\Users\\ivans\\AppData\\Local\\Temp\\ipykernel_15768\\3463182794.py:7: FutureWarning: A value is trying to be set on a copy of a DataFrame or Series through chained assignment using an inplace method.\n",
      "The behavior will change in pandas 3.0. This inplace method will never work because the intermediate object on which we are setting values always behaves as a copy.\n",
      "\n",
      "For example, when doing 'df[col].method(value, inplace=True)', try using 'df.method({col: value}, inplace=True)' or df[col] = df[col].method(value) instead, to perform the operation inplace on the original object.\n",
      "\n",
      "\n",
      "  Personas24_data_rev['Sexo'].fillna('desconocido', inplace=True)\n"
     ]
    },
    {
     "data": {
      "text/html": [
       "<div>\n",
       "<style scoped>\n",
       "    .dataframe tbody tr th:only-of-type {\n",
       "        vertical-align: middle;\n",
       "    }\n",
       "\n",
       "    .dataframe tbody tr th {\n",
       "        vertical-align: top;\n",
       "    }\n",
       "\n",
       "    .dataframe thead th {\n",
       "        text-align: right;\n",
       "    }\n",
       "</style>\n",
       "<table border=\"1\" class=\"dataframe\">\n",
       "  <thead>\n",
       "    <tr style=\"text-align: right;\">\n",
       "      <th></th>\n",
       "      <th>Idaccidente</th>\n",
       "      <th>Fecha</th>\n",
       "      <th>Mes</th>\n",
       "      <th>Hora</th>\n",
       "      <th>Comuna</th>\n",
       "      <th>Nomcomuna</th>\n",
       "      <th>Región</th>\n",
       "      <th>Calidad</th>\n",
       "      <th>Sexo</th>\n",
       "      <th>Edad</th>\n",
       "      <th>Resultado</th>\n",
       "    </tr>\n",
       "  </thead>\n",
       "  <tbody>\n",
       "    <tr>\n",
       "      <th>0</th>\n",
       "      <td>1586623</td>\n",
       "      <td>2024-01-01</td>\n",
       "      <td>enero</td>\n",
       "      <td>00:00:00</td>\n",
       "      <td>8414</td>\n",
       "      <td>quirihue</td>\n",
       "      <td>De Ñuble</td>\n",
       "      <td>conductor</td>\n",
       "      <td>masculino</td>\n",
       "      <td>40.0</td>\n",
       "      <td>leve</td>\n",
       "    </tr>\n",
       "    <tr>\n",
       "      <th>1</th>\n",
       "      <td>1586623</td>\n",
       "      <td>2024-01-01</td>\n",
       "      <td>enero</td>\n",
       "      <td>00:00:00</td>\n",
       "      <td>8414</td>\n",
       "      <td>quirihue</td>\n",
       "      <td>De Ñuble</td>\n",
       "      <td>pasajero</td>\n",
       "      <td>femenino</td>\n",
       "      <td>24.0</td>\n",
       "      <td>leve</td>\n",
       "    </tr>\n",
       "    <tr>\n",
       "      <th>2</th>\n",
       "      <td>1586623</td>\n",
       "      <td>2024-01-01</td>\n",
       "      <td>enero</td>\n",
       "      <td>00:00:00</td>\n",
       "      <td>8414</td>\n",
       "      <td>quirihue</td>\n",
       "      <td>De Ñuble</td>\n",
       "      <td>conductor</td>\n",
       "      <td>masculino</td>\n",
       "      <td>23.0</td>\n",
       "      <td>leve</td>\n",
       "    </tr>\n",
       "    <tr>\n",
       "      <th>3</th>\n",
       "      <td>1583417</td>\n",
       "      <td>2024-01-01</td>\n",
       "      <td>enero</td>\n",
       "      <td>00:30:00</td>\n",
       "      <td>5701</td>\n",
       "      <td>san felipe</td>\n",
       "      <td>De Valparaíso</td>\n",
       "      <td>conductor</td>\n",
       "      <td>masculino</td>\n",
       "      <td>35.0</td>\n",
       "      <td>ileso</td>\n",
       "    </tr>\n",
       "    <tr>\n",
       "      <th>4</th>\n",
       "      <td>1583417</td>\n",
       "      <td>2024-01-01</td>\n",
       "      <td>enero</td>\n",
       "      <td>00:30:00</td>\n",
       "      <td>5701</td>\n",
       "      <td>san felipe</td>\n",
       "      <td>De Valparaíso</td>\n",
       "      <td>conductor</td>\n",
       "      <td>masculino</td>\n",
       "      <td>0.0</td>\n",
       "      <td>ileso</td>\n",
       "    </tr>\n",
       "  </tbody>\n",
       "</table>\n",
       "</div>"
      ],
      "text/plain": [
       "   Idaccidente      Fecha    Mes      Hora  Comuna   Nomcomuna         Región  \\\n",
       "0      1586623 2024-01-01  enero  00:00:00    8414    quirihue       De Ñuble   \n",
       "1      1586623 2024-01-01  enero  00:00:00    8414    quirihue       De Ñuble   \n",
       "2      1586623 2024-01-01  enero  00:00:00    8414    quirihue       De Ñuble   \n",
       "3      1583417 2024-01-01  enero  00:30:00    5701  san felipe  De Valparaíso   \n",
       "4      1583417 2024-01-01  enero  00:30:00    5701  san felipe  De Valparaíso   \n",
       "\n",
       "     Calidad       Sexo  Edad Resultado  \n",
       "0  conductor  masculino  40.0      leve  \n",
       "1   pasajero   femenino  24.0      leve  \n",
       "2  conductor  masculino  23.0      leve  \n",
       "3  conductor  masculino  35.0     ileso  \n",
       "4  conductor  masculino   0.0     ileso  "
      ]
     },
     "execution_count": 84,
     "metadata": {},
     "output_type": "execute_result"
    }
   ],
   "source": [
    "Personas24_data_rev['Mes'] = Personas24_data_rev['Mes'].apply(normalizar_columna)\n",
    "Personas24_data_rev['Nomcomuna'] = Personas24_data_rev['Nomcomuna'].apply(normalizar_columna)\n",
    "Personas24_data_rev['Calidad'] = Personas24_data_rev['Calidad'].apply(normalizar_columna)\n",
    "Personas24_data_rev['Sexo'] = Personas24_data_rev['Sexo'].apply(normalizar_columna)\n",
    "Personas24_data_rev['Resultado'] = Personas24_data_rev['Resultado'].apply(normalizar_columna)\n",
    "Personas24_data_rev['Edad'].fillna(0, inplace=True)\n",
    "Personas24_data_rev['Sexo'].fillna('desconocido', inplace=True)\n",
    "\n",
    "Personas24_data_rev.head()"
   ]
  },
  {
   "cell_type": "code",
   "execution_count": 85,
   "metadata": {
    "colab": {
     "base_uri": "https://localhost:8080/",
     "height": 469
    },
    "executionInfo": {
     "elapsed": 156,
     "status": "ok",
     "timestamp": 1750699045279,
     "user": {
      "displayName": "Iván Zapata",
      "userId": "05768727519449385072"
     },
     "user_tz": 240
    },
    "id": "6qAZJFR3biwa",
    "outputId": "7c58b90b-a7b0-466e-edcb-e6d9f9c7f4fa"
   },
   "outputs": [
    {
     "name": "stderr",
     "output_type": "stream",
     "text": [
      "C:\\Users\\ivans\\AppData\\Local\\Temp\\ipykernel_15768\\2487853267.py:15: FutureWarning: A value is trying to be set on a copy of a DataFrame or Series through chained assignment using an inplace method.\n",
      "The behavior will change in pandas 3.0. This inplace method will never work because the intermediate object on which we are setting values always behaves as a copy.\n",
      "\n",
      "For example, when doing 'df[col].method(value, inplace=True)', try using 'df.method({col: value}, inplace=True)' or df[col] = df[col].method(value) instead, to perform the operation inplace on the original object.\n",
      "\n",
      "\n",
      "  Personas25_data_rev['Edad'].fillna(0, inplace=True)\n",
      "C:\\Users\\ivans\\AppData\\Local\\Temp\\ipykernel_15768\\2487853267.py:16: FutureWarning: A value is trying to be set on a copy of a DataFrame or Series through chained assignment using an inplace method.\n",
      "The behavior will change in pandas 3.0. This inplace method will never work because the intermediate object on which we are setting values always behaves as a copy.\n",
      "\n",
      "For example, when doing 'df[col].method(value, inplace=True)', try using 'df.method({col: value}, inplace=True)' or df[col] = df[col].method(value) instead, to perform the operation inplace on the original object.\n",
      "\n",
      "\n",
      "  Personas25_data_rev['Sexo'].fillna('desconocido', inplace=True)\n"
     ]
    },
    {
     "data": {
      "text/html": [
       "<div>\n",
       "<style scoped>\n",
       "    .dataframe tbody tr th:only-of-type {\n",
       "        vertical-align: middle;\n",
       "    }\n",
       "\n",
       "    .dataframe tbody tr th {\n",
       "        vertical-align: top;\n",
       "    }\n",
       "\n",
       "    .dataframe thead th {\n",
       "        text-align: right;\n",
       "    }\n",
       "</style>\n",
       "<table border=\"1\" class=\"dataframe\">\n",
       "  <thead>\n",
       "    <tr style=\"text-align: right;\">\n",
       "      <th></th>\n",
       "      <th>Idaccidente</th>\n",
       "      <th>Fecha</th>\n",
       "      <th>Mes</th>\n",
       "      <th>Hora</th>\n",
       "      <th>Nomcomuna</th>\n",
       "      <th>Región</th>\n",
       "      <th>Calidad</th>\n",
       "      <th>Sexo</th>\n",
       "      <th>Edad</th>\n",
       "      <th>Resultado</th>\n",
       "    </tr>\n",
       "  </thead>\n",
       "  <tbody>\n",
       "    <tr>\n",
       "      <th>0</th>\n",
       "      <td>3703</td>\n",
       "      <td>2025-01-01</td>\n",
       "      <td>enero</td>\n",
       "      <td>00:01</td>\n",
       "      <td>renca</td>\n",
       "      <td>Metropolitana de Santiago</td>\n",
       "      <td>se da a la fuga</td>\n",
       "      <td>masculino</td>\n",
       "      <td>0.0</td>\n",
       "      <td>ileso</td>\n",
       "    </tr>\n",
       "    <tr>\n",
       "      <th>1</th>\n",
       "      <td>5995</td>\n",
       "      <td>2025-01-01</td>\n",
       "      <td>enero</td>\n",
       "      <td>00:01</td>\n",
       "      <td>mostazal</td>\n",
       "      <td>Del Libertador B. O'Higgins</td>\n",
       "      <td>conductor</td>\n",
       "      <td>masculino</td>\n",
       "      <td>16.0</td>\n",
       "      <td>ileso</td>\n",
       "    </tr>\n",
       "    <tr>\n",
       "      <th>2</th>\n",
       "      <td>5660</td>\n",
       "      <td>2025-01-01</td>\n",
       "      <td>enero</td>\n",
       "      <td>00:01</td>\n",
       "      <td>colina</td>\n",
       "      <td>Metropolitana de Santiago</td>\n",
       "      <td>conductor</td>\n",
       "      <td>masculino</td>\n",
       "      <td>46.0</td>\n",
       "      <td>leve</td>\n",
       "    </tr>\n",
       "    <tr>\n",
       "      <th>3</th>\n",
       "      <td>3192</td>\n",
       "      <td>2025-01-01</td>\n",
       "      <td>enero</td>\n",
       "      <td>01:01</td>\n",
       "      <td>valparaiso</td>\n",
       "      <td>De Valparaíso</td>\n",
       "      <td>conductor</td>\n",
       "      <td>masculino</td>\n",
       "      <td>31.0</td>\n",
       "      <td>ileso</td>\n",
       "    </tr>\n",
       "    <tr>\n",
       "      <th>4</th>\n",
       "      <td>3192</td>\n",
       "      <td>2025-01-01</td>\n",
       "      <td>enero</td>\n",
       "      <td>01:01</td>\n",
       "      <td>valparaiso</td>\n",
       "      <td>De Valparaíso</td>\n",
       "      <td>conductor</td>\n",
       "      <td>masculino</td>\n",
       "      <td>29.0</td>\n",
       "      <td>ileso</td>\n",
       "    </tr>\n",
       "  </tbody>\n",
       "</table>\n",
       "</div>"
      ],
      "text/plain": [
       "   Idaccidente      Fecha    Mes   Hora   Nomcomuna  \\\n",
       "0         3703 2025-01-01  enero  00:01       renca   \n",
       "1         5995 2025-01-01  enero  00:01    mostazal   \n",
       "2         5660 2025-01-01  enero  00:01      colina   \n",
       "3         3192 2025-01-01  enero  01:01  valparaiso   \n",
       "4         3192 2025-01-01  enero  01:01  valparaiso   \n",
       "\n",
       "                        Región          Calidad       Sexo  Edad Resultado  \n",
       "0    Metropolitana de Santiago  se da a la fuga  masculino   0.0     ileso  \n",
       "1  Del Libertador B. O'Higgins        conductor  masculino  16.0     ileso  \n",
       "2    Metropolitana de Santiago        conductor  masculino  46.0      leve  \n",
       "3                De Valparaíso        conductor  masculino  31.0     ileso  \n",
       "4                De Valparaíso        conductor  masculino  29.0     ileso  "
      ]
     },
     "execution_count": 85,
     "metadata": {},
     "output_type": "execute_result"
    }
   ],
   "source": [
    "renombrar_personas = {\n",
    "    'ID': 'Idaccidente',\n",
    "    'FECHA': 'Fecha',\n",
    "    'MES': 'Mes',\n",
    "    'HORA': 'Hora',\n",
    "    'COMUNA': 'Nomcomuna',\n",
    "    'ZONA': 'Región',\n",
    "    'CALIDAD': 'Calidad',\n",
    "    'SEXO': 'Sexo',\n",
    "    'EDAD': 'Edad',\n",
    "    'RESULTADO': 'Resultado'\n",
    "}\n",
    "\n",
    "Personas25_data_rev = Personas25_data_rev.rename(columns=renombrar_personas)\n",
    "Personas25_data_rev['Edad'].fillna(0, inplace=True)\n",
    "Personas25_data_rev['Sexo'].fillna('desconocido', inplace=True)\n",
    "Personas25_data_rev['Mes'] = Personas25_data_rev['Mes'].apply(normalizar_columna)\n",
    "Personas25_data_rev['Nomcomuna'] = Personas25_data_rev['Nomcomuna'].apply(normalizar_columna)\n",
    "Personas25_data_rev['Calidad'] = Personas25_data_rev['Calidad'].apply(normalizar_columna)\n",
    "Personas25_data_rev['Resultado'] = Personas25_data_rev['Resultado'].apply(normalizar_columna)\n",
    "Personas25_data_rev['Sexo'] = Personas25_data_rev['Sexo'].apply(normalizar_columna)\n",
    "Personas25_data_rev['Región'] = Personas25_data_rev['Región'].map(zona_a_region)\n",
    "Personas25_data_rev.head()"
   ]
  },
  {
   "cell_type": "code",
   "execution_count": 86,
   "metadata": {
    "executionInfo": {
     "elapsed": 59,
     "status": "ok",
     "timestamp": 1750699049513,
     "user": {
      "displayName": "Iván Zapata",
      "userId": "05768727519449385072"
     },
     "user_tz": 240
    },
    "id": "QmGtF4cWfsEz"
   },
   "outputs": [],
   "source": [
    "Personas24_dt = Personas24_data_rev.copy()\n",
    "Personas25_dt = Personas25_data_rev.copy()"
   ]
  },
  {
   "cell_type": "code",
   "execution_count": 87,
   "metadata": {
    "colab": {
     "base_uri": "https://localhost:8080/"
    },
    "executionInfo": {
     "elapsed": 56,
     "status": "ok",
     "timestamp": 1750699050963,
     "user": {
      "displayName": "Iván Zapata",
      "userId": "05768727519449385072"
     },
     "user_tz": 240
    },
    "id": "jcZ4P7zrf0bH",
    "outputId": "3d8185d1-1974-4443-ee7c-230110fc53e2"
   },
   "outputs": [
    {
     "data": {
      "text/plain": [
       "Index(['Idaccidente', 'Fecha', 'Mes', 'Hora', 'Comuna', 'Nomcomuna', 'Región',\n",
       "       'Calidad', 'Sexo', 'Edad', 'Resultado'],\n",
       "      dtype='object')"
      ]
     },
     "execution_count": 87,
     "metadata": {},
     "output_type": "execute_result"
    }
   ],
   "source": [
    "Personas24_dt.columns"
   ]
  },
  {
   "cell_type": "code",
   "execution_count": 88,
   "metadata": {
    "executionInfo": {
     "elapsed": 19,
     "status": "ok",
     "timestamp": 1750699051793,
     "user": {
      "displayName": "Iván Zapata",
      "userId": "05768727519449385072"
     },
     "user_tz": 240
    },
    "id": "VB9jQLqrf9UU"
   },
   "outputs": [],
   "source": [
    "Personas24_dt = Personas24_dt.drop(columns=['Comuna'])"
   ]
  },
  {
   "cell_type": "code",
   "execution_count": 89,
   "metadata": {
    "colab": {
     "base_uri": "https://localhost:8080/"
    },
    "executionInfo": {
     "elapsed": 24,
     "status": "ok",
     "timestamp": 1750699053112,
     "user": {
      "displayName": "Iván Zapata",
      "userId": "05768727519449385072"
     },
     "user_tz": 240
    },
    "id": "xKAqEGWmf3z6",
    "outputId": "5157dfce-9dd8-4e4f-af83-abb72d6c918d"
   },
   "outputs": [
    {
     "data": {
      "text/plain": [
       "Index(['Idaccidente', 'Fecha', 'Mes', 'Hora', 'Nomcomuna', 'Región', 'Calidad',\n",
       "       'Sexo', 'Edad', 'Resultado'],\n",
       "      dtype='object')"
      ]
     },
     "execution_count": 89,
     "metadata": {},
     "output_type": "execute_result"
    }
   ],
   "source": [
    "Personas25_dt.columns"
   ]
  },
  {
   "cell_type": "code",
   "execution_count": 90,
   "metadata": {
    "colab": {
     "base_uri": "https://localhost:8080/",
     "height": 206
    },
    "executionInfo": {
     "elapsed": 55,
     "status": "ok",
     "timestamp": 1750699054666,
     "user": {
      "displayName": "Iván Zapata",
      "userId": "05768727519449385072"
     },
     "user_tz": 240
    },
    "id": "AAdmuAo7gPg1",
    "outputId": "56202205-b074-4f08-8b8a-3fda8896066d"
   },
   "outputs": [
    {
     "data": {
      "text/html": [
       "<div>\n",
       "<style scoped>\n",
       "    .dataframe tbody tr th:only-of-type {\n",
       "        vertical-align: middle;\n",
       "    }\n",
       "\n",
       "    .dataframe tbody tr th {\n",
       "        vertical-align: top;\n",
       "    }\n",
       "\n",
       "    .dataframe thead th {\n",
       "        text-align: right;\n",
       "    }\n",
       "</style>\n",
       "<table border=\"1\" class=\"dataframe\">\n",
       "  <thead>\n",
       "    <tr style=\"text-align: right;\">\n",
       "      <th></th>\n",
       "      <th>Idaccidente</th>\n",
       "      <th>Fecha</th>\n",
       "      <th>Mes</th>\n",
       "      <th>Hora</th>\n",
       "      <th>Nomcomuna</th>\n",
       "      <th>Región</th>\n",
       "      <th>Calidad</th>\n",
       "      <th>Sexo</th>\n",
       "      <th>Edad</th>\n",
       "      <th>Resultado</th>\n",
       "    </tr>\n",
       "  </thead>\n",
       "  <tbody>\n",
       "    <tr>\n",
       "      <th>0</th>\n",
       "      <td>1586623</td>\n",
       "      <td>2024-01-01</td>\n",
       "      <td>enero</td>\n",
       "      <td>00:00:00</td>\n",
       "      <td>quirihue</td>\n",
       "      <td>De Ñuble</td>\n",
       "      <td>conductor</td>\n",
       "      <td>masculino</td>\n",
       "      <td>40.0</td>\n",
       "      <td>leve</td>\n",
       "    </tr>\n",
       "    <tr>\n",
       "      <th>1</th>\n",
       "      <td>1586623</td>\n",
       "      <td>2024-01-01</td>\n",
       "      <td>enero</td>\n",
       "      <td>00:00:00</td>\n",
       "      <td>quirihue</td>\n",
       "      <td>De Ñuble</td>\n",
       "      <td>pasajero</td>\n",
       "      <td>femenino</td>\n",
       "      <td>24.0</td>\n",
       "      <td>leve</td>\n",
       "    </tr>\n",
       "    <tr>\n",
       "      <th>2</th>\n",
       "      <td>1586623</td>\n",
       "      <td>2024-01-01</td>\n",
       "      <td>enero</td>\n",
       "      <td>00:00:00</td>\n",
       "      <td>quirihue</td>\n",
       "      <td>De Ñuble</td>\n",
       "      <td>conductor</td>\n",
       "      <td>masculino</td>\n",
       "      <td>23.0</td>\n",
       "      <td>leve</td>\n",
       "    </tr>\n",
       "    <tr>\n",
       "      <th>3</th>\n",
       "      <td>1583417</td>\n",
       "      <td>2024-01-01</td>\n",
       "      <td>enero</td>\n",
       "      <td>00:30:00</td>\n",
       "      <td>san felipe</td>\n",
       "      <td>De Valparaíso</td>\n",
       "      <td>conductor</td>\n",
       "      <td>masculino</td>\n",
       "      <td>35.0</td>\n",
       "      <td>ileso</td>\n",
       "    </tr>\n",
       "    <tr>\n",
       "      <th>4</th>\n",
       "      <td>1583417</td>\n",
       "      <td>2024-01-01</td>\n",
       "      <td>enero</td>\n",
       "      <td>00:30:00</td>\n",
       "      <td>san felipe</td>\n",
       "      <td>De Valparaíso</td>\n",
       "      <td>conductor</td>\n",
       "      <td>masculino</td>\n",
       "      <td>0.0</td>\n",
       "      <td>ileso</td>\n",
       "    </tr>\n",
       "  </tbody>\n",
       "</table>\n",
       "</div>"
      ],
      "text/plain": [
       "   Idaccidente      Fecha    Mes      Hora   Nomcomuna         Región  \\\n",
       "0      1586623 2024-01-01  enero  00:00:00    quirihue       De Ñuble   \n",
       "1      1586623 2024-01-01  enero  00:00:00    quirihue       De Ñuble   \n",
       "2      1586623 2024-01-01  enero  00:00:00    quirihue       De Ñuble   \n",
       "3      1583417 2024-01-01  enero  00:30:00  san felipe  De Valparaíso   \n",
       "4      1583417 2024-01-01  enero  00:30:00  san felipe  De Valparaíso   \n",
       "\n",
       "     Calidad       Sexo  Edad Resultado  \n",
       "0  conductor  masculino  40.0      leve  \n",
       "1   pasajero   femenino  24.0      leve  \n",
       "2  conductor  masculino  23.0      leve  \n",
       "3  conductor  masculino  35.0     ileso  \n",
       "4  conductor  masculino   0.0     ileso  "
      ]
     },
     "execution_count": 90,
     "metadata": {},
     "output_type": "execute_result"
    }
   ],
   "source": [
    "personas_training = pd.concat([Personas24_dt, Personas25_dt], ignore_index=True)\n",
    "personas_training.head()"
   ]
  },
  {
   "cell_type": "code",
   "execution_count": 91,
   "metadata": {
    "id": "5pvYftPcL0uG"
   },
   "outputs": [],
   "source": [
    "Full_data = personas_training.merge(accidentes_training, on='Idaccidente', suffixes=('_persona', '_accidente'))"
   ]
  },
  {
   "cell_type": "code",
   "execution_count": null,
   "metadata": {
    "executionInfo": {
     "elapsed": 57816,
     "status": "ok",
     "timestamp": 1750699231172,
     "user": {
      "displayName": "Iván Zapata",
      "userId": "05768727519449385072"
     },
     "user_tz": 240
    },
    "id": "Cz8t8YKoyIQW"
   },
   "outputs": [],
   "source": [
    "personas_training.to_excel(path + 'personas_training.xlsx', index=False)\n",
    "accidentes_training.to_excel(path + 'accidentes_training.xlsx', index=False)"
   ]
  }
 ],
 "metadata": {
  "colab": {
   "provenance": []
  },
  "kernelspec": {
   "display_name": "Python 3 (ipykernel)",
   "language": "python",
   "name": "python3"
  },
  "language_info": {
   "codemirror_mode": {
    "name": "ipython",
    "version": 3
   },
   "file_extension": ".py",
   "mimetype": "text/x-python",
   "name": "python",
   "nbconvert_exporter": "python",
   "pygments_lexer": "ipython3",
   "version": "3.13.3"
  }
 },
 "nbformat": 4,
 "nbformat_minor": 4
}
