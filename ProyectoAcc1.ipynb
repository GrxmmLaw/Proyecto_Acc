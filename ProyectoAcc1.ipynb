{
 "cells": [
  {
   "cell_type": "markdown",
   "metadata": {
    "id": "qlVHvS2HU5w0"
   },
   "source": [
    "# **Exploración de Datos**\n",
    "*Dataset accidentalidad - Proyecto 2*"
   ]
  },
  {
   "cell_type": "code",
   "execution_count": 38,
   "metadata": {
    "executionInfo": {
     "elapsed": 17,
     "status": "ok",
     "timestamp": 1748384666040,
     "user": {
      "displayName": "Franco Andrés Vidal Carvajal",
      "userId": "16298127537705737010"
     },
     "user_tz": 240
    },
    "id": "sJ6G2a1xQ8_9"
   },
   "outputs": [],
   "source": [
    "import pandas as pd\n",
    "import matplotlib.pyplot as plt\n",
    "import plotly.express as px\n",
    "from sklearn.ensemble import RandomForestClassifier\n",
    "from sklearn.model_selection import train_test_split\n",
    "from sklearn.metrics import classification_report, confusion_matrix, accuracy_score\n",
    "from sklearn.preprocessing import OneHotEncoder, StandardScaler\n",
    "from sklearn.compose import ColumnTransformer"
   ]
  },
  {
   "cell_type": "markdown",
   "metadata": {
    "id": "1W059ubK2H-A"
   },
   "source": [
    "## **Paso 1: Lectura y ajuste de datos**\n",
    "Primero recopilaremos los datos de todos los datasets para tenerlos guardados únicamene en un dataframe."
   ]
  },
  {
   "cell_type": "code",
   "execution_count": 39,
   "metadata": {
    "executionInfo": {
     "elapsed": 61063,
     "status": "ok",
     "timestamp": 1748384735635,
     "user": {
      "displayName": "Franco Andrés Vidal Carvajal",
      "userId": "16298127537705737010"
     },
     "user_tz": 240
    },
    "id": "LN6oyf_9U1e5"
   },
   "outputs": [],
   "source": [
    "#Paths\n",
    "\n",
    "path1 = \"Proyecto2/2024/\"\n",
    "path2 = \"Proyecto2/2025/\"\n",
    "\n",
    "#------------------------------------------------------------------------------#\n",
    "\n",
    "#Reading the files from the Dataset\n",
    "\n",
    "#2024\n",
    "Accidentes_2024 = [\n",
    "    path1 + \"os2_acc_2024_01.xlsx\",\n",
    "    path1 + \"os2_acc_2024_02.xlsx\",\n",
    "    path1 + \"os2_acc_2024_03.xlsx\",\n",
    "    path1 + \"os2_acc_2024_04.xlsx\",\n",
    "    path1 + \"os2_acc_2024_05.xlsx\",\n",
    "    path1 + \"os2_acc_2024_06.xlsx\",\n",
    "    path1 + \"os2_acc_2024_07.xlsx\",\n",
    "    path1 + \"os2_acc_2024_08.xlsx\",\n",
    "    path1 + \"os2_acc_2024_09.xlsx\",\n",
    "    path1 + \"os2_acc_2024_10.xlsx\",\n",
    "    path1 + \"os2_acc_2024_11.xlsx\",\n",
    "    path1 + \"os2_acc_2024_12.xlsx\"\n",
    "]\n",
    "\n",
    "Personas_2024 = [\n",
    "    path1 + \"os2_perso_2024_01.xlsx\",\n",
    "    path1 + \"os2_perso_2024_02.xlsx\",\n",
    "    path1 + \"os2_perso_2024_03.xlsx\",\n",
    "    path1 + \"os2_perso_2024_04.xlsx\",\n",
    "    path1 + \"os2_perso_2024_05.xlsx\",\n",
    "    path1 + \"os2_perso_2024_06.xlsx\",\n",
    "    path1 + \"os2_perso_2024_07.xlsx\",\n",
    "    path1 + \"os2_perso_2024_08.xlsx\",\n",
    "    path1 + \"os2_perso_2024_09.xlsx\",\n",
    "    path1 + \"os2_perso_2024_10.xlsx\",\n",
    "    path1 + \"os2_perso_2024_11.xlsx\",\n",
    "    path1 + \"os2_perso_2024_12.xlsx\"\n",
    "]\n",
    "\n",
    "#Conjunto de Dataframes para su posterior correción\n",
    "dfs_acc_2024 = [pd.read_excel(f, index_col=None) for f in Accidentes_2024]\n",
    "dfs_perso_2024 = [pd.read_excel(f, index_col=None) for f in Personas_2024]\n",
    "\n",
    "#------------------------------------------------------------------------------#\n",
    "\n",
    "#2025\n",
    "\n",
    "Accidentes_2025 = [\n",
    "    path2 + \"Reporte_accidentes_2025_01.xlsx\",\n",
    "    path2 + \"Reporte_accidentes_2025_02.xlsx\"\n",
    "]\n",
    "\n",
    "Personas_2025 = [\n",
    "    path2 + \"tipo_personas_2025_01.xlsx\",\n",
    "    path2 + \"tipo_personas_2025_02.xlsx\"\n",
    "]\n",
    "\n",
    "#Conjunto de Dataframes para su posterior correción\n",
    "dfs_acc_2025 = [pd.read_excel(f, index_col=None) for f in Accidentes_2025]\n",
    "dfs_perso_2025 = [pd.read_excel(f, index_col=None) for f in Personas_2025]\n"
   ]
  },
  {
   "cell_type": "code",
   "execution_count": 40,
   "metadata": {
    "colab": {
     "base_uri": "https://localhost:8080/"
    },
    "executionInfo": {
     "elapsed": 23,
     "status": "ok",
     "timestamp": 1748384735636,
     "user": {
      "displayName": "Franco Andrés Vidal Carvajal",
      "userId": "16298127537705737010"
     },
     "user_tz": 240
    },
    "id": "mfwP21d_CKyQ",
    "outputId": "12578eb4-5274-43db-dfa8-fb87e35ddf22"
   },
   "outputs": [
    {
     "name": "stdout",
     "output_type": "stream",
     "text": [
      "Columnas del primer dataframe de accidentes 2024:\n",
      "['Idaccidente', 'Fecha', 'Mes', 'Hora', 'Comuna', 'Comunas', 'Región', 'Accdtes.', 'Causas', 'Urbano/Rural', 'Calleuno', 'Calledos', 'Frentenumero', 'Ruta', 'Ubicación km', 'Muertos', 'Graves', 'M/Grave', 'Leves', 'Ilesos', 'Parte Nro.', 'Tribunal']\n",
      "\n",
      "Columnas del primer dataframe de personas 2024:\n",
      "['Idaccidente', 'Fecha', 'Mes', 'Hora', 'Comuna', 'Comunas', 'Región', 'Calidad', 'Sexo', 'Edad', 'Resultado']\n",
      "\n",
      "Columnas del primer dataframe de accidentes 2025:\n",
      "['ID', 'FECHA', 'MES', 'HORA', 'COMUNA', 'ZONA', 'TIPO', 'CAUSA', 'SECTOR', 'CALLE_1', 'CALLE_2', 'KM', 'FALLECIDO', 'GRAVE', 'M/GRAVE', 'LEVE', 'ILESO', 'PARTE NRO.', 'TRIBUNAL']\n",
      "\n",
      "Columnas del primer dataframe de personas 2025:\n",
      "['ID', 'FECHA', 'MES', 'HORA', 'COMUNA', 'ZONA', 'CALIDAD', 'SEXO', 'EDAD', 'RESULTADO']\n",
      "\n"
     ]
    }
   ],
   "source": [
    "print(\"Columnas del primer dataframe de accidentes 2024:\")\n",
    "print(dfs_acc_2024[0].columns.tolist())\n",
    "print()\n",
    "\n",
    "print(\"Columnas del primer dataframe de personas 2024:\")\n",
    "print(dfs_perso_2024[0].columns.tolist())\n",
    "print()\n",
    "\n",
    "print(\"Columnas del primer dataframe de accidentes 2025:\")\n",
    "print(dfs_acc_2025[0].columns.tolist())\n",
    "print()\n",
    "\n",
    "print(\"Columnas del primer dataframe de personas 2025:\")\n",
    "print(dfs_perso_2025[0].columns.tolist())\n",
    "print()\n"
   ]
  },
  {
   "cell_type": "markdown",
   "metadata": {
    "id": "p3DkdNZKPzA8"
   },
   "source": [
    "Ahora leeremos las columnas del archivo para ver si coinciden todos los elementos o es necesario hacer modificaciones."
   ]
  },
  {
   "cell_type": "code",
   "execution_count": 41,
   "metadata": {
    "colab": {
     "base_uri": "https://localhost:8080/",
     "height": 70
    },
    "executionInfo": {
     "elapsed": 10,
     "status": "ok",
     "timestamp": 1748384735637,
     "user": {
      "displayName": "Franco Andrés Vidal Carvajal",
      "userId": "16298127537705737010"
     },
     "user_tz": 240
    },
    "id": "FTn1gfbYPx6E",
    "outputId": "30bbd5f3-ea26-4bac-821d-1de39bb31a3e"
   },
   "outputs": [
    {
     "data": {
      "text/plain": [
       "'\\n#2024\\n\\nfor i, df in enumerate(dfs_acc_2024):\\n    print(f\"Dataframe {i+1}: columnas -> {df.columns.tolist()}\")\\n\\nprint(\"-------------------------------------------------------------------\")\\n\\nfor i, df in enumerate(dfs_perso_2024):\\n    print(f\"Dataframe {i+1}: columnas -> {df.columns.tolist()}\")\\n\\nprint(\"-------------------------------------------------------------------\")\\n\\n#2025\\n\\nfor i, df in enumerate(dfs_acc_2025):\\n    print(f\"Dataframe {i+1}: columnas -> {df.columns.tolist()}\")\\n\\nprint(\"-------------------------------------------------------------------\")\\n\\nfor i, df in enumerate(dfs_perso_2025):\\n    print(f\"Dataframe {i+1}: columnas -> {df.columns.tolist()}\")\\n'"
      ]
     },
     "execution_count": 41,
     "metadata": {},
     "output_type": "execute_result"
    }
   ],
   "source": [
    "'''\n",
    "#2024\n",
    "\n",
    "for i, df in enumerate(dfs_acc_2024):\n",
    "    print(f\"Dataframe {i+1}: columnas -> {df.columns.tolist()}\")\n",
    "\n",
    "print(\"-------------------------------------------------------------------\")\n",
    "\n",
    "for i, df in enumerate(dfs_perso_2024):\n",
    "    print(f\"Dataframe {i+1}: columnas -> {df.columns.tolist()}\")\n",
    "\n",
    "print(\"-------------------------------------------------------------------\")\n",
    "\n",
    "#2025\n",
    "\n",
    "for i, df in enumerate(dfs_acc_2025):\n",
    "    print(f\"Dataframe {i+1}: columnas -> {df.columns.tolist()}\")\n",
    "\n",
    "print(\"-------------------------------------------------------------------\")\n",
    "\n",
    "for i, df in enumerate(dfs_perso_2025):\n",
    "    print(f\"Dataframe {i+1}: columnas -> {df.columns.tolist()}\")\n",
    "'''"
   ]
  },
  {
   "cell_type": "markdown",
   "metadata": {
    "id": "KHAfFCxsQ7Wd"
   },
   "source": [
    "Modificaciones pertinentes a los datos ya leídos:"
   ]
  },
  {
   "cell_type": "code",
   "execution_count": 42,
   "metadata": {
    "executionInfo": {
     "elapsed": 31,
     "status": "ok",
     "timestamp": 1748384735663,
     "user": {
      "displayName": "Franco Andrés Vidal Carvajal",
      "userId": "16298127537705737010"
     },
     "user_tz": 240
    },
    "id": "NKSDhtwIDjHM"
   },
   "outputs": [],
   "source": [
    "#Making the corrected versions\n",
    "\n",
    "dfs_acc_2024_corrected = [df.copy() for df in dfs_acc_2024]\n",
    "dfs_perso_2024_corrected = [df.copy() for df in dfs_perso_2024]\n",
    "\n",
    "\n",
    "#Making the corrections for accidents\n",
    "\n",
    "dfs_acc_2024_corrected[9].drop('Hora', axis = 1, inplace = True)\n",
    "dfs_acc_2024_corrected[9].rename(columns = {'Mes2': 'Hora'}, inplace = True)\n",
    "\n",
    "dfs_acc_2024_corrected[0].rename(columns = {'Comunas': 'Nomcomuna'}, inplace = True)\n",
    "dfs_acc_2024_corrected[1].rename(columns = {'Comunas': 'Nomcomuna'}, inplace = True)\n",
    "\n",
    "dfs_acc_2024_corrected[7].rename(columns = {'Siniestros': 'Accdtes.'}, inplace = True)\n",
    "dfs_acc_2024_corrected[8].rename(columns = {'Accdte': 'Accdtes.'}, inplace = True)\n",
    "dfs_acc_2024_corrected[9].rename(columns = {'Siniestros': 'Accdtes.'}, inplace = True)\n",
    "dfs_acc_2024_corrected[10].rename(columns = {'Siniestros': 'Accdtes.'}, inplace = True)\n",
    "dfs_acc_2024_corrected[11].rename(columns = {'Siniestros': 'Accdtes.'}, inplace = True)\n",
    "\n",
    "dfs_acc_2024_corrected[8].rename(columns = {'Rolruta': 'Ruta'}, inplace = True)\n",
    "dfs_acc_2024_corrected[8].rename(columns = {'Ubicacionkm': 'Ubicación km'}, inplace = True)\n",
    "dfs_acc_2024_corrected[2].rename(columns = {'Rolruta': 'Ruta'}, inplace = True)\n",
    "dfs_acc_2024_corrected[2].rename(columns = {'Ubicacionkm': 'Ubicación km'}, inplace = True)\n",
    "\n",
    "dfs_acc_2024_corrected[7].rename(columns = {'Fallecidos': 'Muertos'}, inplace = True)\n",
    "dfs_acc_2024_corrected[9].rename(columns = {'Fallecidos': 'Muertos'}, inplace = True)\n",
    "dfs_acc_2024_corrected[10].rename(columns = {'Fallecidos': 'Muertos'}, inplace = True)\n",
    "dfs_acc_2024_corrected[11].rename(columns = {'Fallecidos': 'Muertos'}, inplace = True)\n",
    "\n",
    "dfs_acc_2024_corrected[8].rename(columns = {'Partenro': 'Parte Nro.'}, inplace = True)\n",
    "\n",
    "dfs_acc_2024_corrected[8].rename(columns = {'Region': 'Región'}, inplace = True)\n",
    "\n",
    "#Making the corrections for persons\n",
    "\n",
    "dfs_perso_2024_corrected[0].rename(columns = {'Comunas': 'Nomcomuna'}, inplace = True)\n",
    "dfs_perso_2024_corrected[1].rename(columns = {'Comunas': 'Nomcomuna'}, inplace = True)\n",
    "dfs_perso_2024_corrected[2].rename(columns = {'Comuna2': 'Nomcomuna'}, inplace = True)\n",
    "\n",
    "dfs_perso_2024_corrected[6].rename(columns = {'Regiòn': 'Región'}, inplace = True)\n",
    "dfs_perso_2024_corrected[7].rename(columns = {'Regiòn': 'Región'}, inplace = True)\n",
    "dfs_perso_2024_corrected[8].rename(columns = {'Region': 'Región'}, inplace = True)\n",
    "dfs_perso_2024_corrected[9].rename(columns = {'Regiòn': 'Región'}, inplace = True)\n",
    "dfs_perso_2024_corrected[10].rename(columns = {'Region': 'Región'}, inplace = True)\n",
    "dfs_perso_2024_corrected[11].rename(columns = {'Region': 'Región'}, inplace = True)"
   ]
  },
  {
   "cell_type": "markdown",
   "metadata": {
    "id": "Jmt9J3cNVJen"
   },
   "source": [
    "Creación de los dataframes"
   ]
  },
  {
   "cell_type": "code",
   "execution_count": 43,
   "metadata": {
    "executionInfo": {
     "elapsed": 60,
     "status": "ok",
     "timestamp": 1748384735725,
     "user": {
      "displayName": "Franco Andrés Vidal Carvajal",
      "userId": "16298127537705737010"
     },
     "user_tz": 240
    },
    "id": "RuvspVYc3_3Q"
   },
   "outputs": [],
   "source": [
    "Accidentes24_data = pd.concat(dfs_acc_2024_corrected)\n",
    "Personas24_data = pd.concat(dfs_perso_2024_corrected)\n",
    "\n",
    "Accidentes25_data = pd.concat(dfs_acc_2025)\n",
    "Personas25_data = pd.concat(dfs_perso_2025)"
   ]
  },
  {
   "cell_type": "code",
   "execution_count": null,
   "metadata": {
    "executionInfo": {
     "elapsed": 43,
     "status": "ok",
     "timestamp": 1748384735778,
     "user": {
      "displayName": "Franco Andrés Vidal Carvajal",
      "userId": "16298127537705737010"
     },
     "user_tz": 240
    },
    "id": "Q-YTzz3Kma6D"
   },
   "outputs": [],
   "source": [
    "\n"
   ]
  },
  {
   "cell_type": "code",
   "execution_count": 44,
   "metadata": {
    "colab": {
     "base_uri": "https://localhost:8080/"
    },
    "executionInfo": {
     "elapsed": 28,
     "status": "ok",
     "timestamp": 1748384735785,
     "user": {
      "displayName": "Franco Andrés Vidal Carvajal",
      "userId": "16298127537705737010"
     },
     "user_tz": 240
    },
    "id": "BiL21nhh1DBt",
    "outputId": "944b3053-d6d1-41dc-a4c7-e680d12408e5"
   },
   "outputs": [
    {
     "data": {
      "text/plain": [
       "(8913, 19)"
      ]
     },
     "execution_count": 44,
     "metadata": {},
     "output_type": "execute_result"
    }
   ],
   "source": [
    "Accidentes25_data.shape"
   ]
  },
  {
   "cell_type": "markdown",
   "metadata": {
    "id": "ia5CsNH7DdZe"
   },
   "source": []
  },
  {
   "cell_type": "markdown",
   "metadata": {
    "id": "xkTYFDb72aBl"
   },
   "source": [
    "Mapear datatypes"
   ]
  },
  {
   "cell_type": "markdown",
   "metadata": {
    "id": "jhf4PovzWujM"
   },
   "source": [
    "## **Paso 2: Limpieza y asignacion de tipos de datos**\n",
    "Ahora limpiaremos los datos que causan problemas y asignaremos los tipos de datos asignados a cada variable para que su manipulación sea mucho mas sencilla.\n",
    "\n"
   ]
  },
  {
   "cell_type": "markdown",
   "metadata": {
    "id": "yr9lHnyTY5Hh"
   },
   "source": [
    "Datos en cada dataframe de accidentes (En el dataframe de 2025, solo existe el nombre de la comuna y no hay diferenciacion entre ruta y calle):\n",
    "- **Idaccidente (int):** Código asociado al accidente\n",
    "- **Fecha (datetime[64]):** Fecha en que ocurrio el accidente\n",
    "- **Mes (str):** Mes en que ocurrio el accidente\n",
    "- **Hora (datetime[64]):** Mes del accidente\n",
    "- **Comuna (int):** Comuna donde ocurrió\n",
    "- **Nomcomuna (str):** Nombre de la comuna\n",
    "- **Región (str):** Región donde ocurrió\n",
    "- **Accdtes. (str):** Tipo de accidente\n",
    "- **Causas (str):** Causas del accidente\n",
    "- **Urbano/Rural (str (URBANO o RURAL)):** Zona del accidente\n",
    "- **Calleuno (str):** Primera calle\n",
    "- **Calledos (str):** Segunda calle\n",
    "- **Frentenumero (int):** Número de la calle, si solo ocurrió en una\n",
    "- **Rolruta (str):** Nombre de la ruta si fuese necesario\n",
    "- **Ubicación km (Float):** Si fue en ruta, en que ubicación de ella\n",
    "- **Información de afectados (Muerto, ileso, etc..) (int):** Condición de los afectados\n",
    "- **Parte Nro. (int):** Número del parte\n",
    "- **Tribulal (str):** Tribunal encargado del accidente\n",
    "\n",
    "Datos en cada dataframe de personas (En el dataframe de 2025 solo se guarda el nombre de la comuna):\n",
    "- **Idaccidente (int):** Código asociado al accidente\n",
    "- **Fecha (datetime[64]):** Fecha en que ocurrio el accidente\n",
    "- **Mes (str):** Mes en que ocurrio el accidente\n",
    "- **Hora (datetime[64]):** Mes del accidente\n",
    "- **Comuna (str):** Comuna donde ocurrió\n",
    "- **Nomcomuna (str):** Nombre de la comuna\n",
    "- **Región (str):** Región donde ocurrió\n",
    "- **Calidad (str):** Rol del afectado\n",
    "- **Sexo (str):** Masculino o femenino\n",
    "- **Edad (int):** Edad del afectado\n",
    "- **Resultado (str):** Condición final del afectado"
   ]
  },
  {
   "cell_type": "code",
   "execution_count": 45,
   "metadata": {
    "executionInfo": {
     "elapsed": 23,
     "status": "ok",
     "timestamp": 1748384735786,
     "user": {
      "displayName": "Franco Andrés Vidal Carvajal",
      "userId": "16298127537705737010"
     },
     "user_tz": 240
    },
    "id": "-CNXl83tW_8D"
   },
   "outputs": [],
   "source": [
    "#Accidentes24_data.dtypes\n",
    "#Accidentes25_data.dtypes\n",
    "#Personas24_data.dtypes\n",
    "#Personas25_data.dtypes"
   ]
  },
  {
   "cell_type": "code",
   "execution_count": 46,
   "metadata": {
    "colab": {
     "base_uri": "https://localhost:8080/"
    },
    "executionInfo": {
     "elapsed": 267,
     "status": "ok",
     "timestamp": 1748384736043,
     "user": {
      "displayName": "Franco Andrés Vidal Carvajal",
      "userId": "16298127537705737010"
     },
     "user_tz": 240
    },
    "id": "LTfarA7YUnNd",
    "outputId": "d416bfed-1bc2-48c9-d55d-aaff033deeb3"
   },
   "outputs": [
    {
     "name": "stderr",
     "output_type": "stream",
     "text": [
      "C:\\Users\\ivans\\AppData\\Local\\Temp\\ipykernel_4748\\349512289.py:2: UserWarning: Could not infer format, so each element will be parsed individually, falling back to `dateutil`. To ensure parsing is consistent and as-expected, please specify a format.\n",
      "  Accidentes25_data['HORA'] = pd.to_datetime(Accidentes25_data['HORA'], errors='coerce')\n",
      "C:\\Users\\ivans\\AppData\\Local\\Temp\\ipykernel_4748\\349512289.py:5: UserWarning: Could not infer format, so each element will be parsed individually, falling back to `dateutil`. To ensure parsing is consistent and as-expected, please specify a format.\n",
      "  Personas25_data['HORA'] = pd.to_datetime(Personas25_data['HORA'], errors='coerce')\n"
     ]
    }
   ],
   "source": [
    "Accidentes24_data['Hora'] = pd.to_datetime(Accidentes24_data['Hora'], errors='coerce')\n",
    "Accidentes25_data['HORA'] = pd.to_datetime(Accidentes25_data['HORA'], errors='coerce')\n",
    "\n",
    "Personas24_data['Hora'] = pd.to_datetime(Personas24_data['Hora'], errors='coerce')\n",
    "Personas25_data['HORA'] = pd.to_datetime(Personas25_data['HORA'], errors='coerce')\n",
    "\n",
    "def normalizar_columna(col):\n",
    "    col = col.strip().lower()\n",
    "    col = col.replace('á', 'a')\n",
    "    col = col.replace('é', 'e')\n",
    "    col = col.replace('í', 'i')\n",
    "    col = col.replace('ó', 'o')\n",
    "    col = col.replace('ú', 'u')\n",
    "    col = col.replace('ñ', 'ñ')\n",
    "    col = col.replace('ü', 'u')\n",
    "    return col\n",
    "\n",
    "Accidentes24_data['Región'] = Accidentes24_data['Región'].apply(normalizar_columna)\n",
    "Accidentes24_data['Urbano/Rural'] = Accidentes24_data['Urbano/Rural'].apply(normalizar_columna)\n",
    "Accidentes24_data['Nomcomuna'] = Accidentes24_data['Nomcomuna'].apply(normalizar_columna)\n",
    "\n",
    "Personas24_data['Región'] = Personas24_data['Región'].apply(normalizar_columna)"
   ]
  },
  {
   "cell_type": "markdown",
   "metadata": {
    "id": "LP9vbz60hhY1"
   },
   "source": [
    "## **Paso 3: Exploración y gráficos**"
   ]
  },
  {
   "cell_type": "code",
   "execution_count": 47,
   "metadata": {
    "colab": {
     "base_uri": "https://localhost:8080/",
     "height": 517
    },
    "executionInfo": {
     "elapsed": 2088,
     "status": "ok",
     "timestamp": 1748384738138,
     "user": {
      "displayName": "Franco Andrés Vidal Carvajal",
      "userId": "16298127537705737010"
     },
     "user_tz": 240
    },
    "id": "HtUL5qpJhuAu",
    "outputId": "2aa920f2-4294-4349-f1c5-a7ad32701c14"
   },
   "outputs": [
    {
     "data": {
      "application/vnd.plotly.v1+json": {
       "config": {
        "plotlyServerURL": "https://plot.ly"
       },
       "data": [
        {
         "marker": {
          "color": "skyblue"
         },
         "name": "2024",
         "type": "bar",
         "x": [
          "metropolitana",
          "bio-bio",
          "valparaiso",
          "maule",
          "araucania",
          "los lagos",
          "lib. bdo. o´higgins",
          "coquimbo",
          "antofagasta",
          "ñuble"
         ],
         "xaxis": "x",
         "y": {
          "bdata": "lkEBGiYXJBbPFAwRkgsVC+oIqgg=",
          "dtype": "i2"
         },
         "yaxis": "y"
        },
        {
         "marker": {
          "color": "skyblue"
         },
         "name": "2025",
         "type": "bar",
         "x": [
          "ZONA METROPOLITANA",
          "ZONA DEL BIOBIO",
          "ZONA DEL MAULE",
          "ZONA DE VALPARAISO",
          "ZONA DE LA ARAUCANIA",
          "ZONA DE LOS LAGOS",
          "ZONA DEL LIB. B. OHIGGINS",
          "ZONA DE COQUIMBO",
          "ZONA DE ANTOFAGASTA",
          "ZONA DE NUBLE"
         ],
         "xaxis": "x2",
         "y": {
          "bdata": "tgj2A6UDPgPrAh4CCwK+AY8B+AA=",
          "dtype": "i2"
         },
         "yaxis": "y2"
        }
       ],
       "layout": {
        "annotations": [
         {
          "font": {
           "size": 16
          },
          "showarrow": false,
          "text": "Accidentes por Región (2024)",
          "x": 0.225,
          "xanchor": "center",
          "xref": "paper",
          "y": 1,
          "yanchor": "bottom",
          "yref": "paper"
         },
         {
          "font": {
           "size": 16
          },
          "showarrow": false,
          "text": "Accidentes por Región (Ene-Feb 2025)",
          "x": 0.775,
          "xanchor": "center",
          "xref": "paper",
          "y": 1,
          "yanchor": "bottom",
          "yref": "paper"
         }
        ],
        "font": {
         "size": 16
        },
        "height": 500,
        "showlegend": false,
        "template": {
         "data": {
          "bar": [
           {
            "error_x": {
             "color": "#2a3f5f"
            },
            "error_y": {
             "color": "#2a3f5f"
            },
            "marker": {
             "line": {
              "color": "white",
              "width": 0.5
             },
             "pattern": {
              "fillmode": "overlay",
              "size": 10,
              "solidity": 0.2
             }
            },
            "type": "bar"
           }
          ],
          "barpolar": [
           {
            "marker": {
             "line": {
              "color": "white",
              "width": 0.5
             },
             "pattern": {
              "fillmode": "overlay",
              "size": 10,
              "solidity": 0.2
             }
            },
            "type": "barpolar"
           }
          ],
          "carpet": [
           {
            "aaxis": {
             "endlinecolor": "#2a3f5f",
             "gridcolor": "#C8D4E3",
             "linecolor": "#C8D4E3",
             "minorgridcolor": "#C8D4E3",
             "startlinecolor": "#2a3f5f"
            },
            "baxis": {
             "endlinecolor": "#2a3f5f",
             "gridcolor": "#C8D4E3",
             "linecolor": "#C8D4E3",
             "minorgridcolor": "#C8D4E3",
             "startlinecolor": "#2a3f5f"
            },
            "type": "carpet"
           }
          ],
          "choropleth": [
           {
            "colorbar": {
             "outlinewidth": 0,
             "ticks": ""
            },
            "type": "choropleth"
           }
          ],
          "contour": [
           {
            "colorbar": {
             "outlinewidth": 0,
             "ticks": ""
            },
            "colorscale": [
             [
              0,
              "#0d0887"
             ],
             [
              0.1111111111111111,
              "#46039f"
             ],
             [
              0.2222222222222222,
              "#7201a8"
             ],
             [
              0.3333333333333333,
              "#9c179e"
             ],
             [
              0.4444444444444444,
              "#bd3786"
             ],
             [
              0.5555555555555556,
              "#d8576b"
             ],
             [
              0.6666666666666666,
              "#ed7953"
             ],
             [
              0.7777777777777778,
              "#fb9f3a"
             ],
             [
              0.8888888888888888,
              "#fdca26"
             ],
             [
              1,
              "#f0f921"
             ]
            ],
            "type": "contour"
           }
          ],
          "contourcarpet": [
           {
            "colorbar": {
             "outlinewidth": 0,
             "ticks": ""
            },
            "type": "contourcarpet"
           }
          ],
          "heatmap": [
           {
            "colorbar": {
             "outlinewidth": 0,
             "ticks": ""
            },
            "colorscale": [
             [
              0,
              "#0d0887"
             ],
             [
              0.1111111111111111,
              "#46039f"
             ],
             [
              0.2222222222222222,
              "#7201a8"
             ],
             [
              0.3333333333333333,
              "#9c179e"
             ],
             [
              0.4444444444444444,
              "#bd3786"
             ],
             [
              0.5555555555555556,
              "#d8576b"
             ],
             [
              0.6666666666666666,
              "#ed7953"
             ],
             [
              0.7777777777777778,
              "#fb9f3a"
             ],
             [
              0.8888888888888888,
              "#fdca26"
             ],
             [
              1,
              "#f0f921"
             ]
            ],
            "type": "heatmap"
           }
          ],
          "histogram": [
           {
            "marker": {
             "pattern": {
              "fillmode": "overlay",
              "size": 10,
              "solidity": 0.2
             }
            },
            "type": "histogram"
           }
          ],
          "histogram2d": [
           {
            "colorbar": {
             "outlinewidth": 0,
             "ticks": ""
            },
            "colorscale": [
             [
              0,
              "#0d0887"
             ],
             [
              0.1111111111111111,
              "#46039f"
             ],
             [
              0.2222222222222222,
              "#7201a8"
             ],
             [
              0.3333333333333333,
              "#9c179e"
             ],
             [
              0.4444444444444444,
              "#bd3786"
             ],
             [
              0.5555555555555556,
              "#d8576b"
             ],
             [
              0.6666666666666666,
              "#ed7953"
             ],
             [
              0.7777777777777778,
              "#fb9f3a"
             ],
             [
              0.8888888888888888,
              "#fdca26"
             ],
             [
              1,
              "#f0f921"
             ]
            ],
            "type": "histogram2d"
           }
          ],
          "histogram2dcontour": [
           {
            "colorbar": {
             "outlinewidth": 0,
             "ticks": ""
            },
            "colorscale": [
             [
              0,
              "#0d0887"
             ],
             [
              0.1111111111111111,
              "#46039f"
             ],
             [
              0.2222222222222222,
              "#7201a8"
             ],
             [
              0.3333333333333333,
              "#9c179e"
             ],
             [
              0.4444444444444444,
              "#bd3786"
             ],
             [
              0.5555555555555556,
              "#d8576b"
             ],
             [
              0.6666666666666666,
              "#ed7953"
             ],
             [
              0.7777777777777778,
              "#fb9f3a"
             ],
             [
              0.8888888888888888,
              "#fdca26"
             ],
             [
              1,
              "#f0f921"
             ]
            ],
            "type": "histogram2dcontour"
           }
          ],
          "mesh3d": [
           {
            "colorbar": {
             "outlinewidth": 0,
             "ticks": ""
            },
            "type": "mesh3d"
           }
          ],
          "parcoords": [
           {
            "line": {
             "colorbar": {
              "outlinewidth": 0,
              "ticks": ""
             }
            },
            "type": "parcoords"
           }
          ],
          "pie": [
           {
            "automargin": true,
            "type": "pie"
           }
          ],
          "scatter": [
           {
            "fillpattern": {
             "fillmode": "overlay",
             "size": 10,
             "solidity": 0.2
            },
            "type": "scatter"
           }
          ],
          "scatter3d": [
           {
            "line": {
             "colorbar": {
              "outlinewidth": 0,
              "ticks": ""
             }
            },
            "marker": {
             "colorbar": {
              "outlinewidth": 0,
              "ticks": ""
             }
            },
            "type": "scatter3d"
           }
          ],
          "scattercarpet": [
           {
            "marker": {
             "colorbar": {
              "outlinewidth": 0,
              "ticks": ""
             }
            },
            "type": "scattercarpet"
           }
          ],
          "scattergeo": [
           {
            "marker": {
             "colorbar": {
              "outlinewidth": 0,
              "ticks": ""
             }
            },
            "type": "scattergeo"
           }
          ],
          "scattergl": [
           {
            "marker": {
             "colorbar": {
              "outlinewidth": 0,
              "ticks": ""
             }
            },
            "type": "scattergl"
           }
          ],
          "scattermap": [
           {
            "marker": {
             "colorbar": {
              "outlinewidth": 0,
              "ticks": ""
             }
            },
            "type": "scattermap"
           }
          ],
          "scattermapbox": [
           {
            "marker": {
             "colorbar": {
              "outlinewidth": 0,
              "ticks": ""
             }
            },
            "type": "scattermapbox"
           }
          ],
          "scatterpolar": [
           {
            "marker": {
             "colorbar": {
              "outlinewidth": 0,
              "ticks": ""
             }
            },
            "type": "scatterpolar"
           }
          ],
          "scatterpolargl": [
           {
            "marker": {
             "colorbar": {
              "outlinewidth": 0,
              "ticks": ""
             }
            },
            "type": "scatterpolargl"
           }
          ],
          "scatterternary": [
           {
            "marker": {
             "colorbar": {
              "outlinewidth": 0,
              "ticks": ""
             }
            },
            "type": "scatterternary"
           }
          ],
          "surface": [
           {
            "colorbar": {
             "outlinewidth": 0,
             "ticks": ""
            },
            "colorscale": [
             [
              0,
              "#0d0887"
             ],
             [
              0.1111111111111111,
              "#46039f"
             ],
             [
              0.2222222222222222,
              "#7201a8"
             ],
             [
              0.3333333333333333,
              "#9c179e"
             ],
             [
              0.4444444444444444,
              "#bd3786"
             ],
             [
              0.5555555555555556,
              "#d8576b"
             ],
             [
              0.6666666666666666,
              "#ed7953"
             ],
             [
              0.7777777777777778,
              "#fb9f3a"
             ],
             [
              0.8888888888888888,
              "#fdca26"
             ],
             [
              1,
              "#f0f921"
             ]
            ],
            "type": "surface"
           }
          ],
          "table": [
           {
            "cells": {
             "fill": {
              "color": "#EBF0F8"
             },
             "line": {
              "color": "white"
             }
            },
            "header": {
             "fill": {
              "color": "#C8D4E3"
             },
             "line": {
              "color": "white"
             }
            },
            "type": "table"
           }
          ]
         },
         "layout": {
          "annotationdefaults": {
           "arrowcolor": "#2a3f5f",
           "arrowhead": 0,
           "arrowwidth": 1
          },
          "autotypenumbers": "strict",
          "coloraxis": {
           "colorbar": {
            "outlinewidth": 0,
            "ticks": ""
           }
          },
          "colorscale": {
           "diverging": [
            [
             0,
             "#8e0152"
            ],
            [
             0.1,
             "#c51b7d"
            ],
            [
             0.2,
             "#de77ae"
            ],
            [
             0.3,
             "#f1b6da"
            ],
            [
             0.4,
             "#fde0ef"
            ],
            [
             0.5,
             "#f7f7f7"
            ],
            [
             0.6,
             "#e6f5d0"
            ],
            [
             0.7,
             "#b8e186"
            ],
            [
             0.8,
             "#7fbc41"
            ],
            [
             0.9,
             "#4d9221"
            ],
            [
             1,
             "#276419"
            ]
           ],
           "sequential": [
            [
             0,
             "#0d0887"
            ],
            [
             0.1111111111111111,
             "#46039f"
            ],
            [
             0.2222222222222222,
             "#7201a8"
            ],
            [
             0.3333333333333333,
             "#9c179e"
            ],
            [
             0.4444444444444444,
             "#bd3786"
            ],
            [
             0.5555555555555556,
             "#d8576b"
            ],
            [
             0.6666666666666666,
             "#ed7953"
            ],
            [
             0.7777777777777778,
             "#fb9f3a"
            ],
            [
             0.8888888888888888,
             "#fdca26"
            ],
            [
             1,
             "#f0f921"
            ]
           ],
           "sequentialminus": [
            [
             0,
             "#0d0887"
            ],
            [
             0.1111111111111111,
             "#46039f"
            ],
            [
             0.2222222222222222,
             "#7201a8"
            ],
            [
             0.3333333333333333,
             "#9c179e"
            ],
            [
             0.4444444444444444,
             "#bd3786"
            ],
            [
             0.5555555555555556,
             "#d8576b"
            ],
            [
             0.6666666666666666,
             "#ed7953"
            ],
            [
             0.7777777777777778,
             "#fb9f3a"
            ],
            [
             0.8888888888888888,
             "#fdca26"
            ],
            [
             1,
             "#f0f921"
            ]
           ]
          },
          "colorway": [
           "#636efa",
           "#EF553B",
           "#00cc96",
           "#ab63fa",
           "#FFA15A",
           "#19d3f3",
           "#FF6692",
           "#B6E880",
           "#FF97FF",
           "#FECB52"
          ],
          "font": {
           "color": "#2a3f5f"
          },
          "geo": {
           "bgcolor": "white",
           "lakecolor": "white",
           "landcolor": "white",
           "showlakes": true,
           "showland": true,
           "subunitcolor": "#C8D4E3"
          },
          "hoverlabel": {
           "align": "left"
          },
          "hovermode": "closest",
          "mapbox": {
           "style": "light"
          },
          "paper_bgcolor": "white",
          "plot_bgcolor": "white",
          "polar": {
           "angularaxis": {
            "gridcolor": "#EBF0F8",
            "linecolor": "#EBF0F8",
            "ticks": ""
           },
           "bgcolor": "white",
           "radialaxis": {
            "gridcolor": "#EBF0F8",
            "linecolor": "#EBF0F8",
            "ticks": ""
           }
          },
          "scene": {
           "xaxis": {
            "backgroundcolor": "white",
            "gridcolor": "#DFE8F3",
            "gridwidth": 2,
            "linecolor": "#EBF0F8",
            "showbackground": true,
            "ticks": "",
            "zerolinecolor": "#EBF0F8"
           },
           "yaxis": {
            "backgroundcolor": "white",
            "gridcolor": "#DFE8F3",
            "gridwidth": 2,
            "linecolor": "#EBF0F8",
            "showbackground": true,
            "ticks": "",
            "zerolinecolor": "#EBF0F8"
           },
           "zaxis": {
            "backgroundcolor": "white",
            "gridcolor": "#DFE8F3",
            "gridwidth": 2,
            "linecolor": "#EBF0F8",
            "showbackground": true,
            "ticks": "",
            "zerolinecolor": "#EBF0F8"
           }
          },
          "shapedefaults": {
           "line": {
            "color": "#2a3f5f"
           }
          },
          "ternary": {
           "aaxis": {
            "gridcolor": "#DFE8F3",
            "linecolor": "#A2B1C6",
            "ticks": ""
           },
           "baxis": {
            "gridcolor": "#DFE8F3",
            "linecolor": "#A2B1C6",
            "ticks": ""
           },
           "bgcolor": "white",
           "caxis": {
            "gridcolor": "#DFE8F3",
            "linecolor": "#A2B1C6",
            "ticks": ""
           }
          },
          "title": {
           "x": 0.05
          },
          "xaxis": {
           "automargin": true,
           "gridcolor": "#EBF0F8",
           "linecolor": "#EBF0F8",
           "ticks": "",
           "title": {
            "standoff": 15
           },
           "zerolinecolor": "#EBF0F8",
           "zerolinewidth": 2
          },
          "yaxis": {
           "automargin": true,
           "gridcolor": "#EBF0F8",
           "linecolor": "#EBF0F8",
           "ticks": "",
           "title": {
            "standoff": 15
           },
           "zerolinecolor": "#EBF0F8",
           "zerolinewidth": 2
          }
         }
        },
        "title": {
         "font": {
          "size": 20
         },
         "text": "Comparación de Accidentes por Región (2024 vs Ene-Feb 2025)"
        },
        "width": 1000,
        "xaxis": {
         "anchor": "y",
         "domain": [
          0,
          0.45
         ],
         "tickangle": 90
        },
        "xaxis2": {
         "anchor": "y2",
         "domain": [
          0.55,
          1
         ],
         "tickangle": 90
        },
        "yaxis": {
         "anchor": "x",
         "domain": [
          0,
          1
         ]
        },
        "yaxis2": {
         "anchor": "x2",
         "domain": [
          0,
          1
         ]
        }
       }
      }
     },
     "metadata": {},
     "output_type": "display_data"
    }
   ],
   "source": [
    "import plotly.graph_objects as go\n",
    "from plotly.subplots import make_subplots\n",
    "\n",
    "# Creamos un gráfico con dos subplots, uno para cada año\n",
    "fig = make_subplots(rows=1, cols=2, subplot_titles=(\"Accidentes por Región (2024)\", \"Accidentes por Región (Ene-Feb 2025)\"))\n",
    "\n",
    "# Datos de 2024 (Top 10 Regiones)\n",
    "top_10_regiones_2024 = Accidentes24_data['Región'].value_counts().head(10)\n",
    "\n",
    "fig.add_trace(go.Bar(\n",
    "    x=top_10_regiones_2024.index,\n",
    "    y=top_10_regiones_2024.values,\n",
    "    name='2024',\n",
    "    marker_color='skyblue'\n",
    "), row=1, col=1)\n",
    "\n",
    "# Datos de 2025 (Top 10 Regiones)\n",
    "top_10_regiones_2025 = Accidentes25_data['ZONA'].value_counts().head(10)\n",
    "\n",
    "fig.add_trace(go.Bar(\n",
    "    x=top_10_regiones_2025.index,\n",
    "    y=top_10_regiones_2025.values,\n",
    "    name='2025',\n",
    "    marker_color='skyblue'\n",
    "), row=1, col=2)\n",
    "\n",
    "# Ajustes de diseño\n",
    "fig.update_layout(\n",
    "    title_text='Comparación de Accidentes por Región (2024 vs Ene-Feb 2025)',\n",
    "    showlegend=False,\n",
    "    template='plotly_white',\n",
    "    height=500,\n",
    "    width=1000,\n",
    "    title_font=dict(size=20),  # Tamaño de la fuente del título\n",
    "    font=dict(size=16)  # Tamaño de la fuente para etiquetas\n",
    ")\n",
    "\n",
    "# Ajustes para que las etiquetas se vean correctamente\n",
    "fig.update_xaxes(tickangle=90)\n",
    "\n",
    "# Mostrar el gráfico\n",
    "fig.show()\n"
   ]
  },
  {
   "cell_type": "code",
   "execution_count": 48,
   "metadata": {
    "colab": {
     "base_uri": "https://localhost:8080/",
     "height": 542
    },
    "executionInfo": {
     "elapsed": 362,
     "status": "ok",
     "timestamp": 1748384738503,
     "user": {
      "displayName": "Franco Andrés Vidal Carvajal",
      "userId": "16298127537705737010"
     },
     "user_tz": 240
    },
    "id": "EoPA9EpcKHPs",
    "outputId": "2a60b666-7d4c-4513-ab69-09ec7ce968ab"
   },
   "outputs": [
    {
     "data": {
      "application/vnd.plotly.v1+json": {
       "config": {
        "plotlyServerURL": "https://plot.ly"
       },
       "data": [
        {
         "line": {
          "color": "skyblue",
          "width": 2
         },
         "marker": {
          "color": "skyblue",
          "size": 6,
          "symbol": "circle"
         },
         "mode": "lines+markers",
         "name": "Accidentes",
         "type": "scatter",
         "x": {
          "bdata": "AQAAAAIAAAADAAAABAAAAAUAAAAGAAAABwAAAAgAAAAJAAAACgAAAAsAAAAMAAAA",
          "dtype": "i4"
         },
         "y": {
          "bdata": "whTVEf0SGxPIF+oUqhZDFHkVqBLhEkUR",
          "dtype": "i2"
         }
        }
       ],
       "layout": {
        "font": {
         "size": 20
        },
        "plot_bgcolor": "white",
        "showlegend": true,
        "template": {
         "data": {
          "bar": [
           {
            "error_x": {
             "color": "#2a3f5f"
            },
            "error_y": {
             "color": "#2a3f5f"
            },
            "marker": {
             "line": {
              "color": "white",
              "width": 0.5
             },
             "pattern": {
              "fillmode": "overlay",
              "size": 10,
              "solidity": 0.2
             }
            },
            "type": "bar"
           }
          ],
          "barpolar": [
           {
            "marker": {
             "line": {
              "color": "white",
              "width": 0.5
             },
             "pattern": {
              "fillmode": "overlay",
              "size": 10,
              "solidity": 0.2
             }
            },
            "type": "barpolar"
           }
          ],
          "carpet": [
           {
            "aaxis": {
             "endlinecolor": "#2a3f5f",
             "gridcolor": "#C8D4E3",
             "linecolor": "#C8D4E3",
             "minorgridcolor": "#C8D4E3",
             "startlinecolor": "#2a3f5f"
            },
            "baxis": {
             "endlinecolor": "#2a3f5f",
             "gridcolor": "#C8D4E3",
             "linecolor": "#C8D4E3",
             "minorgridcolor": "#C8D4E3",
             "startlinecolor": "#2a3f5f"
            },
            "type": "carpet"
           }
          ],
          "choropleth": [
           {
            "colorbar": {
             "outlinewidth": 0,
             "ticks": ""
            },
            "type": "choropleth"
           }
          ],
          "contour": [
           {
            "colorbar": {
             "outlinewidth": 0,
             "ticks": ""
            },
            "colorscale": [
             [
              0,
              "#0d0887"
             ],
             [
              0.1111111111111111,
              "#46039f"
             ],
             [
              0.2222222222222222,
              "#7201a8"
             ],
             [
              0.3333333333333333,
              "#9c179e"
             ],
             [
              0.4444444444444444,
              "#bd3786"
             ],
             [
              0.5555555555555556,
              "#d8576b"
             ],
             [
              0.6666666666666666,
              "#ed7953"
             ],
             [
              0.7777777777777778,
              "#fb9f3a"
             ],
             [
              0.8888888888888888,
              "#fdca26"
             ],
             [
              1,
              "#f0f921"
             ]
            ],
            "type": "contour"
           }
          ],
          "contourcarpet": [
           {
            "colorbar": {
             "outlinewidth": 0,
             "ticks": ""
            },
            "type": "contourcarpet"
           }
          ],
          "heatmap": [
           {
            "colorbar": {
             "outlinewidth": 0,
             "ticks": ""
            },
            "colorscale": [
             [
              0,
              "#0d0887"
             ],
             [
              0.1111111111111111,
              "#46039f"
             ],
             [
              0.2222222222222222,
              "#7201a8"
             ],
             [
              0.3333333333333333,
              "#9c179e"
             ],
             [
              0.4444444444444444,
              "#bd3786"
             ],
             [
              0.5555555555555556,
              "#d8576b"
             ],
             [
              0.6666666666666666,
              "#ed7953"
             ],
             [
              0.7777777777777778,
              "#fb9f3a"
             ],
             [
              0.8888888888888888,
              "#fdca26"
             ],
             [
              1,
              "#f0f921"
             ]
            ],
            "type": "heatmap"
           }
          ],
          "histogram": [
           {
            "marker": {
             "pattern": {
              "fillmode": "overlay",
              "size": 10,
              "solidity": 0.2
             }
            },
            "type": "histogram"
           }
          ],
          "histogram2d": [
           {
            "colorbar": {
             "outlinewidth": 0,
             "ticks": ""
            },
            "colorscale": [
             [
              0,
              "#0d0887"
             ],
             [
              0.1111111111111111,
              "#46039f"
             ],
             [
              0.2222222222222222,
              "#7201a8"
             ],
             [
              0.3333333333333333,
              "#9c179e"
             ],
             [
              0.4444444444444444,
              "#bd3786"
             ],
             [
              0.5555555555555556,
              "#d8576b"
             ],
             [
              0.6666666666666666,
              "#ed7953"
             ],
             [
              0.7777777777777778,
              "#fb9f3a"
             ],
             [
              0.8888888888888888,
              "#fdca26"
             ],
             [
              1,
              "#f0f921"
             ]
            ],
            "type": "histogram2d"
           }
          ],
          "histogram2dcontour": [
           {
            "colorbar": {
             "outlinewidth": 0,
             "ticks": ""
            },
            "colorscale": [
             [
              0,
              "#0d0887"
             ],
             [
              0.1111111111111111,
              "#46039f"
             ],
             [
              0.2222222222222222,
              "#7201a8"
             ],
             [
              0.3333333333333333,
              "#9c179e"
             ],
             [
              0.4444444444444444,
              "#bd3786"
             ],
             [
              0.5555555555555556,
              "#d8576b"
             ],
             [
              0.6666666666666666,
              "#ed7953"
             ],
             [
              0.7777777777777778,
              "#fb9f3a"
             ],
             [
              0.8888888888888888,
              "#fdca26"
             ],
             [
              1,
              "#f0f921"
             ]
            ],
            "type": "histogram2dcontour"
           }
          ],
          "mesh3d": [
           {
            "colorbar": {
             "outlinewidth": 0,
             "ticks": ""
            },
            "type": "mesh3d"
           }
          ],
          "parcoords": [
           {
            "line": {
             "colorbar": {
              "outlinewidth": 0,
              "ticks": ""
             }
            },
            "type": "parcoords"
           }
          ],
          "pie": [
           {
            "automargin": true,
            "type": "pie"
           }
          ],
          "scatter": [
           {
            "fillpattern": {
             "fillmode": "overlay",
             "size": 10,
             "solidity": 0.2
            },
            "type": "scatter"
           }
          ],
          "scatter3d": [
           {
            "line": {
             "colorbar": {
              "outlinewidth": 0,
              "ticks": ""
             }
            },
            "marker": {
             "colorbar": {
              "outlinewidth": 0,
              "ticks": ""
             }
            },
            "type": "scatter3d"
           }
          ],
          "scattercarpet": [
           {
            "marker": {
             "colorbar": {
              "outlinewidth": 0,
              "ticks": ""
             }
            },
            "type": "scattercarpet"
           }
          ],
          "scattergeo": [
           {
            "marker": {
             "colorbar": {
              "outlinewidth": 0,
              "ticks": ""
             }
            },
            "type": "scattergeo"
           }
          ],
          "scattergl": [
           {
            "marker": {
             "colorbar": {
              "outlinewidth": 0,
              "ticks": ""
             }
            },
            "type": "scattergl"
           }
          ],
          "scattermap": [
           {
            "marker": {
             "colorbar": {
              "outlinewidth": 0,
              "ticks": ""
             }
            },
            "type": "scattermap"
           }
          ],
          "scattermapbox": [
           {
            "marker": {
             "colorbar": {
              "outlinewidth": 0,
              "ticks": ""
             }
            },
            "type": "scattermapbox"
           }
          ],
          "scatterpolar": [
           {
            "marker": {
             "colorbar": {
              "outlinewidth": 0,
              "ticks": ""
             }
            },
            "type": "scatterpolar"
           }
          ],
          "scatterpolargl": [
           {
            "marker": {
             "colorbar": {
              "outlinewidth": 0,
              "ticks": ""
             }
            },
            "type": "scatterpolargl"
           }
          ],
          "scatterternary": [
           {
            "marker": {
             "colorbar": {
              "outlinewidth": 0,
              "ticks": ""
             }
            },
            "type": "scatterternary"
           }
          ],
          "surface": [
           {
            "colorbar": {
             "outlinewidth": 0,
             "ticks": ""
            },
            "colorscale": [
             [
              0,
              "#0d0887"
             ],
             [
              0.1111111111111111,
              "#46039f"
             ],
             [
              0.2222222222222222,
              "#7201a8"
             ],
             [
              0.3333333333333333,
              "#9c179e"
             ],
             [
              0.4444444444444444,
              "#bd3786"
             ],
             [
              0.5555555555555556,
              "#d8576b"
             ],
             [
              0.6666666666666666,
              "#ed7953"
             ],
             [
              0.7777777777777778,
              "#fb9f3a"
             ],
             [
              0.8888888888888888,
              "#fdca26"
             ],
             [
              1,
              "#f0f921"
             ]
            ],
            "type": "surface"
           }
          ],
          "table": [
           {
            "cells": {
             "fill": {
              "color": "#EBF0F8"
             },
             "line": {
              "color": "white"
             }
            },
            "header": {
             "fill": {
              "color": "#C8D4E3"
             },
             "line": {
              "color": "white"
             }
            },
            "type": "table"
           }
          ]
         },
         "layout": {
          "annotationdefaults": {
           "arrowcolor": "#2a3f5f",
           "arrowhead": 0,
           "arrowwidth": 1
          },
          "autotypenumbers": "strict",
          "coloraxis": {
           "colorbar": {
            "outlinewidth": 0,
            "ticks": ""
           }
          },
          "colorscale": {
           "diverging": [
            [
             0,
             "#8e0152"
            ],
            [
             0.1,
             "#c51b7d"
            ],
            [
             0.2,
             "#de77ae"
            ],
            [
             0.3,
             "#f1b6da"
            ],
            [
             0.4,
             "#fde0ef"
            ],
            [
             0.5,
             "#f7f7f7"
            ],
            [
             0.6,
             "#e6f5d0"
            ],
            [
             0.7,
             "#b8e186"
            ],
            [
             0.8,
             "#7fbc41"
            ],
            [
             0.9,
             "#4d9221"
            ],
            [
             1,
             "#276419"
            ]
           ],
           "sequential": [
            [
             0,
             "#0d0887"
            ],
            [
             0.1111111111111111,
             "#46039f"
            ],
            [
             0.2222222222222222,
             "#7201a8"
            ],
            [
             0.3333333333333333,
             "#9c179e"
            ],
            [
             0.4444444444444444,
             "#bd3786"
            ],
            [
             0.5555555555555556,
             "#d8576b"
            ],
            [
             0.6666666666666666,
             "#ed7953"
            ],
            [
             0.7777777777777778,
             "#fb9f3a"
            ],
            [
             0.8888888888888888,
             "#fdca26"
            ],
            [
             1,
             "#f0f921"
            ]
           ],
           "sequentialminus": [
            [
             0,
             "#0d0887"
            ],
            [
             0.1111111111111111,
             "#46039f"
            ],
            [
             0.2222222222222222,
             "#7201a8"
            ],
            [
             0.3333333333333333,
             "#9c179e"
            ],
            [
             0.4444444444444444,
             "#bd3786"
            ],
            [
             0.5555555555555556,
             "#d8576b"
            ],
            [
             0.6666666666666666,
             "#ed7953"
            ],
            [
             0.7777777777777778,
             "#fb9f3a"
            ],
            [
             0.8888888888888888,
             "#fdca26"
            ],
            [
             1,
             "#f0f921"
            ]
           ]
          },
          "colorway": [
           "#636efa",
           "#EF553B",
           "#00cc96",
           "#ab63fa",
           "#FFA15A",
           "#19d3f3",
           "#FF6692",
           "#B6E880",
           "#FF97FF",
           "#FECB52"
          ],
          "font": {
           "color": "#2a3f5f"
          },
          "geo": {
           "bgcolor": "white",
           "lakecolor": "white",
           "landcolor": "white",
           "showlakes": true,
           "showland": true,
           "subunitcolor": "#C8D4E3"
          },
          "hoverlabel": {
           "align": "left"
          },
          "hovermode": "closest",
          "mapbox": {
           "style": "light"
          },
          "paper_bgcolor": "white",
          "plot_bgcolor": "white",
          "polar": {
           "angularaxis": {
            "gridcolor": "#EBF0F8",
            "linecolor": "#EBF0F8",
            "ticks": ""
           },
           "bgcolor": "white",
           "radialaxis": {
            "gridcolor": "#EBF0F8",
            "linecolor": "#EBF0F8",
            "ticks": ""
           }
          },
          "scene": {
           "xaxis": {
            "backgroundcolor": "white",
            "gridcolor": "#DFE8F3",
            "gridwidth": 2,
            "linecolor": "#EBF0F8",
            "showbackground": true,
            "ticks": "",
            "zerolinecolor": "#EBF0F8"
           },
           "yaxis": {
            "backgroundcolor": "white",
            "gridcolor": "#DFE8F3",
            "gridwidth": 2,
            "linecolor": "#EBF0F8",
            "showbackground": true,
            "ticks": "",
            "zerolinecolor": "#EBF0F8"
           },
           "zaxis": {
            "backgroundcolor": "white",
            "gridcolor": "#DFE8F3",
            "gridwidth": 2,
            "linecolor": "#EBF0F8",
            "showbackground": true,
            "ticks": "",
            "zerolinecolor": "#EBF0F8"
           }
          },
          "shapedefaults": {
           "line": {
            "color": "#2a3f5f"
           }
          },
          "ternary": {
           "aaxis": {
            "gridcolor": "#DFE8F3",
            "linecolor": "#A2B1C6",
            "ticks": ""
           },
           "baxis": {
            "gridcolor": "#DFE8F3",
            "linecolor": "#A2B1C6",
            "ticks": ""
           },
           "bgcolor": "white",
           "caxis": {
            "gridcolor": "#DFE8F3",
            "linecolor": "#A2B1C6",
            "ticks": ""
           }
          },
          "title": {
           "x": 0.05
          },
          "xaxis": {
           "automargin": true,
           "gridcolor": "#EBF0F8",
           "linecolor": "#EBF0F8",
           "ticks": "",
           "title": {
            "standoff": 15
           },
           "zerolinecolor": "#EBF0F8",
           "zerolinewidth": 2
          },
          "yaxis": {
           "automargin": true,
           "gridcolor": "#EBF0F8",
           "linecolor": "#EBF0F8",
           "ticks": "",
           "title": {
            "standoff": 15
           },
           "zerolinecolor": "#EBF0F8",
           "zerolinewidth": 2
          }
         }
        },
        "title": {
         "font": {
          "size": 24
         },
         "text": "Tendencia Mensual de Accidentes en 2024"
        },
        "xaxis": {
         "tickfont": {
          "size": 14
         },
         "tickmode": "array",
         "ticktext": [
          "Ene",
          "Feb",
          "Mar",
          "Abr",
          "May",
          "Jun",
          "Jul",
          "Ago",
          "Sep",
          "Oct",
          "Nov",
          "Dic"
         ],
         "tickvals": {
          "bdata": "AQAAAAIAAAADAAAABAAAAAUAAAAGAAAABwAAAAgAAAAJAAAACgAAAAsAAAAMAAAA",
          "dtype": "i4"
         },
         "title": {
          "font": {
           "size": 18
          },
          "text": "Mes"
         }
        },
        "yaxis": {
         "tickfont": {
          "size": 14
         },
         "title": {
          "font": {
           "size": 18
          },
          "text": "Cantidad de Accidentes"
         }
        }
       }
      }
     },
     "metadata": {},
     "output_type": "display_data"
    }
   ],
   "source": [
    "import plotly.graph_objects as go\n",
    "\n",
    "# Asegurándonos de que 'Fecha' esté en formato datetime\n",
    "Accidentes24_data['Fecha'] = pd.to_datetime(Accidentes24_data['Fecha'], errors='coerce')\n",
    "\n",
    "# Extraemos el mes de la columna 'Fecha'\n",
    "Accidentes24_data['Mes'] = Accidentes24_data['Fecha'].dt.month\n",
    "\n",
    "# Contamos los accidentes por mes\n",
    "tendencia_mensual_accidentes = Accidentes24_data.groupby('Mes').size()\n",
    "\n",
    "# Crear el gráfico de líneas con Plotly\n",
    "fig = go.Figure()\n",
    "\n",
    "# Agregar una línea para la tendencia mensual de accidentes\n",
    "fig.add_trace(go.Scatter(\n",
    "    x=tendencia_mensual_accidentes.index,\n",
    "    y=tendencia_mensual_accidentes.values,\n",
    "    mode='lines+markers',\n",
    "    name='Accidentes',\n",
    "    line=dict(color='skyblue', width=2),\n",
    "    marker=dict(size=6, color='skyblue', symbol='circle'),\n",
    "))\n",
    "\n",
    "# Actualizar el layout para personalizar el gráfico\n",
    "fig.update_layout(\n",
    "    title='Tendencia Mensual de Accidentes en 2024',\n",
    "    title_font=dict(size=24),  # Aumentar el tamaño de la fuente del título\n",
    "    xaxis_title='Mes',\n",
    "    yaxis_title='Cantidad de Accidentes',\n",
    "    xaxis_title_font=dict(size=18),  # Aumentar el tamaño de la fuente del título del eje X\n",
    "    yaxis_title_font=dict(size=18),  # Aumentar el tamaño de la fuente del título del eje Y\n",
    "    xaxis=dict(\n",
    "        tickmode='array',\n",
    "        tickvals=tendencia_mensual_accidentes.index,\n",
    "        ticktext=['Ene', 'Feb', 'Mar', 'Abr', 'May', 'Jun', 'Jul', 'Ago', 'Sep', 'Oct', 'Nov', 'Dic'],\n",
    "        tickfont=dict(size=14)  # Aumentar el tamaño de la fuente de los ticks del eje X\n",
    "    ),\n",
    "    yaxis=dict(\n",
    "        tickfont=dict(size=14)  # Aumentar el tamaño de la fuente de los ticks del eje Y\n",
    "    ),\n",
    "    template='plotly_white',\n",
    "    plot_bgcolor='white',\n",
    "    showlegend=True,\n",
    "    font=dict(size=20)  # Cambiar el tamaño de la fuente general\n",
    ")\n",
    "\n",
    "\n",
    "# Mostrar el gráfico\n",
    "fig.show()\n"
   ]
  },
  {
   "cell_type": "code",
   "execution_count": 49,
   "metadata": {
    "colab": {
     "base_uri": "https://localhost:8080/"
    },
    "executionInfo": {
     "elapsed": 8,
     "status": "ok",
     "timestamp": 1748384738515,
     "user": {
      "displayName": "Franco Andrés Vidal Carvajal",
      "userId": "16298127537705737010"
     },
     "user_tz": 240
    },
    "id": "2OBoDpcLz_QL",
    "outputId": "b8db7b46-e3e7-4107-e22e-c40f82cbfd07"
   },
   "outputs": [
    {
     "name": "stdout",
     "output_type": "stream",
     "text": [
      "['Conducción no atento condiciones transito momento'\n",
      " 'Animales sueltos via publica' 'Conducción por izquierda eje calzada'\n",
      " 'Conducción en estado de ebriedad' 'Velocidad no razonable ni prudente'\n",
      " 'Peatón, cruza calzada fuera paso peatones' 'Fallas mecánicas, frenos'\n",
      " 'Velocidad mayor que máxima permitida'\n",
      " 'Conducción sin mantener distancia razonable ni prudente'\n",
      " 'Señalización, desobedecer señal ceda el paso'\n",
      " 'Vehiculo en panne sin señalización o deficiente' 'Virajes indebidos'\n",
      " 'Señalización, desobedecer señal pare'\n",
      " 'Conducción contra sentido del transito'\n",
      " 'Peatón, cruza calzada forma sorpresiva o descuidada'\n",
      " 'Conducción bajo la influencia del alcohol' 'Peatón, ebriedad del'\n",
      " 'Adelantamiento sin el espacio y tiempo suficiente'\n",
      " 'Velocidad, no reducir cruce de calles, cumbre, curva,etc.'\n",
      " 'Vehiculo en retroceso, conducir'\n",
      " 'No respetar derecho preferente de paso a peatón'\n",
      " 'Señalización, desobedecer luz roja de semáforo'\n",
      " 'No respetar derecho preferente de paso a vehículo'\n",
      " 'Conducción, cambiar sorpresivamente pista circulación'\n",
      " 'Peatón, imprudencia del' 'Peatón permanece sobre la calzada'\n",
      " 'Condiciones físicas deficientes (cansancio, sueño)'\n",
      " 'Adelantamiento por la berma' 'Velocidad, menor que mínima establecida'\n",
      " 'Adelantamiento sin efectuar la señal respectiva'\n",
      " 'Fallas mecánicas, neumáticos' 'Pasajero, imprudencia del'\n",
      " 'Fallas mecánicas, dirección' 'Carga sobresale estructura vehiculo'\n",
      " 'Señalización, desobedecer luz intermitente semáforo'\n",
      " 'Adelantamiento sobrepasando línea continua'\n",
      " 'Adelantamiento en cruce, curva, cuesta, puente' 'Otras causas'\n",
      " 'Fallas mecánicas, suspensión' 'Fallas mecánicas, carrocería'\n",
      " 'Peatón, cruza camino o carretera sin adoptar precauciones'\n",
      " 'Fallas mecánicas, motor' 'Carga escurre a la calzada'\n",
      " 'Pasajero viaja en pisadera de vehículo' 'Hecho delictual'\n",
      " 'Pasajero sube o desciende de vehículo movimiento'\n",
      " 'Carga mayor que la autorizada vehículo' 'Causas no determinadas'\n",
      " 'Suicidio' 'Señalización, semáforo mal estado o deficiente'\n",
      " 'Velocidad, exceso en zona restringida'\n",
      " 'Conducción bajo influencia de drogas o estupefacientes'\n",
      " 'Perdida control vehículo' 'Fallas mecánicas, eléctrico'\n",
      " 'Señalización mal instalada o mantenida forma defectuosa'\n",
      " 'Pasajero, ebriedad del' 'Señalización, desobedecer otra'\n",
      " 'Señalización, desobedecer indicación carabinero servicio' nan\n",
      " 'Carga obstruye visual conduc.']\n"
     ]
    }
   ],
   "source": [
    "# Mostrar las causas únicas\n",
    "causas_unicas = Accidentes24_data['Causas'].unique()\n",
    "print(causas_unicas)\n"
   ]
  },
  {
   "cell_type": "code",
   "execution_count": 50,
   "metadata": {
    "colab": {
     "base_uri": "https://localhost:8080/",
     "height": 542
    },
    "executionInfo": {
     "elapsed": 389,
     "status": "ok",
     "timestamp": 1748384738907,
     "user": {
      "displayName": "Franco Andrés Vidal Carvajal",
      "userId": "16298127537705737010"
     },
     "user_tz": 240
    },
    "id": "lLzYWjSsK74r",
    "outputId": "ada56edc-acc5-4e54-86e5-aba65eaa8ac7"
   },
   "outputs": [
    {
     "ename": "NameError",
     "evalue": "name 'px' is not defined",
     "output_type": "error",
     "traceback": [
      "\u001b[31m---------------------------------------------------------------------------\u001b[39m",
      "\u001b[31mNameError\u001b[39m                                 Traceback (most recent call last)",
      "\u001b[36mCell\u001b[39m\u001b[36m \u001b[39m\u001b[32mIn[50]\u001b[39m\u001b[32m, line 78\u001b[39m\n\u001b[32m     75\u001b[39m tendencia_2024 = tendencia_mensual_categoria[tendencia_mensual_categoria[\u001b[33m'\u001b[39m\u001b[33mAño\u001b[39m\u001b[33m'\u001b[39m] == \u001b[32m2024\u001b[39m]\n\u001b[32m     77\u001b[39m \u001b[38;5;66;03m# Graficamos la tendencia mensual de accidentes por categoría usando Plotly\u001b[39;00m\n\u001b[32m---> \u001b[39m\u001b[32m78\u001b[39m fig = \u001b[43mpx\u001b[49m.line(tendencia_2024, x=\u001b[33m'\u001b[39m\u001b[33mMes\u001b[39m\u001b[33m'\u001b[39m, y=\u001b[33m'\u001b[39m\u001b[33mCantidad\u001b[39m\u001b[33m'\u001b[39m, color=\u001b[33m'\u001b[39m\u001b[33mCategoria Causa\u001b[39m\u001b[33m'\u001b[39m,\n\u001b[32m     79\u001b[39m               labels={\u001b[33m'\u001b[39m\u001b[33mMes\u001b[39m\u001b[33m'\u001b[39m: \u001b[33m'\u001b[39m\u001b[33mMes\u001b[39m\u001b[33m'\u001b[39m, \u001b[33m'\u001b[39m\u001b[33mCantidad\u001b[39m\u001b[33m'\u001b[39m: \u001b[33m'\u001b[39m\u001b[33mCantidad de Accidentes\u001b[39m\u001b[33m'\u001b[39m},\n\u001b[32m     80\u001b[39m               title=\u001b[33m'\u001b[39m\u001b[33mTendencia Mensual de Accidentes por Categoría (2024)\u001b[39m\u001b[33m'\u001b[39m,\n\u001b[32m     81\u001b[39m               markers=\u001b[38;5;28;01mTrue\u001b[39;00m)\n\u001b[32m     83\u001b[39m \u001b[38;5;66;03m# Personalizamos el gráfico\u001b[39;00m\n\u001b[32m     84\u001b[39m fig.update_layout(\n\u001b[32m     85\u001b[39m     title=\u001b[33m'\u001b[39m\u001b[33mTendencia Mensual de Accidentes por Categoría (2024)\u001b[39m\u001b[33m'\u001b[39m,\n\u001b[32m     86\u001b[39m     title_font=\u001b[38;5;28mdict\u001b[39m(size=\u001b[32m24\u001b[39m),  \u001b[38;5;66;03m# Aumenta el tamaño de la fuente del título del gráfico\u001b[39;00m\n\u001b[32m   (...)\u001b[39m\u001b[32m    105\u001b[39m     font=\u001b[38;5;28mdict\u001b[39m(size=\u001b[32m20\u001b[39m)  \u001b[38;5;66;03m# Cambiar el tamaño de la fuente general\u001b[39;00m\n\u001b[32m    106\u001b[39m )\n",
      "\u001b[31mNameError\u001b[39m: name 'px' is not defined"
     ]
    }
   ],
   "source": [
    "# Asegurándonos de que 'Fecha' está en formato datetime\n",
    "Accidentes24_data['Fecha'] = pd.to_datetime(Accidentes24_data['Fecha'], errors='coerce')\n",
    "\n",
    "# Extraemos el mes y el año de la columna 'Fecha'\n",
    "Accidentes24_data['Mes'] = Accidentes24_data['Fecha'].dt.month\n",
    "Accidentes24_data['Año'] = Accidentes24_data['Fecha'].dt.year\n",
    "\n",
    "# -------------------- Mapeo de categorías --------------------\n",
    "# Definición del mapeo de causas a categorías\n",
    "mapa_causas = {\n",
    "    # Imprudencia del conductor\n",
    "    'Conducción no atento condiciones transito momento': 'Imprudencia del conductor',\n",
    "    'Conducción por izquierda eje calzada': 'Imprudencia del conductor',\n",
    "    'Conducción en estado de ebriedad': 'Imprudencia del conductor',\n",
    "    'Velocidad no razonable ni prudente': 'Imprudencia del conductor',\n",
    "    'Velocidad mayor que máxima permitida': 'Imprudencia del conductor',\n",
    "    'Conducción sin mantener distancia razonable ni prudente': 'Imprudencia del conductor',\n",
    "    'Virajes indebidos': 'Imprudencia del conductor',\n",
    "    'Conducción contra sentido del transito': 'Imprudencia del conductor',\n",
    "    'Conducción bajo la influencia del alcohol': 'Imprudencia del conductor',\n",
    "    'Adelantamiento sin el espacio y tiempo suficiente': 'Imprudencia del conductor',\n",
    "    'Velocidad, no reducir cruce de calles, cumbre, curva,etc.': 'Imprudencia del conductor',\n",
    "    'Vehiculo en retroceso, conducir': 'Imprudencia del conductor',\n",
    "    'Conducción, cambiar sorpresivamente pista circulación': 'Imprudencia del conductor',\n",
    "    'Adelantamiento por la berma': 'Imprudencia del conductor',\n",
    "    'Adelantamiento sin efectuar la señal respectiva': 'Imprudencia del conductor',\n",
    "    'Adelantamiento sobrepasando línea continua': 'Imprudencia del conductor',\n",
    "    'Adelantamiento en cruce, curva, cuesta, puente': 'Imprudencia del conductor',\n",
    "    'Perdida control vehículo': 'Imprudencia del conductor',\n",
    "    'Conducción bajo influencia de drogas o estupefacientes': 'Imprudencia del conductor',\n",
    "\n",
    "    # Imprudencia del peatón\n",
    "    'Peatón, cruza calzada fuera paso peatones': 'Imprudencia del peatón',\n",
    "    'Peatón, cruza calzada forma sorpresiva o descuidada': 'Imprudencia del peatón',\n",
    "    'Peatón, ebriedad del': 'Imprudencia del peatón',\n",
    "    'Peatón, imprudencia del': 'Imprudencia del peatón',\n",
    "    'Peatón permanece sobre la calzada': 'Imprudencia del peatón',\n",
    "    'Peatón, cruza camino o carretera sin adoptar precauciones': 'Imprudencia del peatón',\n",
    "\n",
    "    # Problemas Mecánicos\n",
    "    'Fallas mecánicas, frenos': 'Problemas Mecánicos',\n",
    "    'Fallas mecánicas, neumáticos': 'Problemas Mecánicos',\n",
    "    'Fallas mecánicas, dirección': 'Problemas Mecánicos',\n",
    "    'Fallas mecánicas, suspensión': 'Problemas Mecánicos',\n",
    "    'Fallas mecánicas, carrocería': 'Problemas Mecánicos',\n",
    "    'Fallas mecánicas, motor': 'Problemas Mecánicos',\n",
    "    'Fallas mecánicas, eléctrico': 'Problemas Mecánicos',\n",
    "\n",
    "    # Problemas de Señalización\n",
    "    'Señalización, desobedecer señal ceda el paso': 'Problemas de Señalización',\n",
    "    'Señalización, desobedecer señal pare': 'Problemas de Señalización',\n",
    "    'Señalización, desobedecer luz roja de semáforo': 'Problemas de Señalización',\n",
    "    'Señalización, desobedecer luz intermitente semáforo': 'Problemas de Señalización',\n",
    "    'Señalización, desobedecer otra': 'Problemas de Señalización',\n",
    "    'Señalización, semáforo mal estado o deficiente': 'Problemas de Señalización',\n",
    "    'Señalización mal instalada o mantenida forma defectuosa': 'Problemas de Señalización',\n",
    "    'Señalización, desobedecer indicación carabinero servicio': 'Problemas de Señalización',\n",
    "\n",
    "    # Otras causas\n",
    "    'Otras causas': 'Otras Causas',\n",
    "    'Causas no determinadas': 'Otras Causas',\n",
    "    'Hecho delictual': 'Otras Causas',\n",
    "    'Suicidio': 'Otras Causas',\n",
    "    None: 'Otras Causas'\n",
    "}\n",
    "\n",
    "# Aplicación del mapeo al DataFrame\n",
    "Accidentes24_data['Categoria Causa'] = Accidentes24_data['Causas'].map(mapa_causas)\n",
    "\n",
    "# -------------------- Agrupación y Gráfico --------------------\n",
    "# Agrupamos por Mes, Año y Categoría y contamos el número de accidentes\n",
    "tendencia_mensual_categoria = Accidentes24_data.groupby(['Año', 'Mes', 'Categoria Causa']).size().reset_index(name='Cantidad')\n",
    "\n",
    "# Filtramos los datos para el año 2024\n",
    "tendencia_2024 = tendencia_mensual_categoria[tendencia_mensual_categoria['Año'] == 2024]\n",
    "\n",
    "# Graficamos la tendencia mensual de accidentes por categoría usando Plotly\n",
    "fig = px.line(tendencia_2024, x='Mes', y='Cantidad', color='Categoria Causa',\n",
    "              labels={'Mes': 'Mes', 'Cantidad': 'Cantidad de Accidentes'},\n",
    "              title='Tendencia Mensual de Accidentes por Categoría (2024)',\n",
    "              markers=True)\n",
    "\n",
    "# Personalizamos el gráfico\n",
    "fig.update_layout(\n",
    "    title='Tendencia Mensual de Accidentes por Categoría (2024)',\n",
    "    title_font=dict(size=24),  # Aumenta el tamaño de la fuente del título del gráfico\n",
    "    xaxis_title='Mes',\n",
    "    xaxis_title_font=dict(size=20),  # Aumenta el tamaño de la fuente del título del eje X\n",
    "    yaxis_title='Cantidad de Accidentes',\n",
    "    yaxis_title_font=dict(size=18),  # Aumenta el tamaño de la fuente del título del eje Y\n",
    "    legend_title='Categoría de Causa',\n",
    "    legend_title_font=dict(size=18),  # Aumenta el tamaño de la fuente del título de la leyenda\n",
    "    legend_font=dict(size=20),  # Aumenta el tamaño de la fuente de los elementos de la leyenda\n",
    "    xaxis=dict(\n",
    "        tickmode='array',\n",
    "        tickvals=list(range(1, 13)),\n",
    "        ticktext=['Ene', 'Feb', 'Mar', 'Abr', 'May', 'Jun', 'Jul', 'Ago', 'Sep', 'Oct', 'Nov', 'Dic'],\n",
    "        tickfont=dict(size=19)  # Aumenta el tamaño de la fuente de los ticks del eje X\n",
    "    ),\n",
    "    yaxis=dict(\n",
    "        tickfont=dict(size=20)  # Aumenta el tamaño de la fuente de los ticks del eje Y\n",
    "    ),\n",
    "    template='plotly_white',  # Estilo blanco para el fondo\n",
    "    plot_bgcolor='white',  # Color de fondo del gráfico\n",
    "    font=dict(size=20)  # Cambiar el tamaño de la fuente general\n",
    ")\n",
    "\n",
    "# Mostramos el gráfico interactivo\n",
    "fig.show()\n"
   ]
  },
  {
   "cell_type": "code",
   "execution_count": 26,
   "metadata": {
    "colab": {
     "base_uri": "https://localhost:8080/",
     "height": 542
    },
    "executionInfo": {
     "elapsed": 95,
     "status": "ok",
     "timestamp": 1748384739005,
     "user": {
      "displayName": "Franco Andrés Vidal Carvajal",
      "userId": "16298127537705737010"
     },
     "user_tz": 240
    },
    "id": "vogPZgHJN5Ys",
    "outputId": "a7ec8742-c6fd-4b9d-a7a5-b00e3f9ee213"
   },
   "outputs": [
    {
     "ename": "ModuleNotFoundError",
     "evalue": "No module named 'plotly'",
     "output_type": "error",
     "traceback": [
      "\u001b[31m---------------------------------------------------------------------------\u001b[39m",
      "\u001b[31mModuleNotFoundError\u001b[39m                       Traceback (most recent call last)",
      "\u001b[36mCell\u001b[39m\u001b[36m \u001b[39m\u001b[32mIn[26]\u001b[39m\u001b[32m, line 1\u001b[39m\n\u001b[32m----> \u001b[39m\u001b[32m1\u001b[39m \u001b[38;5;28;01mimport\u001b[39;00m\u001b[38;5;250m \u001b[39m\u001b[34;01mplotly\u001b[39;00m\u001b[34;01m.\u001b[39;00m\u001b[34;01mgraph_objects\u001b[39;00m\u001b[38;5;250m \u001b[39m\u001b[38;5;28;01mas\u001b[39;00m\u001b[38;5;250m \u001b[39m\u001b[34;01mgo\u001b[39;00m\n\u001b[32m      2\u001b[39m \u001b[38;5;28;01mfrom\u001b[39;00m\u001b[38;5;250m \u001b[39m\u001b[34;01mplotly\u001b[39;00m\u001b[34;01m.\u001b[39;00m\u001b[34;01msubplots\u001b[39;00m\u001b[38;5;250m \u001b[39m\u001b[38;5;28;01mimport\u001b[39;00m make_subplots\n\u001b[32m      4\u001b[39m \u001b[38;5;66;03m# Definir las columnas de gravedad para 2024\u001b[39;00m\n",
      "\u001b[31mModuleNotFoundError\u001b[39m: No module named 'plotly'"
     ]
    }
   ],
   "source": [
    "import plotly.graph_objects as go\n",
    "from plotly.subplots import make_subplots\n",
    "\n",
    "# Definir las columnas de gravedad para 2024\n",
    "gravedad_columns_2024 = ['Muertos', 'Graves', 'M/Grave', 'Leves', 'Ilesos']\n",
    "# Sumar los accidentes por gravedad para 2024\n",
    "gravedad_suma_2024 = Accidentes24_data[gravedad_columns_2024].sum()\n",
    "\n",
    "# Definir las columnas de gravedad para 2025\n",
    "gravedad_columns_2025 = ['FALLECIDO', 'GRAVE', 'M/GRAVE', 'LEVE', 'ILESO']\n",
    "# Sumar los accidentes por gravedad para 2025\n",
    "gravedad_suma_2025 = Accidentes25_data[gravedad_columns_2025].sum()\n",
    "\n",
    "# Crear subgráficos especificando que ambos deben ser gráficos tipo pie\n",
    "fig = make_subplots(\n",
    "    rows=1,\n",
    "    cols=2,\n",
    "    subplot_titles=['Distribución de Accidentes por Gravedad en 2024', 'Distribución de Accidentes por Gravedad en 2025'],\n",
    "    specs=[[{'type': 'pie'}, {'type': 'pie'}]]  # Especificamos que ambos subgráficos serán gráficos de tipo pie\n",
    ")\n",
    "\n",
    "# Crear el gráfico de torta para 2024\n",
    "fig.add_trace(go.Pie(\n",
    "    labels=gravedad_suma_2024.index,\n",
    "    values=gravedad_suma_2024,\n",
    "    marker=dict(colors=['red', 'orange', 'yellow', 'green', 'blue']),\n",
    "    textinfo='label+percent',  # Muestra el porcentaje y la etiqueta\n",
    "), row=1, col=1)\n",
    "\n",
    "# Crear el gráfico de torta para 2025\n",
    "fig.add_trace(go.Pie(\n",
    "    labels=gravedad_suma_2025.index,\n",
    "    values=gravedad_suma_2025,\n",
    "    marker=dict(colors=['red', 'orange', 'yellow', 'green', 'blue']),\n",
    "    textinfo='label+percent',  # Muestra el porcentaje y la etiqueta\n",
    "), row=1, col=2)\n",
    "\n",
    "# Actualizar el layout para personalizar el gráfico\n",
    "fig.update_layout(\n",
    "    title_text=\"Distribución de Accidentes por Gravedad en 2024 y 2025\",\n",
    "    title_font=dict(size=24),\n",
    "    font=dict(size=18),\n",
    "    template='plotly_white',  # Estilo blanco para el fondo\n",
    "    showlegend=True,  # Mostrar leyenda\n",
    ")\n",
    "\n",
    "# Mostrar el gráfico\n",
    "fig.show()\n"
   ]
  },
  {
   "cell_type": "code",
   "execution_count": 27,
   "metadata": {
    "colab": {
     "base_uri": "https://localhost:8080/"
    },
    "executionInfo": {
     "elapsed": 20,
     "status": "ok",
     "timestamp": 1748384739027,
     "user": {
      "displayName": "Franco Andrés Vidal Carvajal",
      "userId": "16298127537705737010"
     },
     "user_tz": 240
    },
    "id": "E09z9RxiHPxS",
    "outputId": "8ebaf612-383c-4c82-c983-0ed841d092ff"
   },
   "outputs": [
    {
     "data": {
      "text/plain": [
       "['CHOQUE',\n",
       " 'IMPACTO CON ANIMAL',\n",
       " 'COLISION LATERAL',\n",
       " 'COLISION FRONTAL',\n",
       " 'CHOQUE POSTERIOR',\n",
       " 'CHOQUE FRONTAL',\n",
       " 'CHOQUE LATERAL',\n",
       " 'COLISION POR ALCANCE',\n",
       " 'ATROPELLO',\n",
       " 'COLISION',\n",
       " 'VOLCADURA',\n",
       " 'COLISION PERPENDICULAR',\n",
       " 'OTRO TIPO',\n",
       " 'CAIDA']"
      ]
     },
     "execution_count": 27,
     "metadata": {},
     "output_type": "execute_result"
    }
   ],
   "source": [
    "# Lista única de los tipos de accidentes\n",
    "tipos_de_accidentes = Accidentes25_data['TIPO'].unique()\n",
    "\n",
    "# Convertimos a lista para mejor manejo\n",
    "tipos_de_accidentes = list(tipos_de_accidentes)\n",
    "\n",
    "# Mostramos el listado\n",
    "tipos_de_accidentes\n"
   ]
  },
  {
   "cell_type": "code",
   "execution_count": 28,
   "metadata": {
    "colab": {
     "base_uri": "https://localhost:8080/",
     "height": 542
    },
    "executionInfo": {
     "elapsed": 166,
     "status": "ok",
     "timestamp": 1748384739195,
     "user": {
      "displayName": "Franco Andrés Vidal Carvajal",
      "userId": "16298127537705737010"
     },
     "user_tz": 240
    },
    "id": "xi4EPvcl5ssD",
    "outputId": "33b7d97c-83fb-47a5-9e4e-108f86d73d80"
   },
   "outputs": [
    {
     "ename": "ModuleNotFoundError",
     "evalue": "No module named 'plotly'",
     "output_type": "error",
     "traceback": [
      "\u001b[31m---------------------------------------------------------------------------\u001b[39m",
      "\u001b[31mModuleNotFoundError\u001b[39m                       Traceback (most recent call last)",
      "\u001b[36mCell\u001b[39m\u001b[36m \u001b[39m\u001b[32mIn[28]\u001b[39m\u001b[32m, line 1\u001b[39m\n\u001b[32m----> \u001b[39m\u001b[32m1\u001b[39m \u001b[38;5;28;01mimport\u001b[39;00m\u001b[38;5;250m \u001b[39m\u001b[34;01mplotly\u001b[39;00m\u001b[34;01m.\u001b[39;00m\u001b[34;01mexpress\u001b[39;00m\u001b[38;5;250m \u001b[39m\u001b[38;5;28;01mas\u001b[39;00m\u001b[38;5;250m \u001b[39m\u001b[34;01mpx\u001b[39;00m\n\u001b[32m      3\u001b[39m \u001b[38;5;66;03m# Filtrar datos relevantes y limpiar\u001b[39;00m\n\u001b[32m      4\u001b[39m df_personas = Personas24_data[[\u001b[33m'\u001b[39m\u001b[33mCalidad\u001b[39m\u001b[33m'\u001b[39m, \u001b[33m'\u001b[39m\u001b[33mSexo\u001b[39m\u001b[33m'\u001b[39m]].copy()\n",
      "\u001b[31mModuleNotFoundError\u001b[39m: No module named 'plotly'"
     ]
    }
   ],
   "source": [
    "import plotly.express as px\n",
    "\n",
    "# Filtrar datos relevantes y limpiar\n",
    "df_personas = Personas24_data[['Calidad', 'Sexo']].copy()\n",
    "\n",
    "# Contamos los casos por 'Calidad' y 'Sexo'\n",
    "conteo = df_personas.groupby(['Calidad', 'Sexo']).size().reset_index(name='Cantidad')\n",
    "\n",
    "# Graficamos con Plotly (barras separadas por categoría y género)\n",
    "fig = px.bar(\n",
    "    conteo,\n",
    "    x='Calidad',\n",
    "    y='Cantidad',\n",
    "    color='Sexo',\n",
    "    title='Comparativa de Género en Tipos de Personas Involucradas en Accidentes 2024',\n",
    "    labels={'Calidad': 'Rol en el accidente', 'Cantidad': 'Número de Casos'},\n",
    "    color_discrete_map={\n",
    "        'hombre': '#3498db',\n",
    "        'mujer': '#e74c3c',\n",
    "        'no especificado': '#95a5a6'\n",
    "    },\n",
    "    text='Cantidad',\n",
    "    barmode='group'  # Cambiamos de \"stack\" a \"group\" para separarlas\n",
    ")\n",
    "\n",
    "# Personalización del gráfico\n",
    "fig.update_traces(textposition='outside')\n",
    "fig.update_layout(\n",
    "    title_font=dict(size=24),  # Aumenta el tamaño de la fuente del título del gráfico\n",
    "    font=dict(size=16),  # Aumenta el tamaño de la fuente general\n",
    "    xaxis_title='Rol en el accidente',\n",
    "    yaxis_title='Número de Casos',\n",
    "    legend_title='Género',\n",
    "    xaxis=dict(title_font=dict(size=18)),  # Aumenta el tamaño de la fuente del título del eje X\n",
    "    yaxis=dict(title_font=dict(size=18)),  # Aumenta el tamaño de la fuente del título del eje Y\n",
    "    legend=dict(font=dict(size=16)),  # Aumenta el tamaño de la fuente de la leyenda\n",
    "    margin=dict(t=50, b=50, l=50, r=100)  # Aumenta el margen derecho para evitar cortes\n",
    ")\n",
    "\n",
    "# Aumentar el rango del eje Y para dejar espacio adicional\n",
    "fig.update_yaxes(range=[0, conteo['Cantidad'].max() * 1.15])\n",
    "\n",
    "fig.show()\n"
   ]
  },
  {
   "cell_type": "code",
   "execution_count": 29,
   "metadata": {
    "colab": {
     "base_uri": "https://localhost:8080/",
     "height": 542
    },
    "executionInfo": {
     "elapsed": 138,
     "status": "ok",
     "timestamp": 1748384739331,
     "user": {
      "displayName": "Franco Andrés Vidal Carvajal",
      "userId": "16298127537705737010"
     },
     "user_tz": 240
    },
    "id": "7RIU5vLcJdjT",
    "outputId": "d6dd79d6-504c-4126-a280-f711cff88898"
   },
   "outputs": [
    {
     "ename": "ModuleNotFoundError",
     "evalue": "No module named 'plotly'",
     "output_type": "error",
     "traceback": [
      "\u001b[31m---------------------------------------------------------------------------\u001b[39m",
      "\u001b[31mModuleNotFoundError\u001b[39m                       Traceback (most recent call last)",
      "\u001b[36mCell\u001b[39m\u001b[36m \u001b[39m\u001b[32mIn[29]\u001b[39m\u001b[32m, line 2\u001b[39m\n\u001b[32m      1\u001b[39m \u001b[38;5;28;01mimport\u001b[39;00m\u001b[38;5;250m \u001b[39m\u001b[34;01mpandas\u001b[39;00m\u001b[38;5;250m \u001b[39m\u001b[38;5;28;01mas\u001b[39;00m\u001b[38;5;250m \u001b[39m\u001b[34;01mpd\u001b[39;00m\n\u001b[32m----> \u001b[39m\u001b[32m2\u001b[39m \u001b[38;5;28;01mimport\u001b[39;00m\u001b[38;5;250m \u001b[39m\u001b[34;01mplotly\u001b[39;00m\u001b[34;01m.\u001b[39;00m\u001b[34;01mgraph_objects\u001b[39;00m\u001b[38;5;250m \u001b[39m\u001b[38;5;28;01mas\u001b[39;00m\u001b[38;5;250m \u001b[39m\u001b[34;01mgo\u001b[39;00m\n\u001b[32m      3\u001b[39m \u001b[38;5;28;01mfrom\u001b[39;00m\u001b[38;5;250m \u001b[39m\u001b[34;01mplotly\u001b[39;00m\u001b[34;01m.\u001b[39;00m\u001b[34;01msubplots\u001b[39;00m\u001b[38;5;250m \u001b[39m\u001b[38;5;28;01mimport\u001b[39;00m make_subplots\n\u001b[32m      5\u001b[39m \u001b[38;5;66;03m# Crear una copia del dataframe de 2024 para no modificarlo\u001b[39;00m\n",
      "\u001b[31mModuleNotFoundError\u001b[39m: No module named 'plotly'"
     ]
    }
   ],
   "source": [
    "import pandas as pd\n",
    "import plotly.graph_objects as go\n",
    "from plotly.subplots import make_subplots\n",
    "\n",
    "# Crear una copia del dataframe de 2024 para no modificarlo\n",
    "Personas24_data_copy = Personas24_data.copy()\n",
    "\n",
    "# Definir los rangos de edad (ajustarlos a tu necesidad)\n",
    "bins = [0, 18, 30, 40, 50, 60, 100]  # Rango de edades\n",
    "labels = ['0-18', '19-30', '31-40', '41-50', '51-60', '60+']  # Etiquetas de los rangos\n",
    "\n",
    "# Crear la columna 'Rango_Etario' a partir de los rangos de edad definidos en la copia\n",
    "Personas24_data_copy['Rango_Etario'] = pd.cut(Personas24_data_copy['Edad'], bins=bins, labels=labels, right=False)\n",
    "\n",
    "# Para las edades nulas, asignamos el valor \"Desconocida\"\n",
    "Personas24_data_copy['Rango_Etario'] = Personas24_data_copy['Rango_Etario'].cat.add_categories('Desconocida')\n",
    "Personas24_data_copy.loc[Personas24_data_copy['Edad'].isna(), 'Rango_Etario'] = 'Desconocida'\n",
    "\n",
    "# Contamos el número de accidentes por rango etario para 2024\n",
    "accidentes_por_rango_2024 = Personas24_data_copy['Rango_Etario'].value_counts().sort_index()\n",
    "\n",
    "# Crear una copia del dataframe de 2025 para no modificarlo\n",
    "Personas25_data_copy = Personas25_data.copy()\n",
    "\n",
    "# Crear la columna 'Rango_Etario' a partir de los rangos de edad definidos en la copia para 2025\n",
    "Personas25_data_copy['Rango_Etario'] = pd.cut(Personas25_data_copy['EDAD'], bins=bins, labels=labels, right=False)\n",
    "\n",
    "# Para las edades nulas, asignamos el valor \"Desconocida\"\n",
    "Personas25_data_copy['Rango_Etario'] = Personas25_data_copy['Rango_Etario'].cat.add_categories('Desconocida')\n",
    "Personas25_data_copy.loc[Personas25_data_copy['EDAD'].isna(), 'Rango_Etario'] = 'Desconocida'\n",
    "\n",
    "# Contamos el número de accidentes por rango etario para 2025\n",
    "accidentes_por_rango_2025 = Personas25_data_copy['Rango_Etario'].value_counts().sort_index()\n",
    "\n",
    "# Crear subgráficos en la misma figura\n",
    "fig = make_subplots(\n",
    "    rows=1, cols=2,  # Configuración de dos gráficos en la misma fila\n",
    "    subplot_titles=(\"Accidentes por Rango Etario 2024\", \"Accidentes por Rango Etario 2025\"),  # Títulos para los subgráficos\n",
    ")\n",
    "\n",
    "# Añadir el gráfico para 2024 en el primer subgráfico (columna 1)\n",
    "fig.add_trace(go.Bar(\n",
    "    x=accidentes_por_rango_2024.index,\n",
    "    y=accidentes_por_rango_2024.values,\n",
    "    name='2024',\n",
    "    marker_color='rgba(255, 0, 0, 0.8)',  # Rojo brillante\n",
    "    text=accidentes_por_rango_2024.values,\n",
    "    textposition='outside'\n",
    "), row=1, col=1)\n",
    "\n",
    "# Añadir el gráfico para 2025 en el segundo subgráfico (columna 2)\n",
    "fig.add_trace(go.Bar(\n",
    "    x=accidentes_por_rango_2025.index,\n",
    "    y=accidentes_por_rango_2025.values,\n",
    "    name='2025',\n",
    "    marker_color='rgba(0, 0, 255, 0.8)',  # Azul fuerte\n",
    "    text=accidentes_por_rango_2025.values,\n",
    "    textposition='outside'\n",
    "), row=1, col=2)\n",
    "\n",
    "# Personalizar el diseño\n",
    "fig.update_layout(\n",
    "    title='Distribución de Accidentes por Rango Etario en 2024 y 2025',\n",
    "    title_font=dict(size=24),\n",
    "    font=dict(size=18),\n",
    "    xaxis_title='Rango Etario',\n",
    "    yaxis_title='Número de Accidentes',\n",
    "    xaxis=dict(\n",
    "        title_font=dict(size=20),\n",
    "        tickangle=0,  # Establecer las etiquetas del eje X horizontales\n",
    "        tickmode='array',  # Para asegurar que las etiquetas se distribuyan adecuadamente\n",
    "        tickvals=accidentes_por_rango_2024.index  # Asegura que las etiquetas estén en el lugar correcto\n",
    "    ),\n",
    "    yaxis=dict(title_font=dict(size=20)),\n",
    "    legend_title='Año',\n",
    "    legend=dict(font=dict(size=21)),\n",
    "    margin=dict(t=50, b=100, l=50, r=50)  # Aumentamos los márgenes inferior y superior\n",
    ")\n",
    "\n",
    "# Aumentar el rango del eje Y para evitar que se corten los textos\n",
    "fig.update_yaxes(range=[0, max(accidentes_por_rango_2024.max(), accidentes_por_rango_2025.max()) * 1.15])\n",
    "\n",
    "# Mostrar el gráfico\n",
    "fig.show()\n"
   ]
  },
  {
   "cell_type": "code",
   "execution_count": 30,
   "metadata": {
    "colab": {
     "base_uri": "https://localhost:8080/",
     "height": 1000
    },
    "executionInfo": {
     "elapsed": 242,
     "status": "ok",
     "timestamp": 1748384739577,
     "user": {
      "displayName": "Franco Andrés Vidal Carvajal",
      "userId": "16298127537705737010"
     },
     "user_tz": 240
    },
    "id": "5ogi375NovSi",
    "outputId": "106c0bb6-1a04-4d5f-fc3c-a7ddc9a2bb24"
   },
   "outputs": [
    {
     "name": "stdout",
     "output_type": "stream",
     "text": [
      "13110: LA FLORIDA\n",
      "15101: ARICA\n",
      "7301: CURICO\n",
      "8413: QUILLON\n",
      "2201: CALAMA\n",
      "10201: CASTRO\n",
      "9105: FREIRE\n",
      "2101: ANTOFAGASTA\n",
      "10307: SAN PABLO\n",
      "8301: LOS ANGELES\n",
      "Primeras filas dfs_acc_2024[0]:\n"
     ]
    },
    {
     "data": {
      "text/html": [
       "<div>\n",
       "<style scoped>\n",
       "    .dataframe tbody tr th:only-of-type {\n",
       "        vertical-align: middle;\n",
       "    }\n",
       "\n",
       "    .dataframe tbody tr th {\n",
       "        vertical-align: top;\n",
       "    }\n",
       "\n",
       "    .dataframe thead th {\n",
       "        text-align: right;\n",
       "    }\n",
       "</style>\n",
       "<table border=\"1\" class=\"dataframe\">\n",
       "  <thead>\n",
       "    <tr style=\"text-align: right;\">\n",
       "      <th></th>\n",
       "      <th>Idaccidente</th>\n",
       "      <th>Fecha</th>\n",
       "      <th>Mes</th>\n",
       "      <th>Hora</th>\n",
       "      <th>Región</th>\n",
       "      <th>Accdtes.</th>\n",
       "      <th>Causas</th>\n",
       "      <th>Urbano/Rural</th>\n",
       "      <th>Calleuno</th>\n",
       "      <th>Calledos</th>\n",
       "      <th>...</th>\n",
       "      <th>Ruta</th>\n",
       "      <th>Ubicación km</th>\n",
       "      <th>Muertos</th>\n",
       "      <th>Graves</th>\n",
       "      <th>M/Grave</th>\n",
       "      <th>Leves</th>\n",
       "      <th>Ilesos</th>\n",
       "      <th>Parte Nro.</th>\n",
       "      <th>Tribunal</th>\n",
       "      <th>COMUNA</th>\n",
       "    </tr>\n",
       "  </thead>\n",
       "  <tbody>\n",
       "    <tr>\n",
       "      <th>0</th>\n",
       "      <td>1586623</td>\n",
       "      <td>2024-01-01</td>\n",
       "      <td>Enero</td>\n",
       "      <td>00:00:00</td>\n",
       "      <td>ÑUBLE</td>\n",
       "      <td>Colisión</td>\n",
       "      <td>Conducción no atento condiciones transito momento</td>\n",
       "      <td>URBANO</td>\n",
       "      <td>JUAN ANTONIO GONZALEZ</td>\n",
       "      <td>ARTURO PRAT</td>\n",
       "      <td>...</td>\n",
       "      <td>NaN</td>\n",
       "      <td>NaN</td>\n",
       "      <td>0</td>\n",
       "      <td>0</td>\n",
       "      <td>0</td>\n",
       "      <td>3</td>\n",
       "      <td>0</td>\n",
       "      <td>1.0</td>\n",
       "      <td>FISCALIA LOCAL QUIRIHUE</td>\n",
       "      <td>QUIRIHUE</td>\n",
       "    </tr>\n",
       "    <tr>\n",
       "      <th>1</th>\n",
       "      <td>1583417</td>\n",
       "      <td>2024-01-01</td>\n",
       "      <td>Enero</td>\n",
       "      <td>00:30:00</td>\n",
       "      <td>VALPARAÍSO</td>\n",
       "      <td>Choque</td>\n",
       "      <td>Conducción no atento condiciones transito momento</td>\n",
       "      <td>URBANO</td>\n",
       "      <td>AVDA.MAIPU</td>\n",
       "      <td>AVDA.BERNARDO O´HIGGINS</td>\n",
       "      <td>...</td>\n",
       "      <td>NaN</td>\n",
       "      <td>NaN</td>\n",
       "      <td>0</td>\n",
       "      <td>0</td>\n",
       "      <td>0</td>\n",
       "      <td>0</td>\n",
       "      <td>2</td>\n",
       "      <td>1.0</td>\n",
       "      <td>JUZGADO POLICIA LOCAL SAN FELIPE</td>\n",
       "      <td>SAN FELIPE</td>\n",
       "    </tr>\n",
       "    <tr>\n",
       "      <th>2</th>\n",
       "      <td>1584272</td>\n",
       "      <td>2024-01-01</td>\n",
       "      <td>Enero</td>\n",
       "      <td>00:30:00</td>\n",
       "      <td>ÑUBLE</td>\n",
       "      <td>Choque</td>\n",
       "      <td>Animales sueltos via publica</td>\n",
       "      <td>RURAL</td>\n",
       "      <td>NaN</td>\n",
       "      <td>NaN</td>\n",
       "      <td>...</td>\n",
       "      <td>Ruta 5 Sur</td>\n",
       "      <td>354</td>\n",
       "      <td>0</td>\n",
       "      <td>0</td>\n",
       "      <td>0</td>\n",
       "      <td>0</td>\n",
       "      <td>1</td>\n",
       "      <td>1.0</td>\n",
       "      <td>JUZGADO POLICIA ÑIQUEN</td>\n",
       "      <td>NIQUEN</td>\n",
       "    </tr>\n",
       "    <tr>\n",
       "      <th>3</th>\n",
       "      <td>1581924</td>\n",
       "      <td>2024-01-01</td>\n",
       "      <td>Enero</td>\n",
       "      <td>00:45:00</td>\n",
       "      <td>METROPOLITANA</td>\n",
       "      <td>Colisión</td>\n",
       "      <td>Conducción no atento condiciones transito momento</td>\n",
       "      <td>URBANO</td>\n",
       "      <td>LOS COMERCIANTES =&gt; PSJE</td>\n",
       "      <td>LA BALANZA =&gt; CALLE</td>\n",
       "      <td>...</td>\n",
       "      <td>NaN</td>\n",
       "      <td></td>\n",
       "      <td>0</td>\n",
       "      <td>1</td>\n",
       "      <td>0</td>\n",
       "      <td>0</td>\n",
       "      <td>1</td>\n",
       "      <td>7.0</td>\n",
       "      <td>FISCALIA PRECLASIFICACION REGIONAL SUR</td>\n",
       "      <td>PUENTE ALTO</td>\n",
       "    </tr>\n",
       "    <tr>\n",
       "      <th>4</th>\n",
       "      <td>1581883</td>\n",
       "      <td>2024-01-01</td>\n",
       "      <td>Enero</td>\n",
       "      <td>01:00:00</td>\n",
       "      <td>MAULE</td>\n",
       "      <td>Colisión</td>\n",
       "      <td>Conducción por izquierda eje calzada</td>\n",
       "      <td>URBANO</td>\n",
       "      <td>5 ORIENTE</td>\n",
       "      <td>AVDA. CIRCUNVALACION</td>\n",
       "      <td>...</td>\n",
       "      <td>NaN</td>\n",
       "      <td>NaN</td>\n",
       "      <td>0</td>\n",
       "      <td>0</td>\n",
       "      <td>0</td>\n",
       "      <td>0</td>\n",
       "      <td>2</td>\n",
       "      <td>1.0</td>\n",
       "      <td>1ER JUZGHADO POLICIA LOCAL TALCA</td>\n",
       "      <td>TALCA</td>\n",
       "    </tr>\n",
       "  </tbody>\n",
       "</table>\n",
       "<p>5 rows × 21 columns</p>\n",
       "</div>"
      ],
      "text/plain": [
       "   Idaccidente      Fecha    Mes      Hora         Región  Accdtes.  \\\n",
       "0      1586623 2024-01-01  Enero  00:00:00          ÑUBLE  Colisión   \n",
       "1      1583417 2024-01-01  Enero  00:30:00     VALPARAÍSO    Choque   \n",
       "2      1584272 2024-01-01  Enero  00:30:00          ÑUBLE    Choque   \n",
       "3      1581924 2024-01-01  Enero  00:45:00  METROPOLITANA  Colisión   \n",
       "4      1581883 2024-01-01  Enero  01:00:00          MAULE  Colisión   \n",
       "\n",
       "                                              Causas Urbano/Rural  \\\n",
       "0  Conducción no atento condiciones transito momento       URBANO   \n",
       "1  Conducción no atento condiciones transito momento       URBANO   \n",
       "2                       Animales sueltos via publica        RURAL   \n",
       "3  Conducción no atento condiciones transito momento       URBANO   \n",
       "4               Conducción por izquierda eje calzada       URBANO   \n",
       "\n",
       "                   Calleuno                 Calledos  ...        Ruta  \\\n",
       "0     JUAN ANTONIO GONZALEZ              ARTURO PRAT  ...         NaN   \n",
       "1                AVDA.MAIPU  AVDA.BERNARDO O´HIGGINS  ...         NaN   \n",
       "2                       NaN                      NaN  ...  Ruta 5 Sur   \n",
       "3  LOS COMERCIANTES => PSJE      LA BALANZA => CALLE  ...         NaN   \n",
       "4                 5 ORIENTE     AVDA. CIRCUNVALACION  ...         NaN   \n",
       "\n",
       "  Ubicación km Muertos  Graves  M/Grave  Leves  Ilesos  Parte Nro.  \\\n",
       "0          NaN       0       0        0      3       0         1.0   \n",
       "1          NaN       0       0        0      0       2         1.0   \n",
       "2          354       0       0        0      0       1         1.0   \n",
       "3                    0       1        0      0       1         7.0   \n",
       "4          NaN       0       0        0      0       2         1.0   \n",
       "\n",
       "                                 Tribunal       COMUNA  \n",
       "0                 FISCALIA LOCAL QUIRIHUE     QUIRIHUE  \n",
       "1        JUZGADO POLICIA LOCAL SAN FELIPE   SAN FELIPE  \n",
       "2                  JUZGADO POLICIA ÑIQUEN       NIQUEN  \n",
       "3  FISCALIA PRECLASIFICACION REGIONAL SUR  PUENTE ALTO  \n",
       "4        1ER JUZGHADO POLICIA LOCAL TALCA        TALCA  \n",
       "\n",
       "[5 rows x 21 columns]"
      ]
     },
     "metadata": {},
     "output_type": "display_data"
    },
    {
     "name": "stdout",
     "output_type": "stream",
     "text": [
      "\n",
      "Primeras filas dfs_perso_2024[0]:\n"
     ]
    },
    {
     "data": {
      "text/html": [
       "<div>\n",
       "<style scoped>\n",
       "    .dataframe tbody tr th:only-of-type {\n",
       "        vertical-align: middle;\n",
       "    }\n",
       "\n",
       "    .dataframe tbody tr th {\n",
       "        vertical-align: top;\n",
       "    }\n",
       "\n",
       "    .dataframe thead th {\n",
       "        text-align: right;\n",
       "    }\n",
       "</style>\n",
       "<table border=\"1\" class=\"dataframe\">\n",
       "  <thead>\n",
       "    <tr style=\"text-align: right;\">\n",
       "      <th></th>\n",
       "      <th>Idaccidente</th>\n",
       "      <th>Fecha</th>\n",
       "      <th>Mes</th>\n",
       "      <th>Hora</th>\n",
       "      <th>Región</th>\n",
       "      <th>Calidad</th>\n",
       "      <th>Sexo</th>\n",
       "      <th>Edad</th>\n",
       "      <th>Resultado</th>\n",
       "      <th>COMUNA</th>\n",
       "    </tr>\n",
       "  </thead>\n",
       "  <tbody>\n",
       "    <tr>\n",
       "      <th>0</th>\n",
       "      <td>1586623</td>\n",
       "      <td>2024-01-01</td>\n",
       "      <td>Enero</td>\n",
       "      <td>00:00:00</td>\n",
       "      <td>ÑUBLE</td>\n",
       "      <td>CONDUCTOR</td>\n",
       "      <td>MASCULINO</td>\n",
       "      <td>40.0</td>\n",
       "      <td>LEVE</td>\n",
       "      <td>QUIRIHUE</td>\n",
       "    </tr>\n",
       "    <tr>\n",
       "      <th>1</th>\n",
       "      <td>1586623</td>\n",
       "      <td>2024-01-01</td>\n",
       "      <td>Enero</td>\n",
       "      <td>00:00:00</td>\n",
       "      <td>ÑUBLE</td>\n",
       "      <td>PASAJERO</td>\n",
       "      <td>FEMENINO</td>\n",
       "      <td>24.0</td>\n",
       "      <td>LEVE</td>\n",
       "      <td>QUIRIHUE</td>\n",
       "    </tr>\n",
       "    <tr>\n",
       "      <th>2</th>\n",
       "      <td>1586623</td>\n",
       "      <td>2024-01-01</td>\n",
       "      <td>Enero</td>\n",
       "      <td>00:00:00</td>\n",
       "      <td>ÑUBLE</td>\n",
       "      <td>CONDUCTOR</td>\n",
       "      <td>MASCULINO</td>\n",
       "      <td>23.0</td>\n",
       "      <td>LEVE</td>\n",
       "      <td>QUIRIHUE</td>\n",
       "    </tr>\n",
       "    <tr>\n",
       "      <th>3</th>\n",
       "      <td>1583417</td>\n",
       "      <td>2024-01-01</td>\n",
       "      <td>Enero</td>\n",
       "      <td>00:30:00</td>\n",
       "      <td>VALPARAÍSO</td>\n",
       "      <td>CONDUCTOR</td>\n",
       "      <td>MASCULINO</td>\n",
       "      <td>35.0</td>\n",
       "      <td>ILESO</td>\n",
       "      <td>SAN FELIPE</td>\n",
       "    </tr>\n",
       "    <tr>\n",
       "      <th>4</th>\n",
       "      <td>1583417</td>\n",
       "      <td>2024-01-01</td>\n",
       "      <td>Enero</td>\n",
       "      <td>00:30:00</td>\n",
       "      <td>VALPARAÍSO</td>\n",
       "      <td>CONDUCTOR</td>\n",
       "      <td>MASCULINO</td>\n",
       "      <td>NaN</td>\n",
       "      <td>ILESO</td>\n",
       "      <td>SAN FELIPE</td>\n",
       "    </tr>\n",
       "  </tbody>\n",
       "</table>\n",
       "</div>"
      ],
      "text/plain": [
       "   Idaccidente      Fecha    Mes      Hora      Región    Calidad       Sexo  \\\n",
       "0      1586623 2024-01-01  Enero  00:00:00       ÑUBLE  CONDUCTOR  MASCULINO   \n",
       "1      1586623 2024-01-01  Enero  00:00:00       ÑUBLE   PASAJERO   FEMENINO   \n",
       "2      1586623 2024-01-01  Enero  00:00:00       ÑUBLE  CONDUCTOR  MASCULINO   \n",
       "3      1583417 2024-01-01  Enero  00:30:00  VALPARAÍSO  CONDUCTOR  MASCULINO   \n",
       "4      1583417 2024-01-01  Enero  00:30:00  VALPARAÍSO  CONDUCTOR  MASCULINO   \n",
       "\n",
       "   Edad Resultado      COMUNA  \n",
       "0  40.0      LEVE    QUIRIHUE  \n",
       "1  24.0      LEVE    QUIRIHUE  \n",
       "2  23.0      LEVE    QUIRIHUE  \n",
       "3  35.0     ILESO  SAN FELIPE  \n",
       "4   NaN     ILESO  SAN FELIPE  "
      ]
     },
     "metadata": {},
     "output_type": "display_data"
    },
    {
     "name": "stdout",
     "output_type": "stream",
     "text": [
      "['Idaccidente', 'Fecha', 'Mes', 'Hora', 'Región', 'Accdtes.', 'Causas', 'Urbano/Rural', 'Calleuno', 'Calledos', 'Frentenumero', 'Ruta', 'Ubicación km', 'Muertos', 'Graves', 'M/Grave', 'Leves', 'Ilesos', 'Parte Nro.', 'Tribunal', 'COMUNA']\n",
      "['Idaccidente', 'Fecha', 'Mes', 'Hora', 'Región', 'Calidad', 'Sexo', 'Edad', 'Resultado', 'COMUNA']\n"
     ]
    }
   ],
   "source": [
    "# Crear diccionario para mapear comuna numérica a nombre\n",
    "comuna_map = dfs_acc_2024[1][['Comuna', 'Comunas']].drop_duplicates().set_index('Comuna')['Comunas'].to_dict()\n",
    "\n",
    "# Mostrar primeros 10 elementos del diccionario\n",
    "for key in list(comuna_map.keys())[:10]:\n",
    "    print(f\"{key}: {comuna_map[key]}\")\n",
    "\n",
    "# Función para agregar columna con nombre de comuna y eliminar columnas originales\n",
    "def agregar_nombre_comuna(df, diccionario):\n",
    "    if 'Comuna' in df.columns:\n",
    "        # Mapear código numérico a nombre y asignar a nueva columna 'COMUNAS'\n",
    "        df['COMUNA'] = df['Comuna'].map(diccionario)\n",
    "        # Eliminar columnas 'Comuna' y 'Comunas' si existen\n",
    "        cols_a_eliminar = []\n",
    "        if 'Comuna' in df.columns:\n",
    "            cols_a_eliminar.append('Comuna')\n",
    "        if 'Comunas' in df.columns:\n",
    "            cols_a_eliminar.append('Comunas')\n",
    "        df = df.drop(columns=cols_a_eliminar)\n",
    "    else:\n",
    "        print(\"La columna 'Comuna' no está en el DataFrame\")\n",
    "    return df\n",
    "\n",
    "# Aplicar función a dataframes de accidentes y personas 2024\n",
    "dfs_acc_2024 = [agregar_nombre_comuna(df, comuna_map) for df in dfs_acc_2024]\n",
    "dfs_perso_2024 = [agregar_nombre_comuna(df, comuna_map) for df in dfs_perso_2024]\n",
    "\n",
    "# Mostrar las primeras filas del primer dataframe modificado de accidentes y personas\n",
    "print(\"Primeras filas dfs_acc_2024[0]:\")\n",
    "display(dfs_acc_2024[0].head())\n",
    "\n",
    "print(\"\\nPrimeras filas dfs_perso_2024[0]:\")\n",
    "display(dfs_perso_2024[0].head())\n",
    "\n",
    "# Mostrar columnas para confirmar\n",
    "print(dfs_acc_2024[0].columns.tolist())\n",
    "print(dfs_perso_2024[0].columns.tolist())\n"
   ]
  },
  {
   "cell_type": "code",
   "execution_count": 31,
   "metadata": {
    "colab": {
     "base_uri": "https://localhost:8080/",
     "height": 621
    },
    "executionInfo": {
     "elapsed": 111,
     "status": "ok",
     "timestamp": 1748384739696,
     "user": {
      "displayName": "Franco Andrés Vidal Carvajal",
      "userId": "16298127537705737010"
     },
     "user_tz": 240
    },
    "id": "VEZL3lsd90al",
    "outputId": "ce005102-d86b-4b19-ecfc-2e8d4bc582e4"
   },
   "outputs": [
    {
     "name": "stdout",
     "output_type": "stream",
     "text": [
      "Primeras filas dfs_acc_2025[0]:\n"
     ]
    },
    {
     "data": {
      "text/html": [
       "<div>\n",
       "<style scoped>\n",
       "    .dataframe tbody tr th:only-of-type {\n",
       "        vertical-align: middle;\n",
       "    }\n",
       "\n",
       "    .dataframe tbody tr th {\n",
       "        vertical-align: top;\n",
       "    }\n",
       "\n",
       "    .dataframe thead th {\n",
       "        text-align: right;\n",
       "    }\n",
       "</style>\n",
       "<table border=\"1\" class=\"dataframe\">\n",
       "  <thead>\n",
       "    <tr style=\"text-align: right;\">\n",
       "      <th></th>\n",
       "      <th>ID</th>\n",
       "      <th>FECHA</th>\n",
       "      <th>MES</th>\n",
       "      <th>HORA</th>\n",
       "      <th>COMUNA</th>\n",
       "      <th>TIPO</th>\n",
       "      <th>CAUSA</th>\n",
       "      <th>SECTOR</th>\n",
       "      <th>CALLE_1</th>\n",
       "      <th>CALLE_2</th>\n",
       "      <th>KM</th>\n",
       "      <th>FALLECIDO</th>\n",
       "      <th>GRAVE</th>\n",
       "      <th>M/GRAVE</th>\n",
       "      <th>LEVE</th>\n",
       "      <th>ILESO</th>\n",
       "      <th>PARTE NRO.</th>\n",
       "      <th>TRIBUNAL</th>\n",
       "      <th>Región</th>\n",
       "    </tr>\n",
       "  </thead>\n",
       "  <tbody>\n",
       "    <tr>\n",
       "      <th>0</th>\n",
       "      <td>5660</td>\n",
       "      <td>2025-01-01</td>\n",
       "      <td>ENERO</td>\n",
       "      <td>00:01</td>\n",
       "      <td>COLINA</td>\n",
       "      <td>CHOQUE</td>\n",
       "      <td>ADELANTAMIENTO EN CRUCE, CURVA, CUESTA, PUENTE</td>\n",
       "      <td>RURAL</td>\n",
       "      <td>RUTA CH 57</td>\n",
       "      <td>NaN</td>\n",
       "      <td>33.2</td>\n",
       "      <td>0</td>\n",
       "      <td>0</td>\n",
       "      <td>0</td>\n",
       "      <td>1</td>\n",
       "      <td>0</td>\n",
       "      <td>1</td>\n",
       "      <td>FISCALIA LOCAL CHACABUCO</td>\n",
       "      <td>METROPOLITANA</td>\n",
       "    </tr>\n",
       "    <tr>\n",
       "      <th>1</th>\n",
       "      <td>3703</td>\n",
       "      <td>2025-01-01</td>\n",
       "      <td>ENERO</td>\n",
       "      <td>00:01</td>\n",
       "      <td>RENCA</td>\n",
       "      <td>CHOQUE</td>\n",
       "      <td>CONDUCTOR NO ATENTO CONDICIONES TRANSITO MOMENTO</td>\n",
       "      <td>URBANO</td>\n",
       "      <td>AURORA VALDES</td>\n",
       "      <td>NaN</td>\n",
       "      <td>1449</td>\n",
       "      <td>0</td>\n",
       "      <td>0</td>\n",
       "      <td>0</td>\n",
       "      <td>0</td>\n",
       "      <td>1</td>\n",
       "      <td>1</td>\n",
       "      <td>JUZGADO POLICIA LOCAL RENCA</td>\n",
       "      <td>METROPOLITANA</td>\n",
       "    </tr>\n",
       "    <tr>\n",
       "      <th>2</th>\n",
       "      <td>5995</td>\n",
       "      <td>2025-01-01</td>\n",
       "      <td>ENERO</td>\n",
       "      <td>00:01</td>\n",
       "      <td>MOSTAZAL</td>\n",
       "      <td>CHOQUE</td>\n",
       "      <td>CONDUCTOR EN ESTADO DE EBRIEDAD</td>\n",
       "      <td>URBANO</td>\n",
       "      <td>AVENIDA INDEPENDENCIA</td>\n",
       "      <td>HISTORIADOR</td>\n",
       "      <td>NaN</td>\n",
       "      <td>0</td>\n",
       "      <td>0</td>\n",
       "      <td>0</td>\n",
       "      <td>0</td>\n",
       "      <td>1</td>\n",
       "      <td>2</td>\n",
       "      <td>FISCALIA LOCAL GRANEROS</td>\n",
       "      <td>LIB. BDO. O´HIGGINS</td>\n",
       "    </tr>\n",
       "    <tr>\n",
       "      <th>3</th>\n",
       "      <td>3103</td>\n",
       "      <td>2025-01-01</td>\n",
       "      <td>ENERO</td>\n",
       "      <td>01:01</td>\n",
       "      <td>MAULE</td>\n",
       "      <td>IMPACTO CON ANIMAL</td>\n",
       "      <td>ANIMALES SUELTOS VIA PUBLICA</td>\n",
       "      <td>RURAL</td>\n",
       "      <td>RUTA 5 SUR</td>\n",
       "      <td>NaN</td>\n",
       "      <td>266</td>\n",
       "      <td>0</td>\n",
       "      <td>0</td>\n",
       "      <td>0</td>\n",
       "      <td>1</td>\n",
       "      <td>0</td>\n",
       "      <td>1</td>\n",
       "      <td>JUZGADO POLICIA LOCAL MAULE</td>\n",
       "      <td>MAULE</td>\n",
       "    </tr>\n",
       "    <tr>\n",
       "      <th>4</th>\n",
       "      <td>3192</td>\n",
       "      <td>2025-01-01</td>\n",
       "      <td>ENERO</td>\n",
       "      <td>01:01</td>\n",
       "      <td>VALPARAISO</td>\n",
       "      <td>COLISION LATERAL</td>\n",
       "      <td>ADELANTAMIENTO SIN EL ESPACIO</td>\n",
       "      <td>URBANO</td>\n",
       "      <td>AVENIDA BRASIL</td>\n",
       "      <td>AVENIDA FRANCIA</td>\n",
       "      <td>NaN</td>\n",
       "      <td>0</td>\n",
       "      <td>0</td>\n",
       "      <td>0</td>\n",
       "      <td>0</td>\n",
       "      <td>2</td>\n",
       "      <td>1</td>\n",
       "      <td>3ER. JUZGADO POLICIA LOCAL VALPARAISO</td>\n",
       "      <td>VALPARAÍSO</td>\n",
       "    </tr>\n",
       "  </tbody>\n",
       "</table>\n",
       "</div>"
      ],
      "text/plain": [
       "     ID      FECHA    MES   HORA      COMUNA                TIPO  \\\n",
       "0  5660 2025-01-01  ENERO  00:01      COLINA              CHOQUE   \n",
       "1  3703 2025-01-01  ENERO  00:01       RENCA              CHOQUE   \n",
       "2  5995 2025-01-01  ENERO  00:01    MOSTAZAL              CHOQUE   \n",
       "3  3103 2025-01-01  ENERO  01:01       MAULE  IMPACTO CON ANIMAL   \n",
       "4  3192 2025-01-01  ENERO  01:01  VALPARAISO    COLISION LATERAL   \n",
       "\n",
       "                                              CAUSA  SECTOR  \\\n",
       "0    ADELANTAMIENTO EN CRUCE, CURVA, CUESTA, PUENTE   RURAL   \n",
       "1  CONDUCTOR NO ATENTO CONDICIONES TRANSITO MOMENTO  URBANO   \n",
       "2                   CONDUCTOR EN ESTADO DE EBRIEDAD  URBANO   \n",
       "3                      ANIMALES SUELTOS VIA PUBLICA   RURAL   \n",
       "4                     ADELANTAMIENTO SIN EL ESPACIO  URBANO   \n",
       "\n",
       "                 CALLE_1          CALLE_2    KM  FALLECIDO  GRAVE  M/GRAVE  \\\n",
       "0             RUTA CH 57              NaN  33.2          0      0        0   \n",
       "1          AURORA VALDES              NaN  1449          0      0        0   \n",
       "2  AVENIDA INDEPENDENCIA      HISTORIADOR   NaN          0      0        0   \n",
       "3             RUTA 5 SUR              NaN   266          0      0        0   \n",
       "4         AVENIDA BRASIL  AVENIDA FRANCIA   NaN          0      0        0   \n",
       "\n",
       "   LEVE  ILESO  PARTE NRO.                               TRIBUNAL  \\\n",
       "0     1      0           1               FISCALIA LOCAL CHACABUCO   \n",
       "1     0      1           1            JUZGADO POLICIA LOCAL RENCA   \n",
       "2     0      1           2                FISCALIA LOCAL GRANEROS   \n",
       "3     1      0           1            JUZGADO POLICIA LOCAL MAULE   \n",
       "4     0      2           1  3ER. JUZGADO POLICIA LOCAL VALPARAISO   \n",
       "\n",
       "                Región  \n",
       "0        METROPOLITANA  \n",
       "1        METROPOLITANA  \n",
       "2  LIB. BDO. O´HIGGINS  \n",
       "3                MAULE  \n",
       "4           VALPARAÍSO  "
      ]
     },
     "metadata": {},
     "output_type": "display_data"
    },
    {
     "name": "stdout",
     "output_type": "stream",
     "text": [
      "\n",
      "Primeras filas dfs_perso_2025[0]:\n"
     ]
    },
    {
     "data": {
      "text/html": [
       "<div>\n",
       "<style scoped>\n",
       "    .dataframe tbody tr th:only-of-type {\n",
       "        vertical-align: middle;\n",
       "    }\n",
       "\n",
       "    .dataframe tbody tr th {\n",
       "        vertical-align: top;\n",
       "    }\n",
       "\n",
       "    .dataframe thead th {\n",
       "        text-align: right;\n",
       "    }\n",
       "</style>\n",
       "<table border=\"1\" class=\"dataframe\">\n",
       "  <thead>\n",
       "    <tr style=\"text-align: right;\">\n",
       "      <th></th>\n",
       "      <th>ID</th>\n",
       "      <th>FECHA</th>\n",
       "      <th>MES</th>\n",
       "      <th>HORA</th>\n",
       "      <th>COMUNA</th>\n",
       "      <th>CALIDAD</th>\n",
       "      <th>SEXO</th>\n",
       "      <th>EDAD</th>\n",
       "      <th>RESULTADO</th>\n",
       "      <th>Región</th>\n",
       "    </tr>\n",
       "  </thead>\n",
       "  <tbody>\n",
       "    <tr>\n",
       "      <th>0</th>\n",
       "      <td>3703</td>\n",
       "      <td>2025-01-01</td>\n",
       "      <td>ENERO</td>\n",
       "      <td>00:01</td>\n",
       "      <td>RENCA</td>\n",
       "      <td>SE DA A LA FUGA</td>\n",
       "      <td>MASCULINO</td>\n",
       "      <td>NaN</td>\n",
       "      <td>ILESO</td>\n",
       "      <td>METROPOLITANA</td>\n",
       "    </tr>\n",
       "    <tr>\n",
       "      <th>1</th>\n",
       "      <td>5995</td>\n",
       "      <td>2025-01-01</td>\n",
       "      <td>ENERO</td>\n",
       "      <td>00:01</td>\n",
       "      <td>MOSTAZAL</td>\n",
       "      <td>CONDUCTOR</td>\n",
       "      <td>MASCULINO</td>\n",
       "      <td>16.0</td>\n",
       "      <td>ILESO</td>\n",
       "      <td>LIB. BDO. O´HIGGINS</td>\n",
       "    </tr>\n",
       "    <tr>\n",
       "      <th>2</th>\n",
       "      <td>5660</td>\n",
       "      <td>2025-01-01</td>\n",
       "      <td>ENERO</td>\n",
       "      <td>00:01</td>\n",
       "      <td>COLINA</td>\n",
       "      <td>CONDUCTOR</td>\n",
       "      <td>MASCULINO</td>\n",
       "      <td>46.0</td>\n",
       "      <td>LEVE</td>\n",
       "      <td>METROPOLITANA</td>\n",
       "    </tr>\n",
       "    <tr>\n",
       "      <th>3</th>\n",
       "      <td>3192</td>\n",
       "      <td>2025-01-01</td>\n",
       "      <td>ENERO</td>\n",
       "      <td>01:01</td>\n",
       "      <td>VALPARAISO</td>\n",
       "      <td>CONDUCTOR</td>\n",
       "      <td>MASCULINO</td>\n",
       "      <td>31.0</td>\n",
       "      <td>ILESO</td>\n",
       "      <td>VALPARAÍSO</td>\n",
       "    </tr>\n",
       "    <tr>\n",
       "      <th>4</th>\n",
       "      <td>3192</td>\n",
       "      <td>2025-01-01</td>\n",
       "      <td>ENERO</td>\n",
       "      <td>01:01</td>\n",
       "      <td>VALPARAISO</td>\n",
       "      <td>CONDUCTOR</td>\n",
       "      <td>MASCULINO</td>\n",
       "      <td>29.0</td>\n",
       "      <td>ILESO</td>\n",
       "      <td>VALPARAÍSO</td>\n",
       "    </tr>\n",
       "  </tbody>\n",
       "</table>\n",
       "</div>"
      ],
      "text/plain": [
       "     ID      FECHA    MES   HORA      COMUNA          CALIDAD       SEXO  \\\n",
       "0  3703 2025-01-01  ENERO  00:01       RENCA  SE DA A LA FUGA  MASCULINO   \n",
       "1  5995 2025-01-01  ENERO  00:01    MOSTAZAL        CONDUCTOR  MASCULINO   \n",
       "2  5660 2025-01-01  ENERO  00:01      COLINA        CONDUCTOR  MASCULINO   \n",
       "3  3192 2025-01-01  ENERO  01:01  VALPARAISO        CONDUCTOR  MASCULINO   \n",
       "4  3192 2025-01-01  ENERO  01:01  VALPARAISO        CONDUCTOR  MASCULINO   \n",
       "\n",
       "   EDAD RESULTADO               Región  \n",
       "0   NaN     ILESO        METROPOLITANA  \n",
       "1  16.0     ILESO  LIB. BDO. O´HIGGINS  \n",
       "2  46.0      LEVE        METROPOLITANA  \n",
       "3  31.0     ILESO           VALPARAÍSO  \n",
       "4  29.0     ILESO           VALPARAÍSO  "
      ]
     },
     "metadata": {},
     "output_type": "display_data"
    },
    {
     "name": "stdout",
     "output_type": "stream",
     "text": [
      "['ID', 'FECHA', 'MES', 'HORA', 'COMUNA', 'TIPO', 'CAUSA', 'SECTOR', 'CALLE_1', 'CALLE_2', 'KM', 'FALLECIDO', 'GRAVE', 'M/GRAVE', 'LEVE', 'ILESO', 'PARTE NRO.', 'TRIBUNAL', 'Región']\n",
      "['ID', 'FECHA', 'MES', 'HORA', 'COMUNA', 'CALIDAD', 'SEXO', 'EDAD', 'RESULTADO', 'Región']\n"
     ]
    }
   ],
   "source": [
    "# Diccionario para mapear ZONA (2025) a Región (2024)\n",
    "zona_a_region_map = {\n",
    "    'ZONA DE ANTOFAGASTA': 'ANTOFAGASTA',\n",
    "    'ZONA DE ARICA Y PARINACOTA': 'ARICA Y PARINACOTA',\n",
    "    'ZONA DE ATACAMA': 'ATACAMA',\n",
    "    'ZONA DE AYSEN': 'AYSÉN',\n",
    "    'ZONA DE COQUIMBO': 'COQUIMBO',\n",
    "    'ZONA DE LA ARAUCANIA': 'ARAUCANÍA',\n",
    "    'ZONA DE LOS LAGOS': 'LOS LAGOS',\n",
    "    'ZONA DE LOS RIOS': 'LOS RÍOS',\n",
    "    'ZONA DE MAGALLANES': 'MAGALLANES Y ART. CHILENA',\n",
    "    'ZONA DE NUBLE': 'ÑUBLE',\n",
    "    'ZONA DE TARAPACA': 'TARAPACÁ',\n",
    "    'ZONA DE VALPARAISO': 'VALPARAÍSO',\n",
    "    'ZONA DEL BIOBIO': 'BIO-BIO',\n",
    "    'ZONA DEL LIB. B. OHIGGINS': 'LIB. BDO. O´HIGGINS',\n",
    "    'ZONA DEL MAULE': 'MAULE',\n",
    "    'ZONA METROPOLITANA': 'METROPOLITANA'\n",
    "}\n",
    "\n",
    "# Función para aplicar el mapeo y renombrar la columna\n",
    "def mapear_zona_a_region(df):\n",
    "    df['Región'] = df['ZONA'].map(zona_a_region_map)\n",
    "    df.drop(columns=['ZONA'], inplace=True)\n",
    "    return df\n",
    "\n",
    "# Aplicar la función a los dataframes de 2025\n",
    "dfs_acc_2025 = [mapear_zona_a_region(df) for df in dfs_acc_2025]\n",
    "dfs_perso_2025 = [mapear_zona_a_region(df) for df in dfs_perso_2025]\n",
    "\n",
    "# Verificación\n",
    "print(\"Primeras filas dfs_acc_2025[0]:\")\n",
    "display(dfs_acc_2025[0].head())\n",
    "\n",
    "print(\"\\nPrimeras filas dfs_perso_2025[0]:\")\n",
    "display(dfs_perso_2025[0].head())\n",
    "\n",
    "\n",
    "print(dfs_acc_2025[0].columns.tolist())\n",
    "print(dfs_perso_2025[0].columns.tolist())"
   ]
  },
  {
   "cell_type": "code",
   "execution_count": 32,
   "metadata": {
    "colab": {
     "base_uri": "https://localhost:8080/",
     "height": 1000
    },
    "executionInfo": {
     "elapsed": 313,
     "status": "ok",
     "timestamp": 1748384740018,
     "user": {
      "displayName": "Franco Andrés Vidal Carvajal",
      "userId": "16298127537705737010"
     },
     "user_tz": 240
    },
    "id": "JgCWrlXnLZU_",
    "outputId": "64f042de-10be-4bea-d8f8-ce0a339a10b6"
   },
   "outputs": [
    {
     "name": "stdout",
     "output_type": "stream",
     "text": [
      "Columnas y primeras filas - Primer dataframe accidentes 2024:\n",
      "['ID', 'FECHA', 'MES', 'HORA', 'REGION', 'COMUNA', 'TIPO', 'CAUSA', 'SECTOR', 'CALLE_1', 'CALLE_2', 'KM', 'FALLECIDO', 'GRAVE', 'M_GRAVE', 'LEVE', 'ILESO', 'PARTE_NRO', 'TRIBUNAL', 'RUTA']\n"
     ]
    },
    {
     "data": {
      "text/html": [
       "<div>\n",
       "<style scoped>\n",
       "    .dataframe tbody tr th:only-of-type {\n",
       "        vertical-align: middle;\n",
       "    }\n",
       "\n",
       "    .dataframe tbody tr th {\n",
       "        vertical-align: top;\n",
       "    }\n",
       "\n",
       "    .dataframe thead th {\n",
       "        text-align: right;\n",
       "    }\n",
       "</style>\n",
       "<table border=\"1\" class=\"dataframe\">\n",
       "  <thead>\n",
       "    <tr style=\"text-align: right;\">\n",
       "      <th></th>\n",
       "      <th>ID</th>\n",
       "      <th>FECHA</th>\n",
       "      <th>MES</th>\n",
       "      <th>HORA</th>\n",
       "      <th>REGION</th>\n",
       "      <th>COMUNA</th>\n",
       "      <th>TIPO</th>\n",
       "      <th>CAUSA</th>\n",
       "      <th>SECTOR</th>\n",
       "      <th>CALLE_1</th>\n",
       "      <th>CALLE_2</th>\n",
       "      <th>KM</th>\n",
       "      <th>FALLECIDO</th>\n",
       "      <th>GRAVE</th>\n",
       "      <th>M_GRAVE</th>\n",
       "      <th>LEVE</th>\n",
       "      <th>ILESO</th>\n",
       "      <th>PARTE_NRO</th>\n",
       "      <th>TRIBUNAL</th>\n",
       "      <th>RUTA</th>\n",
       "    </tr>\n",
       "  </thead>\n",
       "  <tbody>\n",
       "    <tr>\n",
       "      <th>0</th>\n",
       "      <td>1586623</td>\n",
       "      <td>2024-01-01</td>\n",
       "      <td>Enero</td>\n",
       "      <td>00:00:00</td>\n",
       "      <td>ÑUBLE</td>\n",
       "      <td>QUIRIHUE</td>\n",
       "      <td>Colisión</td>\n",
       "      <td>Conducción no atento condiciones transito momento</td>\n",
       "      <td>URBANO</td>\n",
       "      <td>JUAN ANTONIO GONZALEZ</td>\n",
       "      <td>ARTURO PRAT</td>\n",
       "      <td>NaN</td>\n",
       "      <td>0</td>\n",
       "      <td>0</td>\n",
       "      <td>0</td>\n",
       "      <td>3</td>\n",
       "      <td>0</td>\n",
       "      <td>1.0</td>\n",
       "      <td>FISCALIA LOCAL QUIRIHUE</td>\n",
       "      <td>NaN</td>\n",
       "    </tr>\n",
       "    <tr>\n",
       "      <th>1</th>\n",
       "      <td>1583417</td>\n",
       "      <td>2024-01-01</td>\n",
       "      <td>Enero</td>\n",
       "      <td>00:30:00</td>\n",
       "      <td>VALPARAÍSO</td>\n",
       "      <td>SAN FELIPE</td>\n",
       "      <td>Choque</td>\n",
       "      <td>Conducción no atento condiciones transito momento</td>\n",
       "      <td>URBANO</td>\n",
       "      <td>AVDA.MAIPU</td>\n",
       "      <td>AVDA.BERNARDO O´HIGGINS</td>\n",
       "      <td>NaN</td>\n",
       "      <td>0</td>\n",
       "      <td>0</td>\n",
       "      <td>0</td>\n",
       "      <td>0</td>\n",
       "      <td>2</td>\n",
       "      <td>1.0</td>\n",
       "      <td>JUZGADO POLICIA LOCAL SAN FELIPE</td>\n",
       "      <td>NaN</td>\n",
       "    </tr>\n",
       "    <tr>\n",
       "      <th>2</th>\n",
       "      <td>1584272</td>\n",
       "      <td>2024-01-01</td>\n",
       "      <td>Enero</td>\n",
       "      <td>00:30:00</td>\n",
       "      <td>ÑUBLE</td>\n",
       "      <td>NIQUEN</td>\n",
       "      <td>Choque</td>\n",
       "      <td>Animales sueltos via publica</td>\n",
       "      <td>RURAL</td>\n",
       "      <td>NaN</td>\n",
       "      <td>NaN</td>\n",
       "      <td>354</td>\n",
       "      <td>0</td>\n",
       "      <td>0</td>\n",
       "      <td>0</td>\n",
       "      <td>0</td>\n",
       "      <td>1</td>\n",
       "      <td>1.0</td>\n",
       "      <td>JUZGADO POLICIA ÑIQUEN</td>\n",
       "      <td>Ruta 5 Sur</td>\n",
       "    </tr>\n",
       "    <tr>\n",
       "      <th>3</th>\n",
       "      <td>1581924</td>\n",
       "      <td>2024-01-01</td>\n",
       "      <td>Enero</td>\n",
       "      <td>00:45:00</td>\n",
       "      <td>METROPOLITANA</td>\n",
       "      <td>PUENTE ALTO</td>\n",
       "      <td>Colisión</td>\n",
       "      <td>Conducción no atento condiciones transito momento</td>\n",
       "      <td>URBANO</td>\n",
       "      <td>LOS COMERCIANTES =&gt; PSJE</td>\n",
       "      <td>LA BALANZA =&gt; CALLE</td>\n",
       "      <td></td>\n",
       "      <td>0</td>\n",
       "      <td>1</td>\n",
       "      <td>0</td>\n",
       "      <td>0</td>\n",
       "      <td>1</td>\n",
       "      <td>7.0</td>\n",
       "      <td>FISCALIA PRECLASIFICACION REGIONAL SUR</td>\n",
       "      <td>NaN</td>\n",
       "    </tr>\n",
       "    <tr>\n",
       "      <th>4</th>\n",
       "      <td>1581883</td>\n",
       "      <td>2024-01-01</td>\n",
       "      <td>Enero</td>\n",
       "      <td>01:00:00</td>\n",
       "      <td>MAULE</td>\n",
       "      <td>TALCA</td>\n",
       "      <td>Colisión</td>\n",
       "      <td>Conducción por izquierda eje calzada</td>\n",
       "      <td>URBANO</td>\n",
       "      <td>5 ORIENTE</td>\n",
       "      <td>AVDA. CIRCUNVALACION</td>\n",
       "      <td>NaN</td>\n",
       "      <td>0</td>\n",
       "      <td>0</td>\n",
       "      <td>0</td>\n",
       "      <td>0</td>\n",
       "      <td>2</td>\n",
       "      <td>1.0</td>\n",
       "      <td>1ER JUZGHADO POLICIA LOCAL TALCA</td>\n",
       "      <td>NaN</td>\n",
       "    </tr>\n",
       "  </tbody>\n",
       "</table>\n",
       "</div>"
      ],
      "text/plain": [
       "        ID      FECHA    MES      HORA         REGION       COMUNA      TIPO  \\\n",
       "0  1586623 2024-01-01  Enero  00:00:00          ÑUBLE     QUIRIHUE  Colisión   \n",
       "1  1583417 2024-01-01  Enero  00:30:00     VALPARAÍSO   SAN FELIPE    Choque   \n",
       "2  1584272 2024-01-01  Enero  00:30:00          ÑUBLE       NIQUEN    Choque   \n",
       "3  1581924 2024-01-01  Enero  00:45:00  METROPOLITANA  PUENTE ALTO  Colisión   \n",
       "4  1581883 2024-01-01  Enero  01:00:00          MAULE        TALCA  Colisión   \n",
       "\n",
       "                                               CAUSA  SECTOR  \\\n",
       "0  Conducción no atento condiciones transito momento  URBANO   \n",
       "1  Conducción no atento condiciones transito momento  URBANO   \n",
       "2                       Animales sueltos via publica   RURAL   \n",
       "3  Conducción no atento condiciones transito momento  URBANO   \n",
       "4               Conducción por izquierda eje calzada  URBANO   \n",
       "\n",
       "                    CALLE_1                  CALLE_2      KM  FALLECIDO  \\\n",
       "0     JUAN ANTONIO GONZALEZ              ARTURO PRAT     NaN          0   \n",
       "1                AVDA.MAIPU  AVDA.BERNARDO O´HIGGINS     NaN          0   \n",
       "2                       NaN                      NaN     354          0   \n",
       "3  LOS COMERCIANTES => PSJE      LA BALANZA => CALLE                  0   \n",
       "4                 5 ORIENTE     AVDA. CIRCUNVALACION     NaN          0   \n",
       "\n",
       "   GRAVE  M_GRAVE  LEVE  ILESO  PARTE_NRO  \\\n",
       "0      0        0     3      0        1.0   \n",
       "1      0        0     0      2        1.0   \n",
       "2      0        0     0      1        1.0   \n",
       "3      1        0     0      1        7.0   \n",
       "4      0        0     0      2        1.0   \n",
       "\n",
       "                                 TRIBUNAL        RUTA  \n",
       "0                 FISCALIA LOCAL QUIRIHUE         NaN  \n",
       "1        JUZGADO POLICIA LOCAL SAN FELIPE         NaN  \n",
       "2                  JUZGADO POLICIA ÑIQUEN  Ruta 5 Sur  \n",
       "3  FISCALIA PRECLASIFICACION REGIONAL SUR         NaN  \n",
       "4        1ER JUZGHADO POLICIA LOCAL TALCA         NaN  "
      ]
     },
     "metadata": {},
     "output_type": "display_data"
    },
    {
     "name": "stdout",
     "output_type": "stream",
     "text": [
      "\n",
      "Columnas y primeras filas - Primer dataframe accidentes 2025:\n",
      "['ID', 'FECHA', 'MES', 'HORA', 'REGION', 'COMUNA', 'TIPO', 'CAUSA', 'SECTOR', 'CALLE_1', 'CALLE_2', 'KM', 'FALLECIDO', 'GRAVE', 'M_GRAVE', 'LEVE', 'ILESO', 'PARTE_NRO', 'TRIBUNAL']\n"
     ]
    },
    {
     "data": {
      "text/html": [
       "<div>\n",
       "<style scoped>\n",
       "    .dataframe tbody tr th:only-of-type {\n",
       "        vertical-align: middle;\n",
       "    }\n",
       "\n",
       "    .dataframe tbody tr th {\n",
       "        vertical-align: top;\n",
       "    }\n",
       "\n",
       "    .dataframe thead th {\n",
       "        text-align: right;\n",
       "    }\n",
       "</style>\n",
       "<table border=\"1\" class=\"dataframe\">\n",
       "  <thead>\n",
       "    <tr style=\"text-align: right;\">\n",
       "      <th></th>\n",
       "      <th>ID</th>\n",
       "      <th>FECHA</th>\n",
       "      <th>MES</th>\n",
       "      <th>HORA</th>\n",
       "      <th>REGION</th>\n",
       "      <th>COMUNA</th>\n",
       "      <th>TIPO</th>\n",
       "      <th>CAUSA</th>\n",
       "      <th>SECTOR</th>\n",
       "      <th>CALLE_1</th>\n",
       "      <th>CALLE_2</th>\n",
       "      <th>KM</th>\n",
       "      <th>FALLECIDO</th>\n",
       "      <th>GRAVE</th>\n",
       "      <th>M_GRAVE</th>\n",
       "      <th>LEVE</th>\n",
       "      <th>ILESO</th>\n",
       "      <th>PARTE_NRO</th>\n",
       "      <th>TRIBUNAL</th>\n",
       "    </tr>\n",
       "  </thead>\n",
       "  <tbody>\n",
       "    <tr>\n",
       "      <th>0</th>\n",
       "      <td>5660</td>\n",
       "      <td>2025-01-01</td>\n",
       "      <td>ENERO</td>\n",
       "      <td>00:01</td>\n",
       "      <td>METROPOLITANA</td>\n",
       "      <td>COLINA</td>\n",
       "      <td>CHOQUE</td>\n",
       "      <td>ADELANTAMIENTO EN CRUCE, CURVA, CUESTA, PUENTE</td>\n",
       "      <td>RURAL</td>\n",
       "      <td>RUTA CH 57</td>\n",
       "      <td>NaN</td>\n",
       "      <td>33.2</td>\n",
       "      <td>0</td>\n",
       "      <td>0</td>\n",
       "      <td>0</td>\n",
       "      <td>1</td>\n",
       "      <td>0</td>\n",
       "      <td>&lt;NA&gt;</td>\n",
       "      <td>FISCALIA LOCAL CHACABUCO</td>\n",
       "    </tr>\n",
       "    <tr>\n",
       "      <th>1</th>\n",
       "      <td>3703</td>\n",
       "      <td>2025-01-01</td>\n",
       "      <td>ENERO</td>\n",
       "      <td>00:01</td>\n",
       "      <td>METROPOLITANA</td>\n",
       "      <td>RENCA</td>\n",
       "      <td>CHOQUE</td>\n",
       "      <td>CONDUCTOR NO ATENTO CONDICIONES TRANSITO MOMENTO</td>\n",
       "      <td>URBANO</td>\n",
       "      <td>AURORA VALDES</td>\n",
       "      <td>NaN</td>\n",
       "      <td>1449</td>\n",
       "      <td>0</td>\n",
       "      <td>0</td>\n",
       "      <td>0</td>\n",
       "      <td>0</td>\n",
       "      <td>1</td>\n",
       "      <td>&lt;NA&gt;</td>\n",
       "      <td>JUZGADO POLICIA LOCAL RENCA</td>\n",
       "    </tr>\n",
       "    <tr>\n",
       "      <th>2</th>\n",
       "      <td>5995</td>\n",
       "      <td>2025-01-01</td>\n",
       "      <td>ENERO</td>\n",
       "      <td>00:01</td>\n",
       "      <td>LIB. BDO. O´HIGGINS</td>\n",
       "      <td>MOSTAZAL</td>\n",
       "      <td>CHOQUE</td>\n",
       "      <td>CONDUCTOR EN ESTADO DE EBRIEDAD</td>\n",
       "      <td>URBANO</td>\n",
       "      <td>AVENIDA INDEPENDENCIA</td>\n",
       "      <td>HISTORIADOR</td>\n",
       "      <td>NaN</td>\n",
       "      <td>0</td>\n",
       "      <td>0</td>\n",
       "      <td>0</td>\n",
       "      <td>0</td>\n",
       "      <td>1</td>\n",
       "      <td>&lt;NA&gt;</td>\n",
       "      <td>FISCALIA LOCAL GRANEROS</td>\n",
       "    </tr>\n",
       "    <tr>\n",
       "      <th>3</th>\n",
       "      <td>3103</td>\n",
       "      <td>2025-01-01</td>\n",
       "      <td>ENERO</td>\n",
       "      <td>01:01</td>\n",
       "      <td>MAULE</td>\n",
       "      <td>MAULE</td>\n",
       "      <td>IMPACTO CON ANIMAL</td>\n",
       "      <td>ANIMALES SUELTOS VIA PUBLICA</td>\n",
       "      <td>RURAL</td>\n",
       "      <td>RUTA 5 SUR</td>\n",
       "      <td>NaN</td>\n",
       "      <td>266</td>\n",
       "      <td>0</td>\n",
       "      <td>0</td>\n",
       "      <td>0</td>\n",
       "      <td>1</td>\n",
       "      <td>0</td>\n",
       "      <td>&lt;NA&gt;</td>\n",
       "      <td>JUZGADO POLICIA LOCAL MAULE</td>\n",
       "    </tr>\n",
       "    <tr>\n",
       "      <th>4</th>\n",
       "      <td>3192</td>\n",
       "      <td>2025-01-01</td>\n",
       "      <td>ENERO</td>\n",
       "      <td>01:01</td>\n",
       "      <td>VALPARAÍSO</td>\n",
       "      <td>VALPARAISO</td>\n",
       "      <td>COLISION LATERAL</td>\n",
       "      <td>ADELANTAMIENTO SIN EL ESPACIO</td>\n",
       "      <td>URBANO</td>\n",
       "      <td>AVENIDA BRASIL</td>\n",
       "      <td>AVENIDA FRANCIA</td>\n",
       "      <td>NaN</td>\n",
       "      <td>0</td>\n",
       "      <td>0</td>\n",
       "      <td>0</td>\n",
       "      <td>0</td>\n",
       "      <td>2</td>\n",
       "      <td>&lt;NA&gt;</td>\n",
       "      <td>3ER. JUZGADO POLICIA LOCAL VALPARAISO</td>\n",
       "    </tr>\n",
       "  </tbody>\n",
       "</table>\n",
       "</div>"
      ],
      "text/plain": [
       "     ID      FECHA    MES   HORA               REGION      COMUNA  \\\n",
       "0  5660 2025-01-01  ENERO  00:01        METROPOLITANA      COLINA   \n",
       "1  3703 2025-01-01  ENERO  00:01        METROPOLITANA       RENCA   \n",
       "2  5995 2025-01-01  ENERO  00:01  LIB. BDO. O´HIGGINS    MOSTAZAL   \n",
       "3  3103 2025-01-01  ENERO  01:01                MAULE       MAULE   \n",
       "4  3192 2025-01-01  ENERO  01:01           VALPARAÍSO  VALPARAISO   \n",
       "\n",
       "                 TIPO                                             CAUSA  \\\n",
       "0              CHOQUE    ADELANTAMIENTO EN CRUCE, CURVA, CUESTA, PUENTE   \n",
       "1              CHOQUE  CONDUCTOR NO ATENTO CONDICIONES TRANSITO MOMENTO   \n",
       "2              CHOQUE                   CONDUCTOR EN ESTADO DE EBRIEDAD   \n",
       "3  IMPACTO CON ANIMAL                      ANIMALES SUELTOS VIA PUBLICA   \n",
       "4    COLISION LATERAL                     ADELANTAMIENTO SIN EL ESPACIO   \n",
       "\n",
       "   SECTOR                CALLE_1          CALLE_2    KM  FALLECIDO  GRAVE  \\\n",
       "0   RURAL             RUTA CH 57              NaN  33.2          0      0   \n",
       "1  URBANO          AURORA VALDES              NaN  1449          0      0   \n",
       "2  URBANO  AVENIDA INDEPENDENCIA      HISTORIADOR   NaN          0      0   \n",
       "3   RURAL             RUTA 5 SUR              NaN   266          0      0   \n",
       "4  URBANO         AVENIDA BRASIL  AVENIDA FRANCIA   NaN          0      0   \n",
       "\n",
       "   M_GRAVE  LEVE  ILESO PARTE_NRO                               TRIBUNAL  \n",
       "0        0     1      0      <NA>               FISCALIA LOCAL CHACABUCO  \n",
       "1        0     0      1      <NA>            JUZGADO POLICIA LOCAL RENCA  \n",
       "2        0     0      1      <NA>                FISCALIA LOCAL GRANEROS  \n",
       "3        0     1      0      <NA>            JUZGADO POLICIA LOCAL MAULE  \n",
       "4        0     0      2      <NA>  3ER. JUZGADO POLICIA LOCAL VALPARAISO  "
      ]
     },
     "metadata": {},
     "output_type": "display_data"
    },
    {
     "name": "stdout",
     "output_type": "stream",
     "text": [
      "\n",
      "Columnas y primeras filas - Primer dataframe personas 2024:\n",
      "['ID', 'FECHA', 'MES', 'HORA', 'REGION', 'COMUNA', 'CALIDAD', 'SEXO', 'EDAD', 'RESULTADO']\n"
     ]
    },
    {
     "data": {
      "text/html": [
       "<div>\n",
       "<style scoped>\n",
       "    .dataframe tbody tr th:only-of-type {\n",
       "        vertical-align: middle;\n",
       "    }\n",
       "\n",
       "    .dataframe tbody tr th {\n",
       "        vertical-align: top;\n",
       "    }\n",
       "\n",
       "    .dataframe thead th {\n",
       "        text-align: right;\n",
       "    }\n",
       "</style>\n",
       "<table border=\"1\" class=\"dataframe\">\n",
       "  <thead>\n",
       "    <tr style=\"text-align: right;\">\n",
       "      <th></th>\n",
       "      <th>ID</th>\n",
       "      <th>FECHA</th>\n",
       "      <th>MES</th>\n",
       "      <th>HORA</th>\n",
       "      <th>REGION</th>\n",
       "      <th>COMUNA</th>\n",
       "      <th>CALIDAD</th>\n",
       "      <th>SEXO</th>\n",
       "      <th>EDAD</th>\n",
       "      <th>RESULTADO</th>\n",
       "    </tr>\n",
       "  </thead>\n",
       "  <tbody>\n",
       "    <tr>\n",
       "      <th>0</th>\n",
       "      <td>1586623</td>\n",
       "      <td>2024-01-01</td>\n",
       "      <td>Enero</td>\n",
       "      <td>00:00:00</td>\n",
       "      <td>ÑUBLE</td>\n",
       "      <td>QUIRIHUE</td>\n",
       "      <td>CONDUCTOR</td>\n",
       "      <td>MASCULINO</td>\n",
       "      <td>40.0</td>\n",
       "      <td>LEVE</td>\n",
       "    </tr>\n",
       "    <tr>\n",
       "      <th>1</th>\n",
       "      <td>1586623</td>\n",
       "      <td>2024-01-01</td>\n",
       "      <td>Enero</td>\n",
       "      <td>00:00:00</td>\n",
       "      <td>ÑUBLE</td>\n",
       "      <td>QUIRIHUE</td>\n",
       "      <td>PASAJERO</td>\n",
       "      <td>FEMENINO</td>\n",
       "      <td>24.0</td>\n",
       "      <td>LEVE</td>\n",
       "    </tr>\n",
       "    <tr>\n",
       "      <th>2</th>\n",
       "      <td>1586623</td>\n",
       "      <td>2024-01-01</td>\n",
       "      <td>Enero</td>\n",
       "      <td>00:00:00</td>\n",
       "      <td>ÑUBLE</td>\n",
       "      <td>QUIRIHUE</td>\n",
       "      <td>CONDUCTOR</td>\n",
       "      <td>MASCULINO</td>\n",
       "      <td>23.0</td>\n",
       "      <td>LEVE</td>\n",
       "    </tr>\n",
       "    <tr>\n",
       "      <th>3</th>\n",
       "      <td>1583417</td>\n",
       "      <td>2024-01-01</td>\n",
       "      <td>Enero</td>\n",
       "      <td>00:30:00</td>\n",
       "      <td>VALPARAÍSO</td>\n",
       "      <td>SAN FELIPE</td>\n",
       "      <td>CONDUCTOR</td>\n",
       "      <td>MASCULINO</td>\n",
       "      <td>35.0</td>\n",
       "      <td>ILESO</td>\n",
       "    </tr>\n",
       "    <tr>\n",
       "      <th>4</th>\n",
       "      <td>1583417</td>\n",
       "      <td>2024-01-01</td>\n",
       "      <td>Enero</td>\n",
       "      <td>00:30:00</td>\n",
       "      <td>VALPARAÍSO</td>\n",
       "      <td>SAN FELIPE</td>\n",
       "      <td>CONDUCTOR</td>\n",
       "      <td>MASCULINO</td>\n",
       "      <td>NaN</td>\n",
       "      <td>ILESO</td>\n",
       "    </tr>\n",
       "  </tbody>\n",
       "</table>\n",
       "</div>"
      ],
      "text/plain": [
       "        ID      FECHA    MES      HORA      REGION      COMUNA    CALIDAD  \\\n",
       "0  1586623 2024-01-01  Enero  00:00:00       ÑUBLE    QUIRIHUE  CONDUCTOR   \n",
       "1  1586623 2024-01-01  Enero  00:00:00       ÑUBLE    QUIRIHUE   PASAJERO   \n",
       "2  1586623 2024-01-01  Enero  00:00:00       ÑUBLE    QUIRIHUE  CONDUCTOR   \n",
       "3  1583417 2024-01-01  Enero  00:30:00  VALPARAÍSO  SAN FELIPE  CONDUCTOR   \n",
       "4  1583417 2024-01-01  Enero  00:30:00  VALPARAÍSO  SAN FELIPE  CONDUCTOR   \n",
       "\n",
       "        SEXO  EDAD RESULTADO  \n",
       "0  MASCULINO  40.0      LEVE  \n",
       "1   FEMENINO  24.0      LEVE  \n",
       "2  MASCULINO  23.0      LEVE  \n",
       "3  MASCULINO  35.0     ILESO  \n",
       "4  MASCULINO   NaN     ILESO  "
      ]
     },
     "metadata": {},
     "output_type": "display_data"
    },
    {
     "name": "stdout",
     "output_type": "stream",
     "text": [
      "\n",
      "Columnas y primeras filas - Primer dataframe personas 2025:\n",
      "['ID', 'FECHA', 'MES', 'HORA', 'REGION', 'COMUNA', 'CALIDAD', 'SEXO', 'EDAD', 'RESULTADO']\n"
     ]
    },
    {
     "data": {
      "text/html": [
       "<div>\n",
       "<style scoped>\n",
       "    .dataframe tbody tr th:only-of-type {\n",
       "        vertical-align: middle;\n",
       "    }\n",
       "\n",
       "    .dataframe tbody tr th {\n",
       "        vertical-align: top;\n",
       "    }\n",
       "\n",
       "    .dataframe thead th {\n",
       "        text-align: right;\n",
       "    }\n",
       "</style>\n",
       "<table border=\"1\" class=\"dataframe\">\n",
       "  <thead>\n",
       "    <tr style=\"text-align: right;\">\n",
       "      <th></th>\n",
       "      <th>ID</th>\n",
       "      <th>FECHA</th>\n",
       "      <th>MES</th>\n",
       "      <th>HORA</th>\n",
       "      <th>REGION</th>\n",
       "      <th>COMUNA</th>\n",
       "      <th>CALIDAD</th>\n",
       "      <th>SEXO</th>\n",
       "      <th>EDAD</th>\n",
       "      <th>RESULTADO</th>\n",
       "    </tr>\n",
       "  </thead>\n",
       "  <tbody>\n",
       "    <tr>\n",
       "      <th>0</th>\n",
       "      <td>3703</td>\n",
       "      <td>2025-01-01</td>\n",
       "      <td>ENERO</td>\n",
       "      <td>00:01</td>\n",
       "      <td>METROPOLITANA</td>\n",
       "      <td>RENCA</td>\n",
       "      <td>SE DA A LA FUGA</td>\n",
       "      <td>MASCULINO</td>\n",
       "      <td>NaN</td>\n",
       "      <td>ILESO</td>\n",
       "    </tr>\n",
       "    <tr>\n",
       "      <th>1</th>\n",
       "      <td>5995</td>\n",
       "      <td>2025-01-01</td>\n",
       "      <td>ENERO</td>\n",
       "      <td>00:01</td>\n",
       "      <td>LIB. BDO. O´HIGGINS</td>\n",
       "      <td>MOSTAZAL</td>\n",
       "      <td>CONDUCTOR</td>\n",
       "      <td>MASCULINO</td>\n",
       "      <td>16.0</td>\n",
       "      <td>ILESO</td>\n",
       "    </tr>\n",
       "    <tr>\n",
       "      <th>2</th>\n",
       "      <td>5660</td>\n",
       "      <td>2025-01-01</td>\n",
       "      <td>ENERO</td>\n",
       "      <td>00:01</td>\n",
       "      <td>METROPOLITANA</td>\n",
       "      <td>COLINA</td>\n",
       "      <td>CONDUCTOR</td>\n",
       "      <td>MASCULINO</td>\n",
       "      <td>46.0</td>\n",
       "      <td>LEVE</td>\n",
       "    </tr>\n",
       "    <tr>\n",
       "      <th>3</th>\n",
       "      <td>3192</td>\n",
       "      <td>2025-01-01</td>\n",
       "      <td>ENERO</td>\n",
       "      <td>01:01</td>\n",
       "      <td>VALPARAÍSO</td>\n",
       "      <td>VALPARAISO</td>\n",
       "      <td>CONDUCTOR</td>\n",
       "      <td>MASCULINO</td>\n",
       "      <td>31.0</td>\n",
       "      <td>ILESO</td>\n",
       "    </tr>\n",
       "    <tr>\n",
       "      <th>4</th>\n",
       "      <td>3192</td>\n",
       "      <td>2025-01-01</td>\n",
       "      <td>ENERO</td>\n",
       "      <td>01:01</td>\n",
       "      <td>VALPARAÍSO</td>\n",
       "      <td>VALPARAISO</td>\n",
       "      <td>CONDUCTOR</td>\n",
       "      <td>MASCULINO</td>\n",
       "      <td>29.0</td>\n",
       "      <td>ILESO</td>\n",
       "    </tr>\n",
       "  </tbody>\n",
       "</table>\n",
       "</div>"
      ],
      "text/plain": [
       "     ID      FECHA    MES   HORA               REGION      COMUNA  \\\n",
       "0  3703 2025-01-01  ENERO  00:01        METROPOLITANA       RENCA   \n",
       "1  5995 2025-01-01  ENERO  00:01  LIB. BDO. O´HIGGINS    MOSTAZAL   \n",
       "2  5660 2025-01-01  ENERO  00:01        METROPOLITANA      COLINA   \n",
       "3  3192 2025-01-01  ENERO  01:01           VALPARAÍSO  VALPARAISO   \n",
       "4  3192 2025-01-01  ENERO  01:01           VALPARAÍSO  VALPARAISO   \n",
       "\n",
       "           CALIDAD       SEXO  EDAD RESULTADO  \n",
       "0  SE DA A LA FUGA  MASCULINO   NaN     ILESO  \n",
       "1        CONDUCTOR  MASCULINO  16.0     ILESO  \n",
       "2        CONDUCTOR  MASCULINO  46.0      LEVE  \n",
       "3        CONDUCTOR  MASCULINO  31.0     ILESO  \n",
       "4        CONDUCTOR  MASCULINO  29.0     ILESO  "
      ]
     },
     "metadata": {},
     "output_type": "display_data"
    }
   ],
   "source": [
    "import pandas as pd\n",
    "from sklearn.preprocessing import LabelEncoder\n",
    "\n",
    "# --- 1. Estandarizar nombres de columnas ---\n",
    "\n",
    "# Para 2024 (accidentes)\n",
    "for df in dfs_acc_2024:\n",
    "    df.rename(columns={\n",
    "        'Idaccidente': 'ID',\n",
    "        'Fecha': 'FECHA',\n",
    "        'Mes': 'MES',\n",
    "        'Hora': 'HORA',\n",
    "        'COMUNA': 'COMUNA',\n",
    "        'Región': 'REGION',\n",
    "        'Accdtes.': 'TIPO',\n",
    "        'Causas': 'CAUSA',\n",
    "        'Urbano/Rural': 'SECTOR',\n",
    "        'Calleuno': 'CALLE_1',\n",
    "        'Calledos': 'CALLE_2',\n",
    "        'Ubicación km': 'KM',\n",
    "        'Muertos': 'FALLECIDO',\n",
    "        'Graves': 'GRAVE',\n",
    "        'M/Grave': 'M_GRAVE',\n",
    "        'Leves': 'LEVE',\n",
    "        'Ilesos': 'ILESO',\n",
    "        'Parte Nro.': 'PARTE_NRO',\n",
    "        'Tribunal': 'TRIBUNAL',\n",
    "        # Renombrar Ruta a RUTA para mantener consistencia\n",
    "        'Ruta': 'RUTA'\n",
    "    }, inplace=True)\n",
    "\n",
    "# Para 2024 (personas)\n",
    "for df in dfs_perso_2024:\n",
    "    df.rename(columns={\n",
    "        'Idaccidente': 'ID',\n",
    "        'Fecha': 'FECHA',\n",
    "        'Mes': 'MES',\n",
    "        'Hora': 'HORA',\n",
    "        'COMUNA': 'COMUNA',\n",
    "        'Región': 'REGION',\n",
    "        'Calidad': 'CALIDAD',\n",
    "        'Sexo': 'SEXO',\n",
    "        'Edad': 'EDAD',\n",
    "        'Resultado': 'RESULTADO'\n",
    "    }, inplace=True)\n",
    "\n",
    "# Para 2025 (accidentes)\n",
    "for df in dfs_acc_2025:\n",
    "    df.rename(columns={\n",
    "        'Región': 'REGION',\n",
    "        'M/GRAVE': 'M_GRAVE'  # Asegura el renombrado correcto si aparece como 'M/GRAVE'\n",
    "    }, inplace=True)\n",
    "\n",
    "# Para 2025 (personas) - renombrar solo 'Región'\n",
    "for df in dfs_perso_2025:\n",
    "    df.rename(columns={\n",
    "        'Región': 'REGION',\n",
    "        'PARTE NRO.': 'PARTE_NRO'\n",
    "    }, inplace=True)\n",
    "\n",
    "# --- Mantener solo columnas comunes/equivalentes ---\n",
    "\n",
    "# Columnas comunes para 2024 accidentes, incluyendo RUTA\n",
    "columnas_comunes_accidentes_2024 = [\n",
    "    'ID',\n",
    "    'FECHA',\n",
    "    'MES',\n",
    "    'HORA',\n",
    "    'REGION',\n",
    "    'COMUNA',\n",
    "    'TIPO',\n",
    "    'CAUSA',\n",
    "    'SECTOR',\n",
    "    'CALLE_1',\n",
    "    'CALLE_2',\n",
    "    'KM',\n",
    "    'FALLECIDO',\n",
    "    'GRAVE',\n",
    "    'M_GRAVE',\n",
    "    'LEVE',\n",
    "    'ILESO',\n",
    "    'PARTE_NRO',\n",
    "    'TRIBUNAL',\n",
    "    'RUTA'  # Aquí incluimos Ruta para 2024\n",
    "]\n",
    "\n",
    "# Columnas comunes para 2025 accidentes (sin RUTA)\n",
    "columnas_comunes_accidentes_2025 = [\n",
    "    'ID',\n",
    "    'FECHA',\n",
    "    'MES',\n",
    "    'HORA',\n",
    "    'REGION',\n",
    "    'COMUNA',\n",
    "    'TIPO',\n",
    "    'CAUSA',\n",
    "    'SECTOR',\n",
    "    'CALLE_1',\n",
    "    'CALLE_2',\n",
    "    'KM',\n",
    "    'FALLECIDO',\n",
    "    'GRAVE',\n",
    "    'M_GRAVE',\n",
    "    'LEVE',\n",
    "    'ILESO',\n",
    "    'PARTE_NRO',\n",
    "    'TRIBUNAL'\n",
    "]\n",
    "\n",
    "# Personas: columnas en común\n",
    "columnas_comunes_personas = [\n",
    "    'ID', 'FECHA', 'MES', 'HORA', 'REGION', 'COMUNA',\n",
    "    'CALIDAD', 'SEXO', 'EDAD', 'RESULTADO'\n",
    "]\n",
    "\n",
    "# Filtrar columnas en dataframes de accidentes 2024\n",
    "for i, df in enumerate(dfs_acc_2024):\n",
    "    for col in columnas_comunes_accidentes_2024:\n",
    "        if col not in df.columns:\n",
    "            df[col] = pd.NA\n",
    "    dfs_acc_2024[i] = df[columnas_comunes_accidentes_2024]\n",
    "\n",
    "# Filtrar columnas en dataframes de accidentes 2025\n",
    "for i, df in enumerate(dfs_acc_2025):\n",
    "    for col in columnas_comunes_accidentes_2025:\n",
    "        if col not in df.columns:\n",
    "            df[col] = pd.NA\n",
    "    dfs_acc_2025[i] = df[columnas_comunes_accidentes_2025]\n",
    "\n",
    "# Filtrar columnas en dataframes de personas 2024\n",
    "for i, df in enumerate(dfs_perso_2024):\n",
    "    for col in columnas_comunes_personas:\n",
    "        if col not in df.columns:\n",
    "            df[col] = pd.NA\n",
    "    dfs_perso_2024[i] = df[columnas_comunes_personas]\n",
    "\n",
    "# Filtrar columnas en dataframes de personas 2025\n",
    "for i, df in enumerate(dfs_perso_2025):\n",
    "    for col in columnas_comunes_personas:\n",
    "        if col not in df.columns:\n",
    "            df[col] = pd.NA\n",
    "    dfs_perso_2025[i] = df[columnas_comunes_personas]\n",
    "\n",
    "# --- Verificar renombrado y columnas comunes ---\n",
    "print(\"Columnas y primeras filas - Primer dataframe accidentes 2024:\")\n",
    "print(dfs_acc_2024[0].columns.tolist())\n",
    "display(dfs_acc_2024[0].head())\n",
    "\n",
    "print(\"\\nColumnas y primeras filas - Primer dataframe accidentes 2025:\")\n",
    "print(dfs_acc_2025[0].columns.tolist())\n",
    "display(dfs_acc_2025[0].head())\n",
    "\n",
    "print(\"\\nColumnas y primeras filas - Primer dataframe personas 2024:\")\n",
    "print(dfs_perso_2024[0].columns.tolist())\n",
    "display(dfs_perso_2024[0].head())\n",
    "\n",
    "print(\"\\nColumnas y primeras filas - Primer dataframe personas 2025:\")\n",
    "print(dfs_perso_2025[0].columns.tolist())\n",
    "display(dfs_perso_2025[0].head())\n"
   ]
  },
  {
   "cell_type": "code",
   "execution_count": null,
   "metadata": {},
   "outputs": [],
   "source": []
  },
  {
   "cell_type": "code",
   "execution_count": null,
   "metadata": {},
   "outputs": [],
   "source": []
  },
  {
   "cell_type": "code",
   "execution_count": null,
   "metadata": {},
   "outputs": [],
   "source": []
  },
  {
   "cell_type": "code",
   "execution_count": null,
   "metadata": {},
   "outputs": [],
   "source": []
  }
 ],
 "metadata": {
  "colab": {
   "provenance": []
  },
  "kernelspec": {
   "display_name": "Python 3 (ipykernel)",
   "language": "python",
   "name": "python3"
  },
  "language_info": {
   "codemirror_mode": {
    "name": "ipython",
    "version": 3
   },
   "file_extension": ".py",
   "mimetype": "text/x-python",
   "name": "python",
   "nbconvert_exporter": "python",
   "pygments_lexer": "ipython3",
   "version": "3.13.3"
  }
 },
 "nbformat": 4,
 "nbformat_minor": 4
}
